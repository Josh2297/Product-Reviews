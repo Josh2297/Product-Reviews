{
 "cells": [
  {
   "cell_type": "markdown",
   "id": "71e93082",
   "metadata": {},
   "source": [
    "# COMP47670 Assignment 2"
   ]
  },
  {
   "cell_type": "markdown",
   "id": "226d03cb",
   "metadata": {},
   "source": [
    "### Task 2. Review Sentiment Classification\n",
    "### Task 3. Review Helpfulness Classification"
   ]
  },
  {
   "cell_type": "markdown",
   "id": "0ade7a64",
   "metadata": {},
   "source": [
    "### Comp Number : 21202384"
   ]
  },
  {
   "cell_type": "code",
   "execution_count": 1,
   "id": "8788c3c9",
   "metadata": {},
   "outputs": [],
   "source": [
    "# Import needed libraries \n",
    "import os\n",
    "import json\n",
    "import re # Regular expression library\n",
    "import numpy as np\n",
    "import pandas as pd\n",
    "import matplotlib.pyplot as plt\n",
    "%matplotlib inline\n",
    "import seaborn as sns\n",
    "from sklearn.preprocessing import StandardScaler\n",
    "from sklearn.feature_extraction.text import CountVectorizer, TfidfVectorizer,TfidfTransformer\n",
    "from sklearn.model_selection import cross_val_predict,train_test_split,GridSearchCV\n",
    "from sklearn.metrics import confusion_matrix,accuracy_score,classification_report,precision_recall_curve,recall_score,precision_score,make_scorer,f1_score\n",
    "from sklearn.linear_model import LogisticRegression\n",
    "from sklearn.ensemble import GradientBoostingClassifier\n",
    "import nltk"
   ]
  },
  {
   "cell_type": "code",
   "execution_count": 2,
   "id": "6ff84231",
   "metadata": {},
   "outputs": [
    {
     "data": {
      "text/plain": [
       "dict_keys(['Titles', 'Star_Ratings', 'Reviews Help', 'Reviews'])"
      ]
     },
     "execution_count": 2,
     "metadata": {},
     "output_type": "execute_result"
    }
   ],
   "source": [
    "# Load Data From disk\n",
    "path_to_disk=r'C:\\Users\\DELL\\Documents\\\\'\n",
    "data_dict=json.load(fp=open(path_to_disk+'Product_Reviews\\Reviews_Data.json','r'))\n",
    "data_dict.keys()"
   ]
  },
  {
   "cell_type": "markdown",
   "id": "fe9c20f2",
   "metadata": {},
   "source": [
    "The Saved Json File will be converted to a Pandas DataFrame iwth the Dictionary Keys as Columns and Lists as entries."
   ]
  },
  {
   "cell_type": "code",
   "execution_count": 3,
   "id": "2cd7417a",
   "metadata": {
    "scrolled": true
   },
   "outputs": [
    {
     "name": "stdout",
     "output_type": "stream",
     "text": [
      "No of Reviews Entry: 9244\n"
     ]
    },
    {
     "data": {
      "text/html": [
       "<div>\n",
       "<style scoped>\n",
       "    .dataframe tbody tr th:only-of-type {\n",
       "        vertical-align: middle;\n",
       "    }\n",
       "\n",
       "    .dataframe tbody tr th {\n",
       "        vertical-align: top;\n",
       "    }\n",
       "\n",
       "    .dataframe thead th {\n",
       "        text-align: right;\n",
       "    }\n",
       "</style>\n",
       "<table border=\"1\" class=\"dataframe\">\n",
       "  <thead>\n",
       "    <tr style=\"text-align: right;\">\n",
       "      <th></th>\n",
       "      <th>Titles</th>\n",
       "      <th>Star_Ratings</th>\n",
       "      <th>Reviews Help</th>\n",
       "      <th>Reviews</th>\n",
       "    </tr>\n",
       "  </thead>\n",
       "  <tbody>\n",
       "    <tr>\n",
       "      <th>0</th>\n",
       "      <td>This filter works PERFECT!</td>\n",
       "      <td>5-star</td>\n",
       "      <td>472 out of 477 users found this review helpful</td>\n",
       "      <td>Seriously, I love my Keurig. I love the conven...</td>\n",
       "    </tr>\n",
       "    <tr>\n",
       "      <th>1</th>\n",
       "      <td>This stuff is great for muffins</td>\n",
       "      <td>4-star</td>\n",
       "      <td>17 out of 17 users found this review helpful</td>\n",
       "      <td>There's a recipe on the back of the package fo...</td>\n",
       "    </tr>\n",
       "    <tr>\n",
       "      <th>2</th>\n",
       "      <td>Curiously awful</td>\n",
       "      <td>1-star</td>\n",
       "      <td>1 out of 14 users found this review helpful</td>\n",
       "      <td>Cola is by far my favorite drink. My wife and ...</td>\n",
       "    </tr>\n",
       "    <tr>\n",
       "      <th>3</th>\n",
       "      <td>Rancid!</td>\n",
       "      <td>1-star</td>\n",
       "      <td>23 out of 26 users found this review helpful</td>\n",
       "      <td>I love chia, but I have gotten two different p...</td>\n",
       "    </tr>\n",
       "    <tr>\n",
       "      <th>4</th>\n",
       "      <td>They taste like boogers</td>\n",
       "      <td>1-star</td>\n",
       "      <td>4 out of 19 users found this review helpful</td>\n",
       "      <td>If you don't like the sound of a salty, vinega...</td>\n",
       "    </tr>\n",
       "  </tbody>\n",
       "</table>\n",
       "</div>"
      ],
      "text/plain": [
       "                            Titles Star_Ratings  \\\n",
       "0       This filter works PERFECT!       5-star   \n",
       "1  This stuff is great for muffins       4-star   \n",
       "2                  Curiously awful       1-star   \n",
       "3                          Rancid!       1-star   \n",
       "4          They taste like boogers       1-star   \n",
       "\n",
       "                                     Reviews Help  \\\n",
       "0  472 out of 477 users found this review helpful   \n",
       "1    17 out of 17 users found this review helpful   \n",
       "2     1 out of 14 users found this review helpful   \n",
       "3    23 out of 26 users found this review helpful   \n",
       "4     4 out of 19 users found this review helpful   \n",
       "\n",
       "                                             Reviews  \n",
       "0  Seriously, I love my Keurig. I love the conven...  \n",
       "1  There's a recipe on the back of the package fo...  \n",
       "2  Cola is by far my favorite drink. My wife and ...  \n",
       "3  I love chia, but I have gotten two different p...  \n",
       "4  If you don't like the sound of a salty, vinega...  "
      ]
     },
     "execution_count": 3,
     "metadata": {},
     "output_type": "execute_result"
    }
   ],
   "source": [
    "data=pd.DataFrame(data_dict)\n",
    "print('No of Reviews Entry: {}'.format(len(data)))\n",
    "data.head(5)"
   ]
  },
  {
   "cell_type": "markdown",
   "id": "81d7d065",
   "metadata": {},
   "source": [
    "The DataFrame is shown in the cell above, each entry /Index is a single Review . There are 9244 Review entrys in the Set."
   ]
  },
  {
   "cell_type": "code",
   "execution_count": 4,
   "id": "0651281d",
   "metadata": {},
   "outputs": [
    {
     "data": {
      "text/plain": [
       "Titles          0\n",
       "Star_Ratings    0\n",
       "Reviews Help    0\n",
       "Reviews         0\n",
       "dtype: int64"
      ]
     },
     "execution_count": 4,
     "metadata": {},
     "output_type": "execute_result"
    }
   ],
   "source": [
    "# Check for any missing dta entry\n",
    "data.isnull().sum()"
   ]
  },
  {
   "cell_type": "markdown",
   "id": "51d9f67e",
   "metadata": {},
   "source": [
    "The Cell above shows that there are no missing entry in the set."
   ]
  },
  {
   "cell_type": "code",
   "execution_count": 5,
   "id": "d82f954d",
   "metadata": {},
   "outputs": [
    {
     "data": {
      "text/plain": [
       "Titles          object\n",
       "Star_Ratings    object\n",
       "Reviews Help    object\n",
       "Reviews         object\n",
       "dtype: object"
      ]
     },
     "execution_count": 5,
     "metadata": {},
     "output_type": "execute_result"
    }
   ],
   "source": [
    "# Checking for data types \n",
    "data.dtypes"
   ]
  },
  {
   "cell_type": "markdown",
   "id": "15640955",
   "metadata": {},
   "source": [
    "We check The Data for duplicated entries.If any, it will be assumed that Infomation about a single product appears Multiple times in the dataset. "
   ]
  },
  {
   "cell_type": "code",
   "execution_count": 6,
   "id": "3e3960d0",
   "metadata": {},
   "outputs": [
    {
     "name": "stdout",
     "output_type": "stream",
     "text": [
      "Number of Duplicated Entries in Dataset: 2167\n"
     ]
    },
    {
     "data": {
      "text/html": [
       "<div>\n",
       "<style scoped>\n",
       "    .dataframe tbody tr th:only-of-type {\n",
       "        vertical-align: middle;\n",
       "    }\n",
       "\n",
       "    .dataframe tbody tr th {\n",
       "        vertical-align: top;\n",
       "    }\n",
       "\n",
       "    .dataframe thead th {\n",
       "        text-align: right;\n",
       "    }\n",
       "</style>\n",
       "<table border=\"1\" class=\"dataframe\">\n",
       "  <thead>\n",
       "    <tr style=\"text-align: right;\">\n",
       "      <th></th>\n",
       "      <th>Titles</th>\n",
       "      <th>Star_Ratings</th>\n",
       "      <th>Reviews Help</th>\n",
       "      <th>Reviews</th>\n",
       "    </tr>\n",
       "  </thead>\n",
       "  <tbody>\n",
       "    <tr>\n",
       "      <th>8901</th>\n",
       "      <td>\" A MIRACLE SUPPLEMENT!!\"</td>\n",
       "      <td>5-star</td>\n",
       "      <td>39 out of 47 users found this review helpful</td>\n",
       "      <td>I'm a 32 year old man. Construction Electricia...</td>\n",
       "    </tr>\n",
       "    <tr>\n",
       "      <th>3027</th>\n",
       "      <td>\" A MIRACLE SUPPLEMENT!!\"</td>\n",
       "      <td>5-star</td>\n",
       "      <td>39 out of 47 users found this review helpful</td>\n",
       "      <td>I'm a 32 year old man. Construction Electricia...</td>\n",
       "    </tr>\n",
       "    <tr>\n",
       "      <th>5665</th>\n",
       "      <td>\" A MIRACLE SUPPLEMENT!!\"</td>\n",
       "      <td>5-star</td>\n",
       "      <td>39 out of 47 users found this review helpful</td>\n",
       "      <td>I'm a 32 year old man. Construction Electricia...</td>\n",
       "    </tr>\n",
       "    <tr>\n",
       "      <th>8170</th>\n",
       "      <td>\" A MIRACLE SUPPLEMENT!!\"</td>\n",
       "      <td>5-star</td>\n",
       "      <td>39 out of 47 users found this review helpful</td>\n",
       "      <td>I'm a 32 year old man. Construction Electricia...</td>\n",
       "    </tr>\n",
       "    <tr>\n",
       "      <th>5654</th>\n",
       "      <td>\" A MIRACLE SUPPLEMENT!!\"</td>\n",
       "      <td>5-star</td>\n",
       "      <td>39 out of 47 users found this review helpful</td>\n",
       "      <td>I'm a 32 year old man. Construction Electricia...</td>\n",
       "    </tr>\n",
       "    <tr>\n",
       "      <th>...</th>\n",
       "      <td>...</td>\n",
       "      <td>...</td>\n",
       "      <td>...</td>\n",
       "      <td>...</td>\n",
       "    </tr>\n",
       "    <tr>\n",
       "      <th>1127</th>\n",
       "      <td>you won't miss the salt</td>\n",
       "      <td>4-star</td>\n",
       "      <td>16 out of 16 users found this review helpful</td>\n",
       "      <td>I ordered these chips by accident. I meant to ...</td>\n",
       "    </tr>\n",
       "    <tr>\n",
       "      <th>5164</th>\n",
       "      <td>you won't miss the salt</td>\n",
       "      <td>4-star</td>\n",
       "      <td>16 out of 16 users found this review helpful</td>\n",
       "      <td>I ordered these chips by accident. I meant to ...</td>\n",
       "    </tr>\n",
       "    <tr>\n",
       "      <th>4162</th>\n",
       "      <td>you won't miss the salt</td>\n",
       "      <td>4-star</td>\n",
       "      <td>16 out of 16 users found this review helpful</td>\n",
       "      <td>I ordered these chips by accident. I meant to ...</td>\n",
       "    </tr>\n",
       "    <tr>\n",
       "      <th>7884</th>\n",
       "      <td>you won't miss the salt</td>\n",
       "      <td>4-star</td>\n",
       "      <td>16 out of 16 users found this review helpful</td>\n",
       "      <td>I ordered these chips by accident. I meant to ...</td>\n",
       "    </tr>\n",
       "    <tr>\n",
       "      <th>790</th>\n",
       "      <td>you won't miss the salt</td>\n",
       "      <td>4-star</td>\n",
       "      <td>16 out of 16 users found this review helpful</td>\n",
       "      <td>I ordered these chips by accident. I meant to ...</td>\n",
       "    </tr>\n",
       "  </tbody>\n",
       "</table>\n",
       "<p>2167 rows × 4 columns</p>\n",
       "</div>"
      ],
      "text/plain": [
       "                         Titles Star_Ratings  \\\n",
       "8901  \" A MIRACLE SUPPLEMENT!!\"       5-star   \n",
       "3027  \" A MIRACLE SUPPLEMENT!!\"       5-star   \n",
       "5665  \" A MIRACLE SUPPLEMENT!!\"       5-star   \n",
       "8170  \" A MIRACLE SUPPLEMENT!!\"       5-star   \n",
       "5654  \" A MIRACLE SUPPLEMENT!!\"       5-star   \n",
       "...                         ...          ...   \n",
       "1127    you won't miss the salt       4-star   \n",
       "5164    you won't miss the salt       4-star   \n",
       "4162    you won't miss the salt       4-star   \n",
       "7884    you won't miss the salt       4-star   \n",
       "790     you won't miss the salt       4-star   \n",
       "\n",
       "                                      Reviews Help  \\\n",
       "8901  39 out of 47 users found this review helpful   \n",
       "3027  39 out of 47 users found this review helpful   \n",
       "5665  39 out of 47 users found this review helpful   \n",
       "8170  39 out of 47 users found this review helpful   \n",
       "5654  39 out of 47 users found this review helpful   \n",
       "...                                            ...   \n",
       "1127  16 out of 16 users found this review helpful   \n",
       "5164  16 out of 16 users found this review helpful   \n",
       "4162  16 out of 16 users found this review helpful   \n",
       "7884  16 out of 16 users found this review helpful   \n",
       "790   16 out of 16 users found this review helpful   \n",
       "\n",
       "                                                Reviews  \n",
       "8901  I'm a 32 year old man. Construction Electricia...  \n",
       "3027  I'm a 32 year old man. Construction Electricia...  \n",
       "5665  I'm a 32 year old man. Construction Electricia...  \n",
       "8170  I'm a 32 year old man. Construction Electricia...  \n",
       "5654  I'm a 32 year old man. Construction Electricia...  \n",
       "...                                                 ...  \n",
       "1127  I ordered these chips by accident. I meant to ...  \n",
       "5164  I ordered these chips by accident. I meant to ...  \n",
       "4162  I ordered these chips by accident. I meant to ...  \n",
       "7884  I ordered these chips by accident. I meant to ...  \n",
       "790   I ordered these chips by accident. I meant to ...  \n",
       "\n",
       "[2167 rows x 4 columns]"
      ]
     },
     "execution_count": 6,
     "metadata": {},
     "output_type": "execute_result"
    }
   ],
   "source": [
    "# Check for duplicated Entries\n",
    "print('Number of Duplicated Entries in Dataset: {}'.format(data.duplicated().sum()))\n",
    "# A View of the duplicated entries in sorted order\n",
    "data[data.duplicated()].sort_values(by='Titles')"
   ]
  },
  {
   "cell_type": "markdown",
   "id": "a596a4e3",
   "metadata": {},
   "source": [
    "The cell shows the duplicated entries in the dataset. Duplicated entries are not desirable because they contain redundant information and a repetition of entries. we will drop these entries."
   ]
  },
  {
   "cell_type": "code",
   "execution_count": 7,
   "id": "5c485a0b",
   "metadata": {},
   "outputs": [
    {
     "data": {
      "text/plain": [
       "(7077, 4)"
      ]
     },
     "execution_count": 7,
     "metadata": {},
     "output_type": "execute_result"
    }
   ],
   "source": [
    "# Dropping duplicated columns\n",
    "data.drop_duplicates(inplace=True)\n",
    "data.shape"
   ]
  },
  {
   "cell_type": "markdown",
   "id": "6f815669",
   "metadata": {},
   "source": [
    "There are now 7077 Remaining entries in the dataset after dropping the Duplicated entries."
   ]
  },
  {
   "cell_type": "markdown",
   "id": "00ba9ca9",
   "metadata": {},
   "source": [
    "we check if the title coulmn has any duplicated entry. "
   ]
  },
  {
   "cell_type": "code",
   "execution_count": 8,
   "id": "d5574d14",
   "metadata": {},
   "outputs": [
    {
     "name": "stdout",
     "output_type": "stream",
     "text": [
      "Number of Duplicated Titles in Dataset: 324\n"
     ]
    },
    {
     "data": {
      "text/html": [
       "<div>\n",
       "<style scoped>\n",
       "    .dataframe tbody tr th:only-of-type {\n",
       "        vertical-align: middle;\n",
       "    }\n",
       "\n",
       "    .dataframe tbody tr th {\n",
       "        vertical-align: top;\n",
       "    }\n",
       "\n",
       "    .dataframe thead th {\n",
       "        text-align: right;\n",
       "    }\n",
       "</style>\n",
       "<table border=\"1\" class=\"dataframe\">\n",
       "  <thead>\n",
       "    <tr style=\"text-align: right;\">\n",
       "      <th></th>\n",
       "      <th>Titles</th>\n",
       "      <th>Star_Ratings</th>\n",
       "      <th>Reviews Help</th>\n",
       "      <th>Reviews</th>\n",
       "    </tr>\n",
       "  </thead>\n",
       "  <tbody>\n",
       "    <tr>\n",
       "      <th>5929</th>\n",
       "      <td>#1 superfood</td>\n",
       "      <td>5-star</td>\n",
       "      <td>15 out of 16 users found this review helpful</td>\n",
       "      <td>Nutritional benefits of Chia seeds are amazing...</td>\n",
       "    </tr>\n",
       "    <tr>\n",
       "      <th>5224</th>\n",
       "      <td>A delicious treat</td>\n",
       "      <td>5-star</td>\n",
       "      <td>31 out of 37 users found this review helpful</td>\n",
       "      <td>Well, since some other user decided they'd pas...</td>\n",
       "    </tr>\n",
       "    <tr>\n",
       "      <th>6041</th>\n",
       "      <td>A delicious treat</td>\n",
       "      <td>5-star</td>\n",
       "      <td>7 out of 13 users found this review helpful</td>\n",
       "      <td>Well, since some other user decided they'd pas...</td>\n",
       "    </tr>\n",
       "    <tr>\n",
       "      <th>9101</th>\n",
       "      <td>A delicious treat</td>\n",
       "      <td>5-star</td>\n",
       "      <td>10 out of 14 users found this review helpful</td>\n",
       "      <td>Well, since some other user decided they'd pas...</td>\n",
       "    </tr>\n",
       "    <tr>\n",
       "      <th>1783</th>\n",
       "      <td>A great product!</td>\n",
       "      <td>5-star</td>\n",
       "      <td>14 out of 16 users found this review helpful</td>\n",
       "      <td>This pinole is a great product! It tastes grea...</td>\n",
       "    </tr>\n",
       "    <tr>\n",
       "      <th>...</th>\n",
       "      <td>...</td>\n",
       "      <td>...</td>\n",
       "      <td>...</td>\n",
       "      <td>...</td>\n",
       "    </tr>\n",
       "    <tr>\n",
       "      <th>5594</th>\n",
       "      <td>not worth the money</td>\n",
       "      <td>1-star</td>\n",
       "      <td>26 out of 30 users found this review helpful</td>\n",
       "      <td>This is a nice idea, but you can only fit half...</td>\n",
       "    </tr>\n",
       "    <tr>\n",
       "      <th>8659</th>\n",
       "      <td>not worth the money</td>\n",
       "      <td>1-star</td>\n",
       "      <td>12 out of 13 users found this review helpful</td>\n",
       "      <td>I have been on low carb diet for years, and i ...</td>\n",
       "    </tr>\n",
       "    <tr>\n",
       "      <th>4868</th>\n",
       "      <td>overpriced</td>\n",
       "      <td>2-star</td>\n",
       "      <td>12 out of 15 users found this review helpful</td>\n",
       "      <td>Product is ok, but I consider it very expensiv...</td>\n",
       "    </tr>\n",
       "    <tr>\n",
       "      <th>8503</th>\n",
       "      <td>rip off</td>\n",
       "      <td>1-star</td>\n",
       "      <td>5 out of 16 users found this review helpful</td>\n",
       "      <td>As much as this sauce is the most definitive a...</td>\n",
       "    </tr>\n",
       "    <tr>\n",
       "      <th>4338</th>\n",
       "      <td>tasteless</td>\n",
       "      <td>2-star</td>\n",
       "      <td>0 out of 16 users found this review helpful</td>\n",
       "      <td>well, do you know how difficult it is to find ...</td>\n",
       "    </tr>\n",
       "  </tbody>\n",
       "</table>\n",
       "<p>324 rows × 4 columns</p>\n",
       "</div>"
      ],
      "text/plain": [
       "                   Titles Star_Ratings  \\\n",
       "5929         #1 superfood       5-star   \n",
       "5224    A delicious treat       5-star   \n",
       "6041    A delicious treat       5-star   \n",
       "9101    A delicious treat       5-star   \n",
       "1783     A great product!       5-star   \n",
       "...                   ...          ...   \n",
       "5594  not worth the money       1-star   \n",
       "8659  not worth the money       1-star   \n",
       "4868           overpriced       2-star   \n",
       "8503              rip off       1-star   \n",
       "4338            tasteless       2-star   \n",
       "\n",
       "                                      Reviews Help  \\\n",
       "5929  15 out of 16 users found this review helpful   \n",
       "5224  31 out of 37 users found this review helpful   \n",
       "6041   7 out of 13 users found this review helpful   \n",
       "9101  10 out of 14 users found this review helpful   \n",
       "1783  14 out of 16 users found this review helpful   \n",
       "...                                            ...   \n",
       "5594  26 out of 30 users found this review helpful   \n",
       "8659  12 out of 13 users found this review helpful   \n",
       "4868  12 out of 15 users found this review helpful   \n",
       "8503   5 out of 16 users found this review helpful   \n",
       "4338   0 out of 16 users found this review helpful   \n",
       "\n",
       "                                                Reviews  \n",
       "5929  Nutritional benefits of Chia seeds are amazing...  \n",
       "5224  Well, since some other user decided they'd pas...  \n",
       "6041  Well, since some other user decided they'd pas...  \n",
       "9101  Well, since some other user decided they'd pas...  \n",
       "1783  This pinole is a great product! It tastes grea...  \n",
       "...                                                 ...  \n",
       "5594  This is a nice idea, but you can only fit half...  \n",
       "8659  I have been on low carb diet for years, and i ...  \n",
       "4868  Product is ok, but I consider it very expensiv...  \n",
       "8503  As much as this sauce is the most definitive a...  \n",
       "4338  well, do you know how difficult it is to find ...  \n",
       "\n",
       "[324 rows x 4 columns]"
      ]
     },
     "execution_count": 8,
     "metadata": {},
     "output_type": "execute_result"
    }
   ],
   "source": [
    "# Check for duplicated title entry\n",
    "print('Number of Duplicated Titles in Dataset: {}'.format(data.Titles.duplicated().sum()))\n",
    "# SElecting duplicated entries to view\n",
    "data[data.Titles.duplicated()].sort_values(by='Titles')"
   ]
  },
  {
   "cell_type": "markdown",
   "id": "3ffd43a0",
   "metadata": {},
   "source": [
    "There are still 324 Duplicated Titles in the Dataset after dropping the general duplicated entries. A closer look shows that the entries differ by different degrees, some differ slightly while some differ Very well. we will retain these entries so that we will not lose important information That may be lost if they are dropped from the dataset."
   ]
  },
  {
   "cell_type": "code",
   "execution_count": 9,
   "id": "4a948bc3",
   "metadata": {},
   "outputs": [
    {
     "data": {
      "text/html": [
       "<div>\n",
       "<style scoped>\n",
       "    .dataframe tbody tr th:only-of-type {\n",
       "        vertical-align: middle;\n",
       "    }\n",
       "\n",
       "    .dataframe tbody tr th {\n",
       "        vertical-align: top;\n",
       "    }\n",
       "\n",
       "    .dataframe thead th {\n",
       "        text-align: right;\n",
       "    }\n",
       "</style>\n",
       "<table border=\"1\" class=\"dataframe\">\n",
       "  <thead>\n",
       "    <tr style=\"text-align: right;\">\n",
       "      <th></th>\n",
       "      <th>Titles</th>\n",
       "      <th>Star_Ratings</th>\n",
       "      <th>Reviews Help</th>\n",
       "      <th>Reviews</th>\n",
       "    </tr>\n",
       "  </thead>\n",
       "  <tbody>\n",
       "    <tr>\n",
       "      <th>0</th>\n",
       "      <td>This filter works PERFECT!</td>\n",
       "      <td>5-star</td>\n",
       "      <td>472 out of 477 users found this review helpful</td>\n",
       "      <td>Seriously, I love my Keurig. I love the conven...</td>\n",
       "    </tr>\n",
       "    <tr>\n",
       "      <th>1</th>\n",
       "      <td>This stuff is great for muffins</td>\n",
       "      <td>4-star</td>\n",
       "      <td>17 out of 17 users found this review helpful</td>\n",
       "      <td>There's a recipe on the back of the package fo...</td>\n",
       "    </tr>\n",
       "    <tr>\n",
       "      <th>2</th>\n",
       "      <td>Curiously awful</td>\n",
       "      <td>1-star</td>\n",
       "      <td>1 out of 14 users found this review helpful</td>\n",
       "      <td>Cola is by far my favorite drink. My wife and ...</td>\n",
       "    </tr>\n",
       "    <tr>\n",
       "      <th>3</th>\n",
       "      <td>Rancid!</td>\n",
       "      <td>1-star</td>\n",
       "      <td>23 out of 26 users found this review helpful</td>\n",
       "      <td>I love chia, but I have gotten two different p...</td>\n",
       "    </tr>\n",
       "    <tr>\n",
       "      <th>4</th>\n",
       "      <td>They taste like boogers</td>\n",
       "      <td>1-star</td>\n",
       "      <td>4 out of 19 users found this review helpful</td>\n",
       "      <td>If you don't like the sound of a salty, vinega...</td>\n",
       "    </tr>\n",
       "  </tbody>\n",
       "</table>\n",
       "</div>"
      ],
      "text/plain": [
       "                            Titles Star_Ratings  \\\n",
       "0       This filter works PERFECT!       5-star   \n",
       "1  This stuff is great for muffins       4-star   \n",
       "2                  Curiously awful       1-star   \n",
       "3                          Rancid!       1-star   \n",
       "4          They taste like boogers       1-star   \n",
       "\n",
       "                                     Reviews Help  \\\n",
       "0  472 out of 477 users found this review helpful   \n",
       "1    17 out of 17 users found this review helpful   \n",
       "2     1 out of 14 users found this review helpful   \n",
       "3    23 out of 26 users found this review helpful   \n",
       "4     4 out of 19 users found this review helpful   \n",
       "\n",
       "                                             Reviews  \n",
       "0  Seriously, I love my Keurig. I love the conven...  \n",
       "1  There's a recipe on the back of the package fo...  \n",
       "2  Cola is by far my favorite drink. My wife and ...  \n",
       "3  I love chia, but I have gotten two different p...  \n",
       "4  If you don't like the sound of a salty, vinega...  "
      ]
     },
     "execution_count": 9,
     "metadata": {},
     "output_type": "execute_result"
    }
   ],
   "source": [
    "data.head(5)"
   ]
  },
  {
   "cell_type": "code",
   "execution_count": 10,
   "id": "2ad193c1",
   "metadata": {},
   "outputs": [
    {
     "data": {
      "text/plain": [
       "<AxesSubplot:title={'center':'Stars Rating Plot'}, xlabel='Star_Ratings', ylabel='Count'>"
      ]
     },
     "execution_count": 10,
     "metadata": {},
     "output_type": "execute_result"
    },
    {
     "data": {
      "image/png": "[encoded data removed]",
      "text/plain": [
       "<Figure size 720x720 with 1 Axes>"
      ]
     },
     "metadata": {},
     "output_type": "display_data"
    }
   ],
   "source": [
    "# Plot of Star Ratings\n",
    "sns.set_style('darkgrid')\n",
    "plt.figure(figsize=(10,10))\n",
    "plt.title('Stars Rating Plot',size=20)\n",
    "sns.histplot(data.Star_Ratings,color='r')"
   ]
  },
  {
   "cell_type": "markdown",
   "id": "35b5475b",
   "metadata": {},
   "source": [
    "The Plot above shows the number of Star Ratings in the dataset.5 Star Ratings have the Highest entries. "
   ]
  },
  {
   "cell_type": "markdown",
   "id": "a02580b5",
   "metadata": {},
   "source": [
    "We will concatenate(Add) the Titles Columns to Reviews Text for Purpose of Analysis."
   ]
  },
  {
   "cell_type": "code",
   "execution_count": 11,
   "id": "2924081d",
   "metadata": {},
   "outputs": [
    {
     "data": {
      "text/html": [
       "<div>\n",
       "<style scoped>\n",
       "    .dataframe tbody tr th:only-of-type {\n",
       "        vertical-align: middle;\n",
       "    }\n",
       "\n",
       "    .dataframe tbody tr th {\n",
       "        vertical-align: top;\n",
       "    }\n",
       "\n",
       "    .dataframe thead th {\n",
       "        text-align: right;\n",
       "    }\n",
       "</style>\n",
       "<table border=\"1\" class=\"dataframe\">\n",
       "  <thead>\n",
       "    <tr style=\"text-align: right;\">\n",
       "      <th></th>\n",
       "      <th>Titles</th>\n",
       "      <th>Star_Ratings</th>\n",
       "      <th>Reviews Help</th>\n",
       "      <th>Reviews</th>\n",
       "      <th>Titles_Reviews</th>\n",
       "    </tr>\n",
       "  </thead>\n",
       "  <tbody>\n",
       "    <tr>\n",
       "      <th>0</th>\n",
       "      <td>This filter works PERFECT!</td>\n",
       "      <td>5-star</td>\n",
       "      <td>472 out of 477 users found this review helpful</td>\n",
       "      <td>Seriously, I love my Keurig. I love the conven...</td>\n",
       "      <td>This filter works PERFECT! Seriously, I love m...</td>\n",
       "    </tr>\n",
       "    <tr>\n",
       "      <th>1</th>\n",
       "      <td>This stuff is great for muffins</td>\n",
       "      <td>4-star</td>\n",
       "      <td>17 out of 17 users found this review helpful</td>\n",
       "      <td>There's a recipe on the back of the package fo...</td>\n",
       "      <td>This stuff is great for muffins There's a reci...</td>\n",
       "    </tr>\n",
       "    <tr>\n",
       "      <th>2</th>\n",
       "      <td>Curiously awful</td>\n",
       "      <td>1-star</td>\n",
       "      <td>1 out of 14 users found this review helpful</td>\n",
       "      <td>Cola is by far my favorite drink. My wife and ...</td>\n",
       "      <td>Curiously awful Cola is by far my favorite dri...</td>\n",
       "    </tr>\n",
       "    <tr>\n",
       "      <th>3</th>\n",
       "      <td>Rancid!</td>\n",
       "      <td>1-star</td>\n",
       "      <td>23 out of 26 users found this review helpful</td>\n",
       "      <td>I love chia, but I have gotten two different p...</td>\n",
       "      <td>Rancid! I love chia, but I have gotten two dif...</td>\n",
       "    </tr>\n",
       "    <tr>\n",
       "      <th>4</th>\n",
       "      <td>They taste like boogers</td>\n",
       "      <td>1-star</td>\n",
       "      <td>4 out of 19 users found this review helpful</td>\n",
       "      <td>If you don't like the sound of a salty, vinega...</td>\n",
       "      <td>They taste like boogers If you don't like the ...</td>\n",
       "    </tr>\n",
       "  </tbody>\n",
       "</table>\n",
       "</div>"
      ],
      "text/plain": [
       "                            Titles Star_Ratings  \\\n",
       "0       This filter works PERFECT!       5-star   \n",
       "1  This stuff is great for muffins       4-star   \n",
       "2                  Curiously awful       1-star   \n",
       "3                          Rancid!       1-star   \n",
       "4          They taste like boogers       1-star   \n",
       "\n",
       "                                     Reviews Help  \\\n",
       "0  472 out of 477 users found this review helpful   \n",
       "1    17 out of 17 users found this review helpful   \n",
       "2     1 out of 14 users found this review helpful   \n",
       "3    23 out of 26 users found this review helpful   \n",
       "4     4 out of 19 users found this review helpful   \n",
       "\n",
       "                                             Reviews  \\\n",
       "0  Seriously, I love my Keurig. I love the conven...   \n",
       "1  There's a recipe on the back of the package fo...   \n",
       "2  Cola is by far my favorite drink. My wife and ...   \n",
       "3  I love chia, but I have gotten two different p...   \n",
       "4  If you don't like the sound of a salty, vinega...   \n",
       "\n",
       "                                      Titles_Reviews  \n",
       "0  This filter works PERFECT! Seriously, I love m...  \n",
       "1  This stuff is great for muffins There's a reci...  \n",
       "2  Curiously awful Cola is by far my favorite dri...  \n",
       "3  Rancid! I love chia, but I have gotten two dif...  \n",
       "4  They taste like boogers If you don't like the ...  "
      ]
     },
     "execution_count": 11,
     "metadata": {},
     "output_type": "execute_result"
    }
   ],
   "source": [
    "# Concatenate Body Titles and Text\n",
    "data['Titles_Reviews']=data.Titles+' '+data.Reviews\n",
    "data.head(5)"
   ]
  },
  {
   "cell_type": "markdown",
   "id": "96e6465e",
   "metadata": {},
   "source": [
    "For the Purposes of Classification, we will clean the Titles_Reviews Column to retain useful and important texts only. "
   ]
  },
  {
   "cell_type": "code",
   "execution_count": 12,
   "id": "5a79e842",
   "metadata": {},
   "outputs": [
    {
     "data": {
      "text/plain": [
       "array(['This filter works PERFECT! Seriously, I love my Keurig. I love the convenience and the coffees. But what I don\\'t love is buying $50 dollars worth of coffee every month. I tried the filter that Keurig gave me with my Platinum B70 model and it made my awesome Guatemalan Coffee I used to brew the \"old fashion way\" into a watered down mess no matter how fine I ground the bean or how much I reduced the cup size. I was skeptical about buying another kcup filter when I saw this offered on Superstore, but the video add on the ekobrew website had me sold. I bought the ekobrew Cup before it was available for sale with high hopes, and it has totally lived up to my expectations! My freshly ground coffee tastes better than any Kcup I have ever had! I forgot how good some of the beans I bought were. No Joke. If you are like me and have a few roasts of beans you just love and don\\'t feel like breaking the bank trying every kcup under the sun to find blends that please you then get it. You won\\'t be sorry. The only negative part is you have to rinse it out but that is no big deal. Just pop the top and tap it on the sink and the grinds come out then rinse. No scrubbing or anything. I may buy another to have one handy to fill while the other is brewing since I make about 3 Kcups worth of coffee in the morning to fill for two travel mugs for the wife and I. THANK YOU ekobrew! …',\n",
       "       \"This stuff is great for muffins There's a recipe on the back of the package for rice flour muffins - I follow it to make the best banana-blueberry muffins that are light and fluffy - just as good as wheat! I usually mix the white rice flour with equal parts brown rice flour, and instead of 1/2 cup fruit juice, I use 3 overly ripe bananas - the recipe hasn't failed me yet! Even better: they freeze really well, so I can make a double batch and pop them into the freezer for later. I've also tried the pie crust recipe - it's OK - instead of rolling it out and trying to get it into the pie pan (it breaks apart too much) I just mix into a ball and smoosh it into the pie pan. …\",\n",
       "       'Curiously awful Cola is by far my favorite drink. My wife and I usually have a debate of Pepsi vs. Coke, me preferring Coke, and neither one of us will ever win. So I saw this bottle and was very hopeful to find something which would stop the argument once and for all. Fentiman\\'s cola comes in a nice looking bottle, it has an old fashioned feel to it, and even the name \"Curiosity\" beckons something forth from the early 1900s -- a certain naivit&eacute; if you will. When I first opened the bottle I found that it was not as heavily carbonated as say my favorite Coke or my wife\\'s Pepsi, something which might prove a boon to the product. I sniffed it, and it had a distinct smell of cheap no-brand colas (to which I have resorted in the past during periods of smaller wallets). That\\'s not to say it was bad, it just is what it is. I took a sip of the liquid and managed to get out the words \"This really isn\\'t too--\" before my face contorted in waves of disgust. It was one of the foulest sodas I have tasted to date, and that includes the old Tab drink. For the first couple of seconds it just tastes like a cheaper cola, but then the aftertaste hits you, and it is vile. I would get this for someone for a gag gift (emphasis on the word \"gag\" here), but I will never purchase another bottle for my own sake. Having spent money on the bottle, however, I did not wish to waste it, so I guzzled the whole thing (this is where the limited carbonation indeed became a boon for the product). This did turn out, in the end, to be a mistake, as every time the carbonation would force a burp I\\'d get nothing of the \"not so bad\" taste from the first couple of seconds, but instead I got all the horrible aftertaste. This may be close to what Cola once was. It is, however, important to remember that it has evolved for a few reasons, and taste is one of those reasons. Give me a Coke any day, or even a Pepsi. …',\n",
       "       \"Rancid! I love chia, but I have gotten two different packages of this brand that were rancid. The expiration dates were over a year away. Superstore doesn't allow food returns, and Navitas said I would have to ship them the seeds for them to check before they would send me new ones. I will still enjoy chia, but I'll avoid this brand from now on. …\",\n",
       "       \"They taste like boogers If you don't like the sound of a salty, vinegary ice pop, this isn't for you. but if you like the sound of frozen boogers, go for it. …\"],\n",
       "      dtype=object)"
      ]
     },
     "execution_count": 12,
     "metadata": {},
     "output_type": "execute_result"
    }
   ],
   "source": [
    "data_text=data.Titles_Reviews.values\n",
    "data_text[:5]"
   ]
  },
  {
   "cell_type": "markdown",
   "id": "f43d0f8b",
   "metadata": {},
   "source": [
    "The cell above shows The first three Review Texts in the DataSet. It contains texts that needs to be cleaned up, we will apply some string preprocessing steps with the help of the Regular Expression and NLTK Libraries to clean up the texts."
   ]
  },
  {
   "cell_type": "code",
   "execution_count": 13,
   "id": "79046a6a",
   "metadata": {},
   "outputs": [
    {
     "data": {
      "text/plain": [
       "['this filter works perfect! seriously, i love my keurig. i love the convenience and the coffees. but what i don\\'t love is buying $50 dollars worth of coffee every month. i tried the filter that keurig gave me with my platinum b70 model and it made my awesome guatemalan coffee i used to brew the \"old fashion way\" into a watered down mess no matter how fine i ground the bean or how much i reduced the cup size. i was skeptical about buying another kcup filter when i saw this offered on superstore, but the video add on the ekobrew website had me sold. i bought the ekobrew cup before it was available for sale with high hopes, and it has totally lived up to my expectations! my freshly ground coffee tastes better than any kcup i have ever had! i forgot how good some of the beans i bought were. no joke. if you are like me and have a few roasts of beans you just love and don\\'t feel like breaking the bank trying every kcup under the sun to find blends that please you then get it. you won\\'t be sorry. the only negative part is you have to rinse it out but that is no big deal. just pop the top and tap it on the sink and the grinds come out then rinse. no scrubbing or anything. i may buy another to have one handy to fill while the other is brewing since i make about 3 kcups worth of coffee in the morning to fill for two travel mugs for the wife and i. thank you ekobrew! …',\n",
       " \"this stuff is great for muffins there's a recipe on the back of the package for rice flour muffins - i follow it to make the best banana-blueberry muffins that are light and fluffy - just as good as wheat! i usually mix the white rice flour with equal parts brown rice flour, and instead of 1/2 cup fruit juice, i use 3 overly ripe bananas - the recipe hasn't failed me yet! even better: they freeze really well, so i can make a double batch and pop them into the freezer for later. i've also tried the pie crust recipe - it's ok - instead of rolling it out and trying to get it into the pie pan (it breaks apart too much) i just mix into a ball and smoosh it into the pie pan. …\",\n",
       " 'curiously awful cola is by far my favorite drink. my wife and i usually have a debate of pepsi vs. coke, me preferring coke, and neither one of us will ever win. so i saw this bottle and was very hopeful to find something which would stop the argument once and for all. fentiman\\'s cola comes in a nice looking bottle, it has an old fashioned feel to it, and even the name \"curiosity\" beckons something forth from the early 1900s -- a certain naivit&eacute; if you will. when i first opened the bottle i found that it was not as heavily carbonated as say my favorite coke or my wife\\'s pepsi, something which might prove a boon to the product. i sniffed it, and it had a distinct smell of cheap no-brand colas (to which i have resorted in the past during periods of smaller wallets). that\\'s not to say it was bad, it just is what it is. i took a sip of the liquid and managed to get out the words \"this really isn\\'t too--\" before my face contorted in waves of disgust. it was one of the foulest sodas i have tasted to date, and that includes the old tab drink. for the first couple of seconds it just tastes like a cheaper cola, but then the aftertaste hits you, and it is vile. i would get this for someone for a gag gift (emphasis on the word \"gag\" here), but i will never purchase another bottle for my own sake. having spent money on the bottle, however, i did not wish to waste it, so i guzzled the whole thing (this is where the limited carbonation indeed became a boon for the product). this did turn out, in the end, to be a mistake, as every time the carbonation would force a burp i\\'d get nothing of the \"not so bad\" taste from the first couple of seconds, but instead i got all the horrible aftertaste. this may be close to what cola once was. it is, however, important to remember that it has evolved for a few reasons, and taste is one of those reasons. give me a coke any day, or even a pepsi. …']"
      ]
     },
     "execution_count": 13,
     "metadata": {},
     "output_type": "execute_result"
    }
   ],
   "source": [
    "# Converting The text to lower case\n",
    "data_text=[text.lower() for text in data_text]\n",
    "data_text[:3]"
   ]
  },
  {
   "cell_type": "markdown",
   "id": "b39dd3c6",
   "metadata": {},
   "source": [
    "There are no more upper case alphabets in the text."
   ]
  },
  {
   "cell_type": "code",
   "execution_count": 14,
   "id": "223a0482",
   "metadata": {},
   "outputs": [
    {
     "data": {
      "text/plain": [
       "[['filter',\n",
       "  'works',\n",
       "  'perfect',\n",
       "  'seriously',\n",
       "  'i',\n",
       "  'love',\n",
       "  'my',\n",
       "  'keurig',\n",
       "  'i',\n",
       "  'love',\n",
       "  'the',\n",
       "  'convenience',\n",
       "  'and',\n",
       "  'the',\n",
       "  'coffees',\n",
       "  'but',\n",
       "  'what',\n",
       "  'i',\n",
       "  'don',\n",
       "  'love',\n",
       "  'is',\n",
       "  'buying',\n",
       "  'dollars',\n",
       "  'worth',\n",
       "  'of',\n",
       "  'coffee',\n",
       "  'every',\n",
       "  'month',\n",
       "  'i',\n",
       "  'tried',\n",
       "  'the',\n",
       "  'filter',\n",
       "  'that',\n",
       "  'keurig',\n",
       "  'gave',\n",
       "  'me',\n",
       "  'with',\n",
       "  'my',\n",
       "  'platinum',\n",
       "  'b70',\n",
       "  'model',\n",
       "  'and',\n",
       "  'it',\n",
       "  'made',\n",
       "  'my',\n",
       "  'awesome',\n",
       "  'guatemalan',\n",
       "  'coffee',\n",
       "  'i',\n",
       "  'used',\n",
       "  'to',\n",
       "  'brew',\n",
       "  'the',\n",
       "  'fashion',\n",
       "  'way',\n",
       "  'into',\n",
       "  'a',\n",
       "  'watered',\n",
       "  'down',\n",
       "  'mess',\n",
       "  'no',\n",
       "  'matter',\n",
       "  'how',\n",
       "  'fine',\n",
       "  'i',\n",
       "  'ground',\n",
       "  'the',\n",
       "  'bean',\n",
       "  'or',\n",
       "  'how',\n",
       "  'much',\n",
       "  'i',\n",
       "  'reduced',\n",
       "  'the',\n",
       "  'cup',\n",
       "  'size',\n",
       "  'i',\n",
       "  'was',\n",
       "  'skeptical',\n",
       "  'about',\n",
       "  'buying',\n",
       "  'another',\n",
       "  'kcup',\n",
       "  'filter',\n",
       "  'when',\n",
       "  'i',\n",
       "  'saw',\n",
       "  'this',\n",
       "  'offered',\n",
       "  'on',\n",
       "  'superstore',\n",
       "  'but',\n",
       "  'the',\n",
       "  'video',\n",
       "  'add',\n",
       "  'on',\n",
       "  'the',\n",
       "  'ekobrew',\n",
       "  'website',\n",
       "  'had',\n",
       "  'me',\n",
       "  'sold',\n",
       "  'i',\n",
       "  'bought',\n",
       "  'the',\n",
       "  'ekobrew',\n",
       "  'cup',\n",
       "  'before',\n",
       "  'it',\n",
       "  'was',\n",
       "  'available',\n",
       "  'for',\n",
       "  'sale',\n",
       "  'with',\n",
       "  'high',\n",
       "  'hopes',\n",
       "  'and',\n",
       "  'it',\n",
       "  'has',\n",
       "  'totally',\n",
       "  'lived',\n",
       "  'up',\n",
       "  'to',\n",
       "  'my',\n",
       "  'expectations',\n",
       "  'my',\n",
       "  'freshly',\n",
       "  'ground',\n",
       "  'coffee',\n",
       "  'tastes',\n",
       "  'better',\n",
       "  'than',\n",
       "  'any',\n",
       "  'kcup',\n",
       "  'i',\n",
       "  'have',\n",
       "  'ever',\n",
       "  'had',\n",
       "  'i',\n",
       "  'forgot',\n",
       "  'how',\n",
       "  'good',\n",
       "  'some',\n",
       "  'of',\n",
       "  'the',\n",
       "  'beans',\n",
       "  'i',\n",
       "  'bought',\n",
       "  'were',\n",
       "  'no',\n",
       "  'joke',\n",
       "  'if',\n",
       "  'you',\n",
       "  'are',\n",
       "  'like',\n",
       "  'me',\n",
       "  'and',\n",
       "  'have',\n",
       "  'a',\n",
       "  'few',\n",
       "  'roasts',\n",
       "  'of',\n",
       "  'beans',\n",
       "  'you',\n",
       "  'just',\n",
       "  'love',\n",
       "  'and',\n",
       "  'don',\n",
       "  'feel',\n",
       "  'like',\n",
       "  'breaking',\n",
       "  'the',\n",
       "  'bank',\n",
       "  'trying',\n",
       "  'every',\n",
       "  'kcup',\n",
       "  'under',\n",
       "  'the',\n",
       "  'sun',\n",
       "  'to',\n",
       "  'find',\n",
       "  'blends',\n",
       "  'that',\n",
       "  'please',\n",
       "  'you',\n",
       "  'then',\n",
       "  'get',\n",
       "  'it',\n",
       "  'you',\n",
       "  'won',\n",
       "  'be',\n",
       "  'sorry',\n",
       "  'the',\n",
       "  'only',\n",
       "  'negative',\n",
       "  'part',\n",
       "  'is',\n",
       "  'you',\n",
       "  'have',\n",
       "  'to',\n",
       "  'rinse',\n",
       "  'it',\n",
       "  'out',\n",
       "  'but',\n",
       "  'that',\n",
       "  'is',\n",
       "  'no',\n",
       "  'big',\n",
       "  'deal',\n",
       "  'just',\n",
       "  'pop',\n",
       "  'the',\n",
       "  'top',\n",
       "  'and',\n",
       "  'tap',\n",
       "  'it',\n",
       "  'on',\n",
       "  'the',\n",
       "  'sink',\n",
       "  'and',\n",
       "  'the',\n",
       "  'grinds',\n",
       "  'come',\n",
       "  'out',\n",
       "  'then',\n",
       "  'rinse',\n",
       "  'no',\n",
       "  'scrubbing',\n",
       "  'or',\n",
       "  'anything',\n",
       "  'i',\n",
       "  'may',\n",
       "  'buy',\n",
       "  'another',\n",
       "  'to',\n",
       "  'have',\n",
       "  'one',\n",
       "  'handy',\n",
       "  'to',\n",
       "  'fill',\n",
       "  'while',\n",
       "  'the',\n",
       "  'other',\n",
       "  'is',\n",
       "  'brewing',\n",
       "  'since',\n",
       "  'i',\n",
       "  'make',\n",
       "  'about',\n",
       "  '3',\n",
       "  'kcups',\n",
       "  'worth',\n",
       "  'of',\n",
       "  'coffee',\n",
       "  'in',\n",
       "  'the',\n",
       "  'morning',\n",
       "  'to',\n",
       "  'fill',\n",
       "  'for',\n",
       "  'two',\n",
       "  'travel',\n",
       "  'mugs',\n",
       "  'for',\n",
       "  'the',\n",
       "  'wife',\n",
       "  'and',\n",
       "  'i',\n",
       "  'thank',\n",
       "  'you',\n",
       "  'ekobrew'],\n",
       " ['stuff',\n",
       "  'is',\n",
       "  'great',\n",
       "  'for',\n",
       "  'muffins',\n",
       "  'there',\n",
       "  'a',\n",
       "  'recipe',\n",
       "  'on',\n",
       "  'the',\n",
       "  'back',\n",
       "  'of',\n",
       "  'the',\n",
       "  'package',\n",
       "  'for',\n",
       "  'rice',\n",
       "  'flour',\n",
       "  'muffins',\n",
       "  'i',\n",
       "  'follow',\n",
       "  'it',\n",
       "  'to',\n",
       "  'make',\n",
       "  'the',\n",
       "  'best',\n",
       "  'banana',\n",
       "  'muffins',\n",
       "  'that',\n",
       "  'are',\n",
       "  'light',\n",
       "  'and',\n",
       "  'fluffy',\n",
       "  'just',\n",
       "  'as',\n",
       "  'good',\n",
       "  'as',\n",
       "  'wheat',\n",
       "  'i',\n",
       "  'usually',\n",
       "  'mix',\n",
       "  'the',\n",
       "  'white',\n",
       "  'rice',\n",
       "  'flour',\n",
       "  'with',\n",
       "  'equal',\n",
       "  'parts',\n",
       "  'brown',\n",
       "  'rice',\n",
       "  'flour',\n",
       "  'and',\n",
       "  'instead',\n",
       "  'of',\n",
       "  '1',\n",
       "  'cup',\n",
       "  'fruit',\n",
       "  'juice',\n",
       "  'i',\n",
       "  'use',\n",
       "  '3',\n",
       "  'overly',\n",
       "  'ripe',\n",
       "  'bananas',\n",
       "  'the',\n",
       "  'recipe',\n",
       "  'hasn',\n",
       "  'failed',\n",
       "  'me',\n",
       "  'yet',\n",
       "  'even',\n",
       "  'better',\n",
       "  'they',\n",
       "  'freeze',\n",
       "  'really',\n",
       "  'well',\n",
       "  'so',\n",
       "  'i',\n",
       "  'can',\n",
       "  'make',\n",
       "  'a',\n",
       "  'double',\n",
       "  'batch',\n",
       "  'and',\n",
       "  'pop',\n",
       "  'them',\n",
       "  'into',\n",
       "  'the',\n",
       "  'freezer',\n",
       "  'for',\n",
       "  'later',\n",
       "  'i',\n",
       "  'also',\n",
       "  'tried',\n",
       "  'the',\n",
       "  'pie',\n",
       "  'crust',\n",
       "  'recipe',\n",
       "  'it',\n",
       "  'ok',\n",
       "  'instead',\n",
       "  'of',\n",
       "  'rolling',\n",
       "  'it',\n",
       "  'out',\n",
       "  'and',\n",
       "  'trying',\n",
       "  'to',\n",
       "  'get',\n",
       "  'it',\n",
       "  'into',\n",
       "  'the',\n",
       "  'pie',\n",
       "  'pan',\n",
       "  'breaks',\n",
       "  'apart',\n",
       "  'too',\n",
       "  'much',\n",
       "  'i',\n",
       "  'just',\n",
       "  'mix',\n",
       "  'into',\n",
       "  'a',\n",
       "  'ball',\n",
       "  'and',\n",
       "  'smoosh',\n",
       "  'it',\n",
       "  'into',\n",
       "  'the',\n",
       "  'pie',\n",
       "  'pan']]"
      ]
     },
     "execution_count": 14,
     "metadata": {},
     "output_type": "execute_result"
    }
   ],
   "source": [
    "# Split the Text using any character other than an alphabet.\n",
    "data_text=[re.findall(r'\\s+(\\w+)',text) for text in data_text]\n",
    "data_text[:2]"
   ]
  },
  {
   "cell_type": "markdown",
   "id": "9b753091",
   "metadata": {},
   "source": [
    "The regular expression r '\\s+(\\w+)' selects only the texts (\\d+) that follows a whitespace (\\s+) it doesnt include any other character as it strips them off the text and discard them,it doesnt include numbers/digits and returns a list of selected words."
   ]
  },
  {
   "cell_type": "markdown",
   "id": "604bf339",
   "metadata": {},
   "source": [
    "Some entries can be considered to be uninformative to be used for sentiment analysis, entries such as Digits/Numbers (Which have been removed from the text using the Regular expresssion above), words with length less than Four and stopwords,These will be removed from the text."
   ]
  },
  {
   "cell_type": "code",
   "execution_count": 15,
   "id": "d5fc61df",
   "metadata": {},
   "outputs": [],
   "source": [
    "# Function to Print the Total Number of words In the text\n",
    "def Get_Count(text):\n",
    "    Count=0;Unique_Count=[];\n",
    "    for t in text:\n",
    "        Count+=len(t);\n",
    "        for x in t:\n",
    "            Unique_Count.append(x)\n",
    "    print('Number of Total words in Text {}'.format(Count))\n",
    "    print('\\nNumber of Unique Words in Text {}'.format(len(set(Unique_Count))))"
   ]
  },
  {
   "cell_type": "code",
   "execution_count": 16,
   "id": "708851a9",
   "metadata": {},
   "outputs": [
    {
     "name": "stdout",
     "output_type": "stream",
     "text": [
      "Number of Total words in Text 1025603\n",
      "\n",
      "Number of Unique Words in Text 25847\n"
     ]
    }
   ],
   "source": [
    "# The Number of Words in Text\n",
    "Get_Count(data_text)"
   ]
  },
  {
   "cell_type": "markdown",
   "id": "83d8279f",
   "metadata": {},
   "source": [
    "There are Over a Million Total words in the text and 25847 Unique Words. we will try to reduce the number of unique words in the text using various methods."
   ]
  },
  {
   "cell_type": "code",
   "execution_count": 17,
   "id": "75b0cb3c",
   "metadata": {},
   "outputs": [],
   "source": [
    "# Function to drop words with (Length) less than a threshold\n",
    "def Drop_Words(text,threshold=3):\n",
    "    t=[[x for x in y if len(x)>threshold] for y in text]\n",
    "    return t"
   ]
  },
  {
   "cell_type": "code",
   "execution_count": 18,
   "id": "57beb1d3",
   "metadata": {},
   "outputs": [
    {
     "data": {
      "text/plain": [
       "[['need',\n",
       "  'little',\n",
       "  'math',\n",
       "  'ensure',\n",
       "  'superstore',\n",
       "  'quantity',\n",
       "  'good',\n",
       "  'deal',\n",
       "  'product',\n",
       "  'gets',\n",
       "  'stars',\n",
       "  'this',\n",
       "  'review',\n",
       "  'more',\n",
       "  'product',\n",
       "  'amount',\n",
       "  'same',\n",
       "  'what',\n",
       "  'typically',\n",
       "  'found',\n",
       "  'grocery',\n",
       "  'stores',\n",
       "  'uploaded',\n",
       "  'image',\n",
       "  'grocery',\n",
       "  'store',\n",
       "  'usually',\n",
       "  'find',\n",
       "  'that',\n",
       "  'contains',\n",
       "  'packets',\n",
       "  'that',\n",
       "  'makes',\n",
       "  'quarts',\n",
       "  'that',\n",
       "  'what',\n",
       "  'getting',\n",
       "  'here',\n",
       "  'getting',\n",
       "  'four',\n",
       "  'cans',\n",
       "  'that',\n",
       "  'each',\n",
       "  'contain',\n",
       "  'packets',\n",
       "  'that',\n",
       "  'make',\n",
       "  'quarts',\n",
       "  'packets',\n",
       "  'store',\n",
       "  'make',\n",
       "  'quarts',\n",
       "  'each',\n",
       "  'superstore',\n",
       "  'packets',\n",
       "  'make',\n",
       "  'only',\n",
       "  'quart',\n",
       "  'each',\n",
       "  'take',\n",
       "  'little',\n",
       "  'math',\n",
       "  'ensure',\n",
       "  'getting',\n",
       "  'decent',\n",
       "  'value',\n",
       "  'store',\n",
       "  'about',\n",
       "  'cents',\n",
       "  'quart',\n",
       "  'based',\n",
       "  'dollar',\n",
       "  'sale',\n",
       "  'price'],\n",
       " ['resist',\n",
       "  'these',\n",
       "  'real',\n",
       "  'flashback',\n",
       "  'they',\n",
       "  'taste',\n",
       "  'just',\n",
       "  'like',\n",
       "  'remember',\n",
       "  'downright',\n",
       "  'addictive',\n",
       "  'everyone',\n",
       "  'will',\n",
       "  'want',\n",
       "  'mooch',\n",
       "  'some',\n",
       "  'from',\n",
       "  'plenty',\n",
       "  'only',\n",
       "  'complaint',\n",
       "  'that',\n",
       "  'these',\n",
       "  'particularly',\n",
       "  'sturdy',\n",
       "  'toothpicks',\n",
       "  'they',\n",
       "  'about',\n",
       "  'flavor'],\n",
       " ['coca',\n",
       "  'need',\n",
       "  'bags',\n",
       "  'just',\n",
       "  'pure',\n",
       "  'whole',\n",
       "  'leaf',\n",
       "  'coca',\n",
       "  'strong',\n",
       "  'flavor',\n",
       "  'dark',\n",
       "  'brew',\n",
       "  'fresh',\n",
       "  'aroma']]"
      ]
     },
     "execution_count": 18,
     "metadata": {},
     "output_type": "execute_result"
    }
   ],
   "source": [
    "# Drop Words with Length Less than 3\n",
    "data_text=Drop_Words(data_text,threshold=3)\n",
    "data_text[-3:]"
   ]
  },
  {
   "cell_type": "code",
   "execution_count": 19,
   "id": "203a5775",
   "metadata": {},
   "outputs": [
    {
     "name": "stdout",
     "output_type": "stream",
     "text": [
      "Number of Total words in Text 581888\n",
      "\n",
      "Number of Unique Words in Text 24230\n"
     ]
    }
   ],
   "source": [
    "# A Count of the Remaining words in text\n",
    "Get_Count(data_text)"
   ]
  },
  {
   "cell_type": "markdown",
   "id": "09abc29f",
   "metadata": {},
   "source": [
    "The Total Number of words in the text have been reduced by half,this implies that words with length less than 3 made up for almost have of the total words in the text."
   ]
  },
  {
   "cell_type": "markdown",
   "id": "462dd386",
   "metadata": {},
   "source": [
    "Stopwords will b removed from text"
   ]
  },
  {
   "cell_type": "code",
   "execution_count": 20,
   "id": "66f9a4e5",
   "metadata": {},
   "outputs": [
    {
     "name": "stderr",
     "output_type": "stream",
     "text": [
      "[nltk_data] Downloading package stopwords to\n",
      "[nltk_data]     C:\\Users\\DELL\\AppData\\Roaming\\nltk_data...\n",
      "[nltk_data]   Package stopwords is already up-to-date!\n"
     ]
    },
    {
     "data": {
      "text/plain": [
       "['i', 'me', 'my', 'myself', 'we', 'our', 'ours', 'ourselves', 'you', \"you're\"]"
      ]
     },
     "execution_count": 20,
     "metadata": {},
     "output_type": "execute_result"
    }
   ],
   "source": [
    "# Loading Stopwords from the NLTK library\n",
    "nltk.download('stopwords') # Downloads Stopwords corpus from NLTK\n",
    "stopwords=nltk.corpus.stopwords.words('english') # Selects only english Stopwords\n",
    "stopwords[:10]"
   ]
  },
  {
   "cell_type": "code",
   "execution_count": 21,
   "id": "97ae6219",
   "metadata": {},
   "outputs": [
    {
     "data": {
      "text/plain": [
       "[['compostable',\n",
       "  'bought',\n",
       "  'bags',\n",
       "  'trading',\n",
       "  'gallon',\n",
       "  'kitchen',\n",
       "  'compost',\n",
       "  'waste',\n",
       "  'collector',\n",
       "  'purchased',\n",
       "  'superstore',\n",
       "  'bags',\n",
       "  'perfectly',\n",
       "  'seem',\n",
       "  'start',\n",
       "  'degrading',\n",
       "  'within',\n",
       "  'days',\n",
       "  'took',\n",
       "  'compost',\n",
       "  'every',\n",
       "  'would',\n",
       "  'fine',\n",
       "  'empty',\n",
       "  'compost',\n",
       "  'bucket',\n",
       "  'twice',\n",
       "  'week',\n",
       "  'lift',\n",
       "  'take',\n",
       "  'outside',\n",
       "  'dripping',\n",
       "  'take',\n",
       "  'whole',\n",
       "  'bucket',\n",
       "  'scrub',\n",
       "  'thoroughly',\n",
       "  'afterwards',\n",
       "  'odor',\n",
       "  'previously',\n",
       "  'used',\n",
       "  'regular',\n",
       "  'plastic',\n",
       "  'shopping',\n",
       "  'leakage',\n",
       "  'almost',\n",
       "  'never',\n",
       "  'problem',\n",
       "  'regular',\n",
       "  'occurance',\n",
       "  'liners',\n",
       "  'like',\n",
       "  'bags',\n",
       "  'biodegradable',\n",
       "  'rather',\n",
       "  'purchasing',\n",
       "  'probably',\n",
       "  'back',\n",
       "  'plastic',\n",
       "  'bags',\n",
       "  'supply',\n",
       "  'runs',\n",
       "  'find',\n",
       "  'sturdier',\n",
       "  'brand',\n",
       "  'suggestions'],\n",
       " ['really',\n",
       "  'great',\n",
       "  'problems',\n",
       "  'aspartame',\n",
       "  'every',\n",
       "  'sugarfree',\n",
       "  'gums',\n",
       "  'love',\n",
       "  'chew',\n",
       "  'steviadent',\n",
       "  'really',\n",
       "  'option',\n",
       "  'unless',\n",
       "  'want',\n",
       "  'tictacs',\n",
       "  'really',\n",
       "  'good',\n",
       "  'although',\n",
       "  'quite',\n",
       "  'expensive',\n",
       "  'completely',\n",
       "  'worth',\n",
       "  'compromise',\n",
       "  'health',\n",
       "  'chewed',\n",
       "  'every',\n",
       "  'lots',\n",
       "  'recently',\n",
       "  'started',\n",
       "  'notice',\n",
       "  'painful',\n",
       "  'lump',\n",
       "  'roof',\n",
       "  'mouth',\n",
       "  'immediate',\n",
       "  'reaction',\n",
       "  'course',\n",
       "  'cancer',\n",
       "  'dentists',\n",
       "  'oral',\n",
       "  'surgeon',\n",
       "  'check',\n",
       "  'confirmed',\n",
       "  'aspartame',\n",
       "  'upset',\n",
       "  'stomach',\n",
       "  'point',\n",
       "  'extreme',\n",
       "  'amount',\n",
       "  'bloating',\n",
       "  'every',\n",
       "  'initially',\n",
       "  'attribute',\n",
       "  'either',\n",
       "  'things',\n",
       "  'aspartame',\n",
       "  'started',\n",
       "  'notice',\n",
       "  'lump',\n",
       "  'bigger',\n",
       "  'painful',\n",
       "  'upon',\n",
       "  'chewing',\n",
       "  'started',\n",
       "  'research',\n",
       "  'aspartame',\n",
       "  'turned',\n",
       "  'culprit',\n",
       "  'ended',\n",
       "  'ordering',\n",
       "  'case',\n",
       "  'steviadent',\n",
       "  'pitched',\n",
       "  'everything',\n",
       "  'owned',\n",
       "  'contained',\n",
       "  'asapartame',\n",
       "  'lump',\n",
       "  'roof',\n",
       "  'mouth',\n",
       "  'disappeared',\n",
       "  'within',\n",
       "  'days',\n",
       "  'ingesting',\n",
       "  'aspartame',\n",
       "  'stomach',\n",
       "  'bloating',\n",
       "  'completely',\n",
       "  'went',\n",
       "  'away',\n",
       "  'worth',\n",
       "  'spending',\n",
       "  'extra',\n",
       "  'gums',\n",
       "  'start',\n",
       "  'making',\n",
       "  'product',\n",
       "  'stevia',\n",
       "  'instead',\n",
       "  'aspartame'],\n",
       " ['need',\n",
       "  'little',\n",
       "  'math',\n",
       "  'ensure',\n",
       "  'superstore',\n",
       "  'quantity',\n",
       "  'good',\n",
       "  'deal',\n",
       "  'product',\n",
       "  'gets',\n",
       "  'stars',\n",
       "  'review',\n",
       "  'product',\n",
       "  'amount',\n",
       "  'typically',\n",
       "  'found',\n",
       "  'grocery',\n",
       "  'stores',\n",
       "  'uploaded',\n",
       "  'image',\n",
       "  'grocery',\n",
       "  'store',\n",
       "  'usually',\n",
       "  'find',\n",
       "  'contains',\n",
       "  'packets',\n",
       "  'makes',\n",
       "  'quarts',\n",
       "  'getting',\n",
       "  'getting',\n",
       "  'four',\n",
       "  'cans',\n",
       "  'contain',\n",
       "  'packets',\n",
       "  'make',\n",
       "  'quarts',\n",
       "  'packets',\n",
       "  'store',\n",
       "  'make',\n",
       "  'quarts',\n",
       "  'superstore',\n",
       "  'packets',\n",
       "  'make',\n",
       "  'quart',\n",
       "  'take',\n",
       "  'little',\n",
       "  'math',\n",
       "  'ensure',\n",
       "  'getting',\n",
       "  'decent',\n",
       "  'value',\n",
       "  'store',\n",
       "  'cents',\n",
       "  'quart',\n",
       "  'based',\n",
       "  'dollar',\n",
       "  'sale',\n",
       "  'price'],\n",
       " ['resist',\n",
       "  'real',\n",
       "  'flashback',\n",
       "  'taste',\n",
       "  'like',\n",
       "  'remember',\n",
       "  'downright',\n",
       "  'addictive',\n",
       "  'everyone',\n",
       "  'want',\n",
       "  'mooch',\n",
       "  'plenty',\n",
       "  'complaint',\n",
       "  'particularly',\n",
       "  'sturdy',\n",
       "  'toothpicks',\n",
       "  'flavor'],\n",
       " ['coca',\n",
       "  'need',\n",
       "  'bags',\n",
       "  'pure',\n",
       "  'whole',\n",
       "  'leaf',\n",
       "  'coca',\n",
       "  'strong',\n",
       "  'flavor',\n",
       "  'dark',\n",
       "  'brew',\n",
       "  'fresh',\n",
       "  'aroma']]"
      ]
     },
     "execution_count": 21,
     "metadata": {},
     "output_type": "execute_result"
    }
   ],
   "source": [
    "# Removing stopwords From News Text\n",
    "data_text=[[word for word in text if word not in stopwords] for text in data_text] # List Comprehension\n",
    "data_text[-5:]"
   ]
  },
  {
   "cell_type": "code",
   "execution_count": 22,
   "id": "ec0700b4",
   "metadata": {},
   "outputs": [
    {
     "name": "stdout",
     "output_type": "stream",
     "text": [
      "Number of Total words in Text 458661\n",
      "\n",
      "Number of Unique Words in Text 24148\n"
     ]
    }
   ],
   "source": [
    "# A Count of the Remaining words in text\n",
    "Get_Count(data_text)"
   ]
  },
  {
   "cell_type": "markdown",
   "id": "f2bd7b22",
   "metadata": {},
   "source": [
    "We will use a custom Downloaded Stopwords List to further remove stopwords from text"
   ]
  },
  {
   "cell_type": "code",
   "execution_count": 23,
   "id": "fd991a39",
   "metadata": {},
   "outputs": [
    {
     "data": {
      "text/plain": [
       "['able', 'about', 'above', 'abroad', 'according']"
      ]
     },
     "execution_count": 23,
     "metadata": {},
     "output_type": "execute_result"
    }
   ],
   "source": [
    "# Load  Custom Stopwords From Text\n",
    "stop=[x.strip().decode() for x in open(r'C:\\Users\\DELL\\Documents\\Words\\stop_words_english.txt','rb')]\n",
    "stop[:5]"
   ]
  },
  {
   "cell_type": "code",
   "execution_count": 24,
   "id": "2c0f4769",
   "metadata": {},
   "outputs": [
    {
     "data": {
      "text/plain": [
       "[['compostable',\n",
       "  'bought',\n",
       "  'bags',\n",
       "  'trading',\n",
       "  'gallon',\n",
       "  'kitchen',\n",
       "  'compost',\n",
       "  'waste',\n",
       "  'collector',\n",
       "  'purchased',\n",
       "  'superstore',\n",
       "  'bags',\n",
       "  'perfectly',\n",
       "  'start',\n",
       "  'degrading',\n",
       "  'days',\n",
       "  'compost',\n",
       "  'fine',\n",
       "  'compost',\n",
       "  'bucket',\n",
       "  'week',\n",
       "  'lift',\n",
       "  'dripping',\n",
       "  'bucket',\n",
       "  'scrub',\n",
       "  'odor',\n",
       "  'regular',\n",
       "  'plastic',\n",
       "  'shopping',\n",
       "  'leakage',\n",
       "  'problem',\n",
       "  'regular',\n",
       "  'occurance',\n",
       "  'liners',\n",
       "  'like',\n",
       "  'bags',\n",
       "  'biodegradable',\n",
       "  'purchasing',\n",
       "  'plastic',\n",
       "  'bags',\n",
       "  'supply',\n",
       "  'runs',\n",
       "  'sturdier',\n",
       "  'brand',\n",
       "  'suggestions'],\n",
       " ['great',\n",
       "  'problems',\n",
       "  'aspartame',\n",
       "  'sugarfree',\n",
       "  'gums',\n",
       "  'love',\n",
       "  'chew',\n",
       "  'steviadent',\n",
       "  'option',\n",
       "  'tictacs',\n",
       "  'good',\n",
       "  'expensive',\n",
       "  'completely',\n",
       "  'worth',\n",
       "  'compromise',\n",
       "  'health',\n",
       "  'chewed',\n",
       "  'lots',\n",
       "  'started',\n",
       "  'notice',\n",
       "  'painful',\n",
       "  'lump',\n",
       "  'roof',\n",
       "  'mouth',\n",
       "  'reaction',\n",
       "  'cancer',\n",
       "  'dentists',\n",
       "  'oral',\n",
       "  'surgeon',\n",
       "  'check',\n",
       "  'confirmed',\n",
       "  'aspartame',\n",
       "  'upset',\n",
       "  'stomach',\n",
       "  'point',\n",
       "  'extreme',\n",
       "  'bloating',\n",
       "  'initially',\n",
       "  'attribute',\n",
       "  'aspartame',\n",
       "  'started',\n",
       "  'notice',\n",
       "  'lump',\n",
       "  'bigger',\n",
       "  'painful',\n",
       "  'chewing',\n",
       "  'started',\n",
       "  'aspartame',\n",
       "  'turned',\n",
       "  'culprit',\n",
       "  'ended',\n",
       "  'ordering',\n",
       "  'case',\n",
       "  'steviadent',\n",
       "  'pitched',\n",
       "  'owned',\n",
       "  'contained',\n",
       "  'asapartame',\n",
       "  'lump',\n",
       "  'roof',\n",
       "  'mouth',\n",
       "  'disappeared',\n",
       "  'days',\n",
       "  'ingesting',\n",
       "  'aspartame',\n",
       "  'stomach',\n",
       "  'bloating',\n",
       "  'completely',\n",
       "  'worth',\n",
       "  'spending',\n",
       "  'extra',\n",
       "  'gums',\n",
       "  'start',\n",
       "  'making',\n",
       "  'product',\n",
       "  'stevia',\n",
       "  'aspartame'],\n",
       " ['math',\n",
       "  'ensure',\n",
       "  'superstore',\n",
       "  'quantity',\n",
       "  'good',\n",
       "  'deal',\n",
       "  'product',\n",
       "  'stars',\n",
       "  'review',\n",
       "  'product',\n",
       "  'typically',\n",
       "  'grocery',\n",
       "  'stores',\n",
       "  'uploaded',\n",
       "  'image',\n",
       "  'grocery',\n",
       "  'store',\n",
       "  'packets',\n",
       "  'quarts',\n",
       "  'cans',\n",
       "  'packets',\n",
       "  'quarts',\n",
       "  'packets',\n",
       "  'store',\n",
       "  'quarts',\n",
       "  'superstore',\n",
       "  'packets',\n",
       "  'quart',\n",
       "  'math',\n",
       "  'ensure',\n",
       "  'decent',\n",
       "  'store',\n",
       "  'cents',\n",
       "  'quart',\n",
       "  'based',\n",
       "  'dollar',\n",
       "  'sale',\n",
       "  'price'],\n",
       " ['resist',\n",
       "  'real',\n",
       "  'flashback',\n",
       "  'taste',\n",
       "  'like',\n",
       "  'remember',\n",
       "  'downright',\n",
       "  'addictive',\n",
       "  'mooch',\n",
       "  'plenty',\n",
       "  'complaint',\n",
       "  'sturdy',\n",
       "  'toothpicks',\n",
       "  'flavor'],\n",
       " ['coca',\n",
       "  'bags',\n",
       "  'pure',\n",
       "  'leaf',\n",
       "  'coca',\n",
       "  'strong',\n",
       "  'flavor',\n",
       "  'dark',\n",
       "  'brew',\n",
       "  'fresh',\n",
       "  'aroma']]"
      ]
     },
     "execution_count": 24,
     "metadata": {},
     "output_type": "execute_result"
    }
   ],
   "source": [
    "# Removing stopwords From News Text\n",
    "data_text=[[word for word in text if word not in stop] for text in data_text] # List Comprehension\n",
    "data_text[-5:]"
   ]
  },
  {
   "cell_type": "code",
   "execution_count": 25,
   "id": "a3cab56b",
   "metadata": {},
   "outputs": [
    {
     "name": "stdout",
     "output_type": "stream",
     "text": [
      "Number of Total words in Text 359235\n",
      "\n",
      "Number of Unique Words in Text 23670\n"
     ]
    }
   ],
   "source": [
    "# A Count of the Remaining words in text\n",
    "Get_Count(data_text)"
   ]
  },
  {
   "cell_type": "markdown",
   "id": "5fdbf645",
   "metadata": {},
   "source": [
    "Stemming is the process of producing root/base words of various words in a text. We will use the Porter Stemmer from the NLTK library to stem the various words in text"
   ]
  },
  {
   "cell_type": "code",
   "execution_count": 26,
   "id": "5f487bd4",
   "metadata": {},
   "outputs": [
    {
     "data": {
      "text/plain": [
       "[['compost',\n",
       "  'bought',\n",
       "  'bag',\n",
       "  'trade',\n",
       "  'gallon',\n",
       "  'kitchen',\n",
       "  'compost',\n",
       "  'wast',\n",
       "  'collector',\n",
       "  'purchas',\n",
       "  'superstor',\n",
       "  'bag',\n",
       "  'perfectli',\n",
       "  'start',\n",
       "  'degrad',\n",
       "  'day',\n",
       "  'compost',\n",
       "  'fine',\n",
       "  'compost',\n",
       "  'bucket',\n",
       "  'week',\n",
       "  'lift',\n",
       "  'drip',\n",
       "  'bucket',\n",
       "  'scrub',\n",
       "  'odor',\n",
       "  'regular',\n",
       "  'plastic',\n",
       "  'shop',\n",
       "  'leakag',\n",
       "  'problem',\n",
       "  'regular',\n",
       "  'occur',\n",
       "  'liner',\n",
       "  'like',\n",
       "  'bag',\n",
       "  'biodegrad',\n",
       "  'purchas',\n",
       "  'plastic',\n",
       "  'bag',\n",
       "  'suppli',\n",
       "  'run',\n",
       "  'sturdier',\n",
       "  'brand',\n",
       "  'suggest'],\n",
       " ['great',\n",
       "  'problem',\n",
       "  'aspartam',\n",
       "  'sugarfre',\n",
       "  'gum',\n",
       "  'love',\n",
       "  'chew',\n",
       "  'steviad',\n",
       "  'option',\n",
       "  'tictac',\n",
       "  'good',\n",
       "  'expens',\n",
       "  'complet',\n",
       "  'worth',\n",
       "  'compromis',\n",
       "  'health',\n",
       "  'chew',\n",
       "  'lot',\n",
       "  'start',\n",
       "  'notic',\n",
       "  'pain',\n",
       "  'lump',\n",
       "  'roof',\n",
       "  'mouth',\n",
       "  'reaction',\n",
       "  'cancer',\n",
       "  'dentist',\n",
       "  'oral',\n",
       "  'surgeon',\n",
       "  'check',\n",
       "  'confirm',\n",
       "  'aspartam',\n",
       "  'upset',\n",
       "  'stomach',\n",
       "  'point',\n",
       "  'extrem',\n",
       "  'bloat',\n",
       "  'initi',\n",
       "  'attribut',\n",
       "  'aspartam',\n",
       "  'start',\n",
       "  'notic',\n",
       "  'lump',\n",
       "  'bigger',\n",
       "  'pain',\n",
       "  'chew',\n",
       "  'start',\n",
       "  'aspartam',\n",
       "  'turn',\n",
       "  'culprit',\n",
       "  'end',\n",
       "  'order',\n",
       "  'case',\n",
       "  'steviad',\n",
       "  'pitch',\n",
       "  'own',\n",
       "  'contain',\n",
       "  'asapartam',\n",
       "  'lump',\n",
       "  'roof',\n",
       "  'mouth',\n",
       "  'disappear',\n",
       "  'day',\n",
       "  'ingest',\n",
       "  'aspartam',\n",
       "  'stomach',\n",
       "  'bloat',\n",
       "  'complet',\n",
       "  'worth',\n",
       "  'spend',\n",
       "  'extra',\n",
       "  'gum',\n",
       "  'start',\n",
       "  'make',\n",
       "  'product',\n",
       "  'stevia',\n",
       "  'aspartam'],\n",
       " ['math',\n",
       "  'ensur',\n",
       "  'superstor',\n",
       "  'quantiti',\n",
       "  'good',\n",
       "  'deal',\n",
       "  'product',\n",
       "  'star',\n",
       "  'review',\n",
       "  'product',\n",
       "  'typic',\n",
       "  'groceri',\n",
       "  'store',\n",
       "  'upload',\n",
       "  'imag',\n",
       "  'groceri',\n",
       "  'store',\n",
       "  'packet',\n",
       "  'quart',\n",
       "  'can',\n",
       "  'packet',\n",
       "  'quart',\n",
       "  'packet',\n",
       "  'store',\n",
       "  'quart',\n",
       "  'superstor',\n",
       "  'packet',\n",
       "  'quart',\n",
       "  'math',\n",
       "  'ensur',\n",
       "  'decent',\n",
       "  'store',\n",
       "  'cent',\n",
       "  'quart',\n",
       "  'base',\n",
       "  'dollar',\n",
       "  'sale',\n",
       "  'price'],\n",
       " ['resist',\n",
       "  'real',\n",
       "  'flashback',\n",
       "  'tast',\n",
       "  'like',\n",
       "  'rememb',\n",
       "  'downright',\n",
       "  'addict',\n",
       "  'mooch',\n",
       "  'plenti',\n",
       "  'complaint',\n",
       "  'sturdi',\n",
       "  'toothpick',\n",
       "  'flavor'],\n",
       " ['coca',\n",
       "  'bag',\n",
       "  'pure',\n",
       "  'leaf',\n",
       "  'coca',\n",
       "  'strong',\n",
       "  'flavor',\n",
       "  'dark',\n",
       "  'brew',\n",
       "  'fresh',\n",
       "  'aroma']]"
      ]
     },
     "execution_count": 26,
     "metadata": {},
     "output_type": "execute_result"
    }
   ],
   "source": [
    "# Stemming the Words\n",
    "from nltk.stem import PorterStemmer\n",
    "stemmer=PorterStemmer()\n",
    "data_text=[[stemmer.stem(word) for word in text] for text in data_text] # Stem the words in the text using list comprehension\n",
    "data_text[-5: ]"
   ]
  },
  {
   "cell_type": "code",
   "execution_count": 27,
   "id": "7f4bd55b",
   "metadata": {},
   "outputs": [
    {
     "name": "stdout",
     "output_type": "stream",
     "text": [
      "Number of Total words in Text 359235\n",
      "\n",
      "Number of Unique Words in Text 16028\n"
     ]
    }
   ],
   "source": [
    "# A Count of the Remaining words in text\n",
    "Get_Count(data_text)"
   ]
  },
  {
   "cell_type": "markdown",
   "id": "9e370f7d",
   "metadata": {},
   "source": [
    "Lemmatization usually refers to doing things properly with the use of a vocabulary and morphological analysis of words, normally aiming to remove inflectional endings only and to return the base or dictionary form of a word (nlp.stanford.edu). We will lemmatize the text using the default WordNet Lemmatizer in the NLTK library."
   ]
  },
  {
   "cell_type": "code",
   "execution_count": 28,
   "id": "63b47680",
   "metadata": {},
   "outputs": [
    {
     "name": "stderr",
     "output_type": "stream",
     "text": [
      "[nltk_data] Downloading package wordnet to\n",
      "[nltk_data]     C:\\Users\\DELL\\AppData\\Roaming\\nltk_data...\n",
      "[nltk_data]   Package wordnet is already up-to-date!\n"
     ]
    },
    {
     "data": {
      "text/plain": [
       "[['compost',\n",
       "  'bought',\n",
       "  'bag',\n",
       "  'trade',\n",
       "  'gallon',\n",
       "  'kitchen',\n",
       "  'compost',\n",
       "  'wast',\n",
       "  'collector',\n",
       "  'purchas',\n",
       "  'superstor',\n",
       "  'bag',\n",
       "  'perfectli',\n",
       "  'start',\n",
       "  'degrad',\n",
       "  'day',\n",
       "  'compost',\n",
       "  'fine',\n",
       "  'compost',\n",
       "  'bucket',\n",
       "  'week',\n",
       "  'lift',\n",
       "  'drip',\n",
       "  'bucket',\n",
       "  'scrub',\n",
       "  'odor',\n",
       "  'regular',\n",
       "  'plastic',\n",
       "  'shop',\n",
       "  'leakag',\n",
       "  'problem',\n",
       "  'regular',\n",
       "  'occur',\n",
       "  'liner',\n",
       "  'like',\n",
       "  'bag',\n",
       "  'biodegrad',\n",
       "  'purchas',\n",
       "  'plastic',\n",
       "  'bag',\n",
       "  'suppli',\n",
       "  'run',\n",
       "  'sturdier',\n",
       "  'brand',\n",
       "  'suggest'],\n",
       " ['great',\n",
       "  'problem',\n",
       "  'aspartam',\n",
       "  'sugarfre',\n",
       "  'gum',\n",
       "  'love',\n",
       "  'chew',\n",
       "  'steviad',\n",
       "  'option',\n",
       "  'tictac',\n",
       "  'good',\n",
       "  'expens',\n",
       "  'complet',\n",
       "  'worth',\n",
       "  'compromis',\n",
       "  'health',\n",
       "  'chew',\n",
       "  'lot',\n",
       "  'start',\n",
       "  'notic',\n",
       "  'pain',\n",
       "  'lump',\n",
       "  'roof',\n",
       "  'mouth',\n",
       "  'reaction',\n",
       "  'cancer',\n",
       "  'dentist',\n",
       "  'oral',\n",
       "  'surgeon',\n",
       "  'check',\n",
       "  'confirm',\n",
       "  'aspartam',\n",
       "  'upset',\n",
       "  'stomach',\n",
       "  'point',\n",
       "  'extrem',\n",
       "  'bloat',\n",
       "  'initi',\n",
       "  'attribut',\n",
       "  'aspartam',\n",
       "  'start',\n",
       "  'notic',\n",
       "  'lump',\n",
       "  'bigger',\n",
       "  'pain',\n",
       "  'chew',\n",
       "  'start',\n",
       "  'aspartam',\n",
       "  'turn',\n",
       "  'culprit',\n",
       "  'end',\n",
       "  'order',\n",
       "  'case',\n",
       "  'steviad',\n",
       "  'pitch',\n",
       "  'own',\n",
       "  'contain',\n",
       "  'asapartam',\n",
       "  'lump',\n",
       "  'roof',\n",
       "  'mouth',\n",
       "  'disappear',\n",
       "  'day',\n",
       "  'ingest',\n",
       "  'aspartam',\n",
       "  'stomach',\n",
       "  'bloat',\n",
       "  'complet',\n",
       "  'worth',\n",
       "  'spend',\n",
       "  'extra',\n",
       "  'gum',\n",
       "  'start',\n",
       "  'make',\n",
       "  'product',\n",
       "  'stevia',\n",
       "  'aspartam'],\n",
       " ['math',\n",
       "  'ensur',\n",
       "  'superstor',\n",
       "  'quantiti',\n",
       "  'good',\n",
       "  'deal',\n",
       "  'product',\n",
       "  'star',\n",
       "  'review',\n",
       "  'product',\n",
       "  'typic',\n",
       "  'groceri',\n",
       "  'store',\n",
       "  'upload',\n",
       "  'imag',\n",
       "  'groceri',\n",
       "  'store',\n",
       "  'packet',\n",
       "  'quart',\n",
       "  'can',\n",
       "  'packet',\n",
       "  'quart',\n",
       "  'packet',\n",
       "  'store',\n",
       "  'quart',\n",
       "  'superstor',\n",
       "  'packet',\n",
       "  'quart',\n",
       "  'math',\n",
       "  'ensur',\n",
       "  'decent',\n",
       "  'store',\n",
       "  'cent',\n",
       "  'quart',\n",
       "  'base',\n",
       "  'dollar',\n",
       "  'sale',\n",
       "  'price'],\n",
       " ['resist',\n",
       "  'real',\n",
       "  'flashback',\n",
       "  'tast',\n",
       "  'like',\n",
       "  'rememb',\n",
       "  'downright',\n",
       "  'addict',\n",
       "  'mooch',\n",
       "  'plenti',\n",
       "  'complaint',\n",
       "  'sturdi',\n",
       "  'toothpick',\n",
       "  'flavor'],\n",
       " ['coca',\n",
       "  'bag',\n",
       "  'pure',\n",
       "  'leaf',\n",
       "  'coca',\n",
       "  'strong',\n",
       "  'flavor',\n",
       "  'dark',\n",
       "  'brew',\n",
       "  'fresh',\n",
       "  'aroma']]"
      ]
     },
     "execution_count": 28,
     "metadata": {},
     "output_type": "execute_result"
    }
   ],
   "source": [
    "# Lemmatizing Text Data\n",
    "nltk.download('wordnet') # Download Wordnet from NLTK library\n",
    "lemma=nltk.stem.WordNetLemmatizer() # Initializing the WordNet Lemmatizer\n",
    "data_text=[[lemma.lemmatize(word) for word in text] for text in data_text] # Lemmatize words in the text using list comprehension\n",
    "data_text[-5: ]"
   ]
  },
  {
   "cell_type": "code",
   "execution_count": 29,
   "id": "4fc45423",
   "metadata": {},
   "outputs": [
    {
     "name": "stdout",
     "output_type": "stream",
     "text": [
      "Number of Total words in Text 359235\n",
      "\n",
      "Number of Unique Words in Text 16001\n"
     ]
    }
   ],
   "source": [
    "# A Count of the Remaining words in text\n",
    "Get_Count(data_text)"
   ]
  },
  {
   "cell_type": "markdown",
   "id": "303df1e2",
   "metadata": {},
   "source": [
    "String Preprocessing steps done above will be repeated multiple times because after a string process a previous step doen earlier may become necessary. For Instance, after Lemmatization some words are stripped of letters at their ends these words end up as three(3) lettered words as seen in the cell above which are not needed in our text, we will remove these words."
   ]
  },
  {
   "cell_type": "code",
   "execution_count": 30,
   "id": "63ed51cb",
   "metadata": {},
   "outputs": [],
   "source": [
    "# Function to drop words with Length less than a threshold\n",
    "def Drop_Words(text,threshold=3):\n",
    "    t=[[x for x in y if len(x)>threshold] for y in text]\n",
    "    return t"
   ]
  },
  {
   "cell_type": "code",
   "execution_count": 31,
   "id": "892f4cc2",
   "metadata": {},
   "outputs": [
    {
     "data": {
      "text/plain": [
       "[['math',\n",
       "  'ensur',\n",
       "  'superstor',\n",
       "  'quantiti',\n",
       "  'good',\n",
       "  'deal',\n",
       "  'product',\n",
       "  'star',\n",
       "  'review',\n",
       "  'product',\n",
       "  'typic',\n",
       "  'groceri',\n",
       "  'store',\n",
       "  'upload',\n",
       "  'imag',\n",
       "  'groceri',\n",
       "  'store',\n",
       "  'packet',\n",
       "  'quart',\n",
       "  'packet',\n",
       "  'quart',\n",
       "  'packet',\n",
       "  'store',\n",
       "  'quart',\n",
       "  'superstor',\n",
       "  'packet',\n",
       "  'quart',\n",
       "  'math',\n",
       "  'ensur',\n",
       "  'decent',\n",
       "  'store',\n",
       "  'cent',\n",
       "  'quart',\n",
       "  'base',\n",
       "  'dollar',\n",
       "  'sale',\n",
       "  'price'],\n",
       " ['resist',\n",
       "  'real',\n",
       "  'flashback',\n",
       "  'tast',\n",
       "  'like',\n",
       "  'rememb',\n",
       "  'downright',\n",
       "  'addict',\n",
       "  'mooch',\n",
       "  'plenti',\n",
       "  'complaint',\n",
       "  'sturdi',\n",
       "  'toothpick',\n",
       "  'flavor'],\n",
       " ['coca',\n",
       "  'pure',\n",
       "  'leaf',\n",
       "  'coca',\n",
       "  'strong',\n",
       "  'flavor',\n",
       "  'dark',\n",
       "  'brew',\n",
       "  'fresh',\n",
       "  'aroma']]"
      ]
     },
     "execution_count": 31,
     "metadata": {},
     "output_type": "execute_result"
    }
   ],
   "source": [
    "# Dropping words less than with length less than 3\n",
    "data_text=Drop_Words(data_text,threshold=3)\n",
    "data_text[-3:]"
   ]
  },
  {
   "cell_type": "code",
   "execution_count": 32,
   "id": "0c54586a",
   "metadata": {},
   "outputs": [
    {
     "name": "stdout",
     "output_type": "stream",
     "text": [
      "Number of Total words in Text 346021\n",
      "\n",
      "Number of Unique Words in Text 15592\n"
     ]
    }
   ],
   "source": [
    "# A Count of the Remaining words in text\n",
    "Get_Count(data_text)"
   ]
  },
  {
   "cell_type": "markdown",
   "id": "34391bd4",
   "metadata": {},
   "source": [
    "The cell above that there are 262033 Unique words in the text. The text is clean enough to be used for modelling and predictions, but it has a large feature space. If countvectorizer/Bag-of-words method is used to convert the text to numerical, we will have a Sparse Matrix with 262033 Columns, this is very large and pose problems for most shallow machine learning algorithms, it will also require more computational resources to carry out some Machine Learning Methods. We will employ other methods to further reduce our feature space."
   ]
  },
  {
   "cell_type": "code",
   "execution_count": 33,
   "id": "5d8d18f7",
   "metadata": {},
   "outputs": [
    {
     "data": {
      "text/plain": [
       "['work', 'love', 'love', 'love', 'brew']"
      ]
     },
     "execution_count": 33,
     "metadata": {},
     "output_type": "execute_result"
    }
   ],
   "source": [
    "# A Look at Four Lettered Words in the text\n",
    "four_words=[text for y in data_text for text in y if len(text)==4]\n",
    "four_words[:5]"
   ]
  },
  {
   "cell_type": "code",
   "execution_count": 34,
   "id": "e709b201",
   "metadata": {},
   "outputs": [
    {
     "data": {
      "text/plain": [
       "103089"
      ]
     },
     "execution_count": 34,
     "metadata": {},
     "output_type": "execute_result"
    }
   ],
   "source": [
    "# Length of Four letter words\n",
    "len(four_words)"
   ]
  },
  {
   "cell_type": "code",
   "execution_count": 35,
   "id": "12f79d5e",
   "metadata": {},
   "outputs": [
    {
     "data": {
      "text/plain": [
       "<Text: work love love love brew mess fine bean...>"
      ]
     },
     "execution_count": 35,
     "metadata": {},
     "output_type": "execute_result"
    }
   ],
   "source": [
    "# Converting to NLTK corpus Text\n",
    "four_words=nltk.Text(four_words)\n",
    "four_words"
   ]
  },
  {
   "cell_type": "code",
   "execution_count": 36,
   "id": "a50b42b0",
   "metadata": {},
   "outputs": [
    {
     "data": {
      "image/png": "[encoded data removed]",
      "text/plain": [
       "<Figure size 1440x1440 with 1 Axes>"
      ]
     },
     "metadata": {},
     "output_type": "display_data"
    },
    {
     "data": {
      "text/plain": [
       "<AxesSubplot:xlabel='Samples', ylabel='Counts'>"
      ]
     },
     "execution_count": 36,
     "metadata": {},
     "output_type": "execute_result"
    }
   ],
   "source": [
    "four_words=nltk.FreqDist(four_words)\n",
    "plt.figure(figsize=(20,20))\n",
    "four_words.plot(50)"
   ]
  },
  {
   "cell_type": "markdown",
   "id": "5a4e78ae",
   "metadata": {},
   "source": [
    "The plot above shows the top 50 Four Lettered words in the text. Most of the four letter words are uninformative with the exception of just few of them that likely shows sentiments, words such as 'love','like','good' , the four lettered words will be dropped with the exception of these words."
   ]
  },
  {
   "cell_type": "code",
   "execution_count": 37,
   "id": "809d88a2",
   "metadata": {},
   "outputs": [
    {
     "data": {
      "text/plain": [
       "[['compost',\n",
       "  'bought',\n",
       "  'trade',\n",
       "  'gallon',\n",
       "  'kitchen',\n",
       "  'compost',\n",
       "  'collector',\n",
       "  'purchas',\n",
       "  'superstor',\n",
       "  'perfectli',\n",
       "  'start',\n",
       "  'degrad',\n",
       "  'compost',\n",
       "  'compost',\n",
       "  'bucket',\n",
       "  'bucket',\n",
       "  'scrub',\n",
       "  'regular',\n",
       "  'plastic',\n",
       "  'leakag',\n",
       "  'problem',\n",
       "  'regular',\n",
       "  'occur',\n",
       "  'liner',\n",
       "  'biodegrad',\n",
       "  'purchas',\n",
       "  'plastic',\n",
       "  'suppli',\n",
       "  'sturdier',\n",
       "  'brand',\n",
       "  'suggest'],\n",
       " ['great',\n",
       "  'problem',\n",
       "  'aspartam',\n",
       "  'sugarfre',\n",
       "  'steviad',\n",
       "  'option',\n",
       "  'tictac',\n",
       "  'expens',\n",
       "  'complet',\n",
       "  'worth',\n",
       "  'compromis',\n",
       "  'health',\n",
       "  'start',\n",
       "  'notic',\n",
       "  'mouth',\n",
       "  'reaction',\n",
       "  'cancer',\n",
       "  'dentist',\n",
       "  'surgeon',\n",
       "  'check',\n",
       "  'confirm',\n",
       "  'aspartam',\n",
       "  'upset',\n",
       "  'stomach',\n",
       "  'point',\n",
       "  'extrem',\n",
       "  'bloat',\n",
       "  'initi',\n",
       "  'attribut',\n",
       "  'aspartam',\n",
       "  'start',\n",
       "  'notic',\n",
       "  'bigger',\n",
       "  'start',\n",
       "  'aspartam',\n",
       "  'culprit',\n",
       "  'order',\n",
       "  'steviad',\n",
       "  'pitch',\n",
       "  'contain',\n",
       "  'asapartam',\n",
       "  'mouth',\n",
       "  'disappear',\n",
       "  'ingest',\n",
       "  'aspartam',\n",
       "  'stomach',\n",
       "  'bloat',\n",
       "  'complet',\n",
       "  'worth',\n",
       "  'spend',\n",
       "  'extra',\n",
       "  'start',\n",
       "  'product',\n",
       "  'stevia',\n",
       "  'aspartam'],\n",
       " ['ensur',\n",
       "  'superstor',\n",
       "  'quantiti',\n",
       "  'product',\n",
       "  'review',\n",
       "  'product',\n",
       "  'typic',\n",
       "  'groceri',\n",
       "  'store',\n",
       "  'upload',\n",
       "  'groceri',\n",
       "  'store',\n",
       "  'packet',\n",
       "  'quart',\n",
       "  'packet',\n",
       "  'quart',\n",
       "  'packet',\n",
       "  'store',\n",
       "  'quart',\n",
       "  'superstor',\n",
       "  'packet',\n",
       "  'quart',\n",
       "  'ensur',\n",
       "  'decent',\n",
       "  'store',\n",
       "  'quart',\n",
       "  'dollar',\n",
       "  'price'],\n",
       " ['resist',\n",
       "  'flashback',\n",
       "  'rememb',\n",
       "  'downright',\n",
       "  'addict',\n",
       "  'mooch',\n",
       "  'plenti',\n",
       "  'complaint',\n",
       "  'sturdi',\n",
       "  'toothpick',\n",
       "  'flavor'],\n",
       " ['strong', 'flavor', 'fresh', 'aroma']]"
      ]
     },
     "execution_count": 37,
     "metadata": {},
     "output_type": "execute_result"
    }
   ],
   "source": [
    "data_text=[[word for word in text if len(word)>4 and word not in ['like','love','good','nice','acid','hard']] for text in data_text]\n",
    "data_text[-5:]"
   ]
  },
  {
   "cell_type": "code",
   "execution_count": 38,
   "id": "aa603773",
   "metadata": {},
   "outputs": [
    {
     "name": "stdout",
     "output_type": "stream",
     "text": [
      "Number of Total words in Text 242932\n",
      "\n",
      "Number of Unique Words in Text 13223\n"
     ]
    }
   ],
   "source": [
    "# A Count of the Remaining words in text\n",
    "Get_Count(data_text)"
   ]
  },
  {
   "cell_type": "markdown",
   "id": "a500eb15",
   "metadata": {},
   "source": [
    "Multiple steps and techniques have been undertaken to clean the text. The number of unique Text (Feature) space has been reduced from 25000+ to 13223 with the removal of words considered to be uninformative. The total Number of Words reduced from 1000000+ to 242932.  "
   ]
  },
  {
   "cell_type": "code",
   "execution_count": 39,
   "id": "caffdcdf",
   "metadata": {},
   "outputs": [
    {
     "data": {
      "image/png": "[encoded data removed]",
      "text/plain": [
       "<Figure size 1440x1440 with 1 Axes>"
      ]
     },
     "metadata": {},
     "output_type": "display_data"
    },
    {
     "data": {
      "text/plain": [
       "<AxesSubplot:title={'center':'Most Occuring Words in Text'}, xlabel='Samples', ylabel='Cumulative Counts'>"
      ]
     },
     "execution_count": 39,
     "metadata": {},
     "output_type": "execute_result"
    }
   ],
   "source": [
    "# A look at the most Occuring Words in the Text\n",
    "data_temp=[word for text in data_text for word in text]\n",
    "data_temp=nltk.Text(data_temp)\n",
    "data_temp=nltk.FreqDist(data_temp)\n",
    "# Plot the freq Dist\n",
    "plt.figure(figsize=(20,20))\n",
    "plt.title('Most Occuring Words in Text',size=20)\n",
    "data_temp.plot(20,cumulative=True)"
   ]
  },
  {
   "cell_type": "markdown",
   "id": "3361f250",
   "metadata": {},
   "source": [
    "The Plot above shows the most occuring words in the text. words such as coffe,sugar,water,product which will likely not help in senetiment analysis occur very much in the text."
   ]
  },
  {
   "cell_type": "markdown",
   "id": "574126b8",
   "metadata": {},
   "source": [
    "#### Data Vectorization "
   ]
  },
  {
   "cell_type": "markdown",
   "id": "d7e57b38",
   "metadata": {},
   "source": [
    "We will use the Bag of Words Method to convert our text to Numerical representation suitable for Machine Learning Modelling. The Bag of words handles each distinct word appearing in the text as a feature on its own without considerong its contextual or semantic meaning. This means that Bag of Words handles words at the word level,therefore we dont need the words to be accurately rather we want similar words to have same spelling (whether Corrrect or wrong) int the text, Stemming and Lemmatizing helped us achieved this by stipped words to their roots."
   ]
  },
  {
   "cell_type": "markdown",
   "id": "2a6f2005",
   "metadata": {},
   "source": [
    "The Count Vectorizer in sklearn Library offers Methods to convert words into their vector representation. To avoid having the problem of overfitting of models we will use only the top 10000 occuring words in the text because the least occuring words are more specific to particular documents."
   ]
  },
  {
   "cell_type": "code",
   "execution_count": 40,
   "id": "cd4927c6",
   "metadata": {},
   "outputs": [
    {
     "data": {
      "text/plain": [
       "(7077, 1000)"
      ]
     },
     "execution_count": 40,
     "metadata": {},
     "output_type": "execute_result"
    }
   ],
   "source": [
    "## Using CountVectorier To convert Words to Vectors\n",
    "count_vec=CountVectorizer(max_features=1000) # Selects the first Top 10000 words to create as features\n",
    "tfid=TfidfTransformer()\n",
    "data_mat=count_vec.fit_transform([' '.join(x) for x in data_text]).toarray() # toarray returns the sparse matrix to Numpy arrays\n",
    "data_mat=tfid.fit_transform(data_mat).toarray()\n",
    "data_mat.shape"
   ]
  },
  {
   "cell_type": "markdown",
   "id": "501263e8",
   "metadata": {},
   "source": [
    "Our text have been converted into a matrix of 10000 Features this is a sparse matirx because for most parts it contains zeros.There are 7077 entires in the Matrix."
   ]
  },
  {
   "cell_type": "code",
   "execution_count": 41,
   "id": "787422c6",
   "metadata": {},
   "outputs": [
    {
     "data": {
      "text/plain": [
       "array([[0., 0., 0., ..., 0., 0., 0.],\n",
       "       [0., 0., 0., ..., 0., 0., 0.],\n",
       "       [0., 0., 0., ..., 0., 0., 0.],\n",
       "       [0., 0., 0., ..., 0., 0., 0.],\n",
       "       [0., 0., 0., ..., 0., 0., 0.]])"
      ]
     },
     "execution_count": 41,
     "metadata": {},
     "output_type": "execute_result"
    }
   ],
   "source": [
    "data_mat[:5]"
   ]
  },
  {
   "cell_type": "markdown",
   "id": "e362614f",
   "metadata": {},
   "source": [
    "## REVIEW SENTIMENT CLASSIFICATION"
   ]
  },
  {
   "cell_type": "markdown",
   "id": "c678da57",
   "metadata": {},
   "source": [
    "### Target Variable Preprocessing"
   ]
  },
  {
   "cell_type": "markdown",
   "id": "3e9ec20c",
   "metadata": {},
   "source": [
    "Our Target Variable is the Stars ratings. we seek to classify each document as either having a positive or Negative Review. We will assume that 1-star to 3-star reviews are “negative”, and 4-star to 5-star reviews are “positive” "
   ]
  },
  {
   "cell_type": "code",
   "execution_count": 42,
   "id": "007675c4",
   "metadata": {},
   "outputs": [
    {
     "data": {
      "text/html": [
       "<div>\n",
       "<style scoped>\n",
       "    .dataframe tbody tr th:only-of-type {\n",
       "        vertical-align: middle;\n",
       "    }\n",
       "\n",
       "    .dataframe tbody tr th {\n",
       "        vertical-align: top;\n",
       "    }\n",
       "\n",
       "    .dataframe thead th {\n",
       "        text-align: right;\n",
       "    }\n",
       "</style>\n",
       "<table border=\"1\" class=\"dataframe\">\n",
       "  <thead>\n",
       "    <tr style=\"text-align: right;\">\n",
       "      <th></th>\n",
       "      <th>Titles</th>\n",
       "      <th>Star_Ratings</th>\n",
       "      <th>Reviews Help</th>\n",
       "      <th>Reviews</th>\n",
       "      <th>Titles_Reviews</th>\n",
       "    </tr>\n",
       "  </thead>\n",
       "  <tbody>\n",
       "    <tr>\n",
       "      <th>0</th>\n",
       "      <td>This filter works PERFECT!</td>\n",
       "      <td>5-star</td>\n",
       "      <td>472 out of 477 users found this review helpful</td>\n",
       "      <td>Seriously, I love my Keurig. I love the conven...</td>\n",
       "      <td>This filter works PERFECT! Seriously, I love m...</td>\n",
       "    </tr>\n",
       "    <tr>\n",
       "      <th>1</th>\n",
       "      <td>This stuff is great for muffins</td>\n",
       "      <td>4-star</td>\n",
       "      <td>17 out of 17 users found this review helpful</td>\n",
       "      <td>There's a recipe on the back of the package fo...</td>\n",
       "      <td>This stuff is great for muffins There's a reci...</td>\n",
       "    </tr>\n",
       "    <tr>\n",
       "      <th>2</th>\n",
       "      <td>Curiously awful</td>\n",
       "      <td>1-star</td>\n",
       "      <td>1 out of 14 users found this review helpful</td>\n",
       "      <td>Cola is by far my favorite drink. My wife and ...</td>\n",
       "      <td>Curiously awful Cola is by far my favorite dri...</td>\n",
       "    </tr>\n",
       "    <tr>\n",
       "      <th>3</th>\n",
       "      <td>Rancid!</td>\n",
       "      <td>1-star</td>\n",
       "      <td>23 out of 26 users found this review helpful</td>\n",
       "      <td>I love chia, but I have gotten two different p...</td>\n",
       "      <td>Rancid! I love chia, but I have gotten two dif...</td>\n",
       "    </tr>\n",
       "    <tr>\n",
       "      <th>4</th>\n",
       "      <td>They taste like boogers</td>\n",
       "      <td>1-star</td>\n",
       "      <td>4 out of 19 users found this review helpful</td>\n",
       "      <td>If you don't like the sound of a salty, vinega...</td>\n",
       "      <td>They taste like boogers If you don't like the ...</td>\n",
       "    </tr>\n",
       "  </tbody>\n",
       "</table>\n",
       "</div>"
      ],
      "text/plain": [
       "                            Titles Star_Ratings  \\\n",
       "0       This filter works PERFECT!       5-star   \n",
       "1  This stuff is great for muffins       4-star   \n",
       "2                  Curiously awful       1-star   \n",
       "3                          Rancid!       1-star   \n",
       "4          They taste like boogers       1-star   \n",
       "\n",
       "                                     Reviews Help  \\\n",
       "0  472 out of 477 users found this review helpful   \n",
       "1    17 out of 17 users found this review helpful   \n",
       "2     1 out of 14 users found this review helpful   \n",
       "3    23 out of 26 users found this review helpful   \n",
       "4     4 out of 19 users found this review helpful   \n",
       "\n",
       "                                             Reviews  \\\n",
       "0  Seriously, I love my Keurig. I love the conven...   \n",
       "1  There's a recipe on the back of the package fo...   \n",
       "2  Cola is by far my favorite drink. My wife and ...   \n",
       "3  I love chia, but I have gotten two different p...   \n",
       "4  If you don't like the sound of a salty, vinega...   \n",
       "\n",
       "                                      Titles_Reviews  \n",
       "0  This filter works PERFECT! Seriously, I love m...  \n",
       "1  This stuff is great for muffins There's a reci...  \n",
       "2  Curiously awful Cola is by far my favorite dri...  \n",
       "3  Rancid! I love chia, but I have gotten two dif...  \n",
       "4  They taste like boogers If you don't like the ...  "
      ]
     },
     "execution_count": 42,
     "metadata": {},
     "output_type": "execute_result"
    }
   ],
   "source": [
    "data.head(5)"
   ]
  },
  {
   "cell_type": "code",
   "execution_count": 43,
   "id": "0babbc48",
   "metadata": {},
   "outputs": [
    {
     "data": {
      "text/html": [
       "<div>\n",
       "<style scoped>\n",
       "    .dataframe tbody tr th:only-of-type {\n",
       "        vertical-align: middle;\n",
       "    }\n",
       "\n",
       "    .dataframe tbody tr th {\n",
       "        vertical-align: top;\n",
       "    }\n",
       "\n",
       "    .dataframe thead th {\n",
       "        text-align: right;\n",
       "    }\n",
       "</style>\n",
       "<table border=\"1\" class=\"dataframe\">\n",
       "  <thead>\n",
       "    <tr style=\"text-align: right;\">\n",
       "      <th></th>\n",
       "      <th>Titles</th>\n",
       "      <th>Star_Ratings</th>\n",
       "      <th>Reviews Help</th>\n",
       "      <th>Reviews</th>\n",
       "      <th>Titles_Reviews</th>\n",
       "    </tr>\n",
       "  </thead>\n",
       "  <tbody>\n",
       "    <tr>\n",
       "      <th>0</th>\n",
       "      <td>This filter works PERFECT!</td>\n",
       "      <td>5</td>\n",
       "      <td>472 out of 477 users found this review helpful</td>\n",
       "      <td>Seriously, I love my Keurig. I love the conven...</td>\n",
       "      <td>This filter works PERFECT! Seriously, I love m...</td>\n",
       "    </tr>\n",
       "    <tr>\n",
       "      <th>1</th>\n",
       "      <td>This stuff is great for muffins</td>\n",
       "      <td>4</td>\n",
       "      <td>17 out of 17 users found this review helpful</td>\n",
       "      <td>There's a recipe on the back of the package fo...</td>\n",
       "      <td>This stuff is great for muffins There's a reci...</td>\n",
       "    </tr>\n",
       "    <tr>\n",
       "      <th>2</th>\n",
       "      <td>Curiously awful</td>\n",
       "      <td>1</td>\n",
       "      <td>1 out of 14 users found this review helpful</td>\n",
       "      <td>Cola is by far my favorite drink. My wife and ...</td>\n",
       "      <td>Curiously awful Cola is by far my favorite dri...</td>\n",
       "    </tr>\n",
       "    <tr>\n",
       "      <th>3</th>\n",
       "      <td>Rancid!</td>\n",
       "      <td>1</td>\n",
       "      <td>23 out of 26 users found this review helpful</td>\n",
       "      <td>I love chia, but I have gotten two different p...</td>\n",
       "      <td>Rancid! I love chia, but I have gotten two dif...</td>\n",
       "    </tr>\n",
       "    <tr>\n",
       "      <th>4</th>\n",
       "      <td>They taste like boogers</td>\n",
       "      <td>1</td>\n",
       "      <td>4 out of 19 users found this review helpful</td>\n",
       "      <td>If you don't like the sound of a salty, vinega...</td>\n",
       "      <td>They taste like boogers If you don't like the ...</td>\n",
       "    </tr>\n",
       "  </tbody>\n",
       "</table>\n",
       "</div>"
      ],
      "text/plain": [
       "                            Titles  Star_Ratings  \\\n",
       "0       This filter works PERFECT!             5   \n",
       "1  This stuff is great for muffins             4   \n",
       "2                  Curiously awful             1   \n",
       "3                          Rancid!             1   \n",
       "4          They taste like boogers             1   \n",
       "\n",
       "                                     Reviews Help  \\\n",
       "0  472 out of 477 users found this review helpful   \n",
       "1    17 out of 17 users found this review helpful   \n",
       "2     1 out of 14 users found this review helpful   \n",
       "3    23 out of 26 users found this review helpful   \n",
       "4     4 out of 19 users found this review helpful   \n",
       "\n",
       "                                             Reviews  \\\n",
       "0  Seriously, I love my Keurig. I love the conven...   \n",
       "1  There's a recipe on the back of the package fo...   \n",
       "2  Cola is by far my favorite drink. My wife and ...   \n",
       "3  I love chia, but I have gotten two different p...   \n",
       "4  If you don't like the sound of a salty, vinega...   \n",
       "\n",
       "                                      Titles_Reviews  \n",
       "0  This filter works PERFECT! Seriously, I love m...  \n",
       "1  This stuff is great for muffins There's a reci...  \n",
       "2  Curiously awful Cola is by far my favorite dri...  \n",
       "3  Rancid! I love chia, but I have gotten two dif...  \n",
       "4  They taste like boogers If you don't like the ...  "
      ]
     },
     "execution_count": 43,
     "metadata": {},
     "output_type": "execute_result"
    }
   ],
   "source": [
    "# Extract only the Numbers/Digits from the Stars Rating Coulmns\n",
    "data.Star_Ratings=[int(re.findall(r'\\d+',rating)[0]) for rating in data.Star_Ratings] # Extracts The Ratings and convert to integer\n",
    "data.head(5)"
   ]
  },
  {
   "cell_type": "code",
   "execution_count": 44,
   "id": "8c447cf2",
   "metadata": {},
   "outputs": [
    {
     "data": {
      "text/html": [
       "<div>\n",
       "<style scoped>\n",
       "    .dataframe tbody tr th:only-of-type {\n",
       "        vertical-align: middle;\n",
       "    }\n",
       "\n",
       "    .dataframe tbody tr th {\n",
       "        vertical-align: top;\n",
       "    }\n",
       "\n",
       "    .dataframe thead th {\n",
       "        text-align: right;\n",
       "    }\n",
       "</style>\n",
       "<table border=\"1\" class=\"dataframe\">\n",
       "  <thead>\n",
       "    <tr style=\"text-align: right;\">\n",
       "      <th></th>\n",
       "      <th>Titles</th>\n",
       "      <th>Star_Ratings</th>\n",
       "      <th>Reviews Help</th>\n",
       "      <th>Reviews</th>\n",
       "      <th>Titles_Reviews</th>\n",
       "    </tr>\n",
       "  </thead>\n",
       "  <tbody>\n",
       "    <tr>\n",
       "      <th>0</th>\n",
       "      <td>This filter works PERFECT!</td>\n",
       "      <td>Positive</td>\n",
       "      <td>472 out of 477 users found this review helpful</td>\n",
       "      <td>Seriously, I love my Keurig. I love the conven...</td>\n",
       "      <td>This filter works PERFECT! Seriously, I love m...</td>\n",
       "    </tr>\n",
       "    <tr>\n",
       "      <th>1</th>\n",
       "      <td>This stuff is great for muffins</td>\n",
       "      <td>Positive</td>\n",
       "      <td>17 out of 17 users found this review helpful</td>\n",
       "      <td>There's a recipe on the back of the package fo...</td>\n",
       "      <td>This stuff is great for muffins There's a reci...</td>\n",
       "    </tr>\n",
       "    <tr>\n",
       "      <th>2</th>\n",
       "      <td>Curiously awful</td>\n",
       "      <td>Negative</td>\n",
       "      <td>1 out of 14 users found this review helpful</td>\n",
       "      <td>Cola is by far my favorite drink. My wife and ...</td>\n",
       "      <td>Curiously awful Cola is by far my favorite dri...</td>\n",
       "    </tr>\n",
       "    <tr>\n",
       "      <th>3</th>\n",
       "      <td>Rancid!</td>\n",
       "      <td>Negative</td>\n",
       "      <td>23 out of 26 users found this review helpful</td>\n",
       "      <td>I love chia, but I have gotten two different p...</td>\n",
       "      <td>Rancid! I love chia, but I have gotten two dif...</td>\n",
       "    </tr>\n",
       "    <tr>\n",
       "      <th>4</th>\n",
       "      <td>They taste like boogers</td>\n",
       "      <td>Negative</td>\n",
       "      <td>4 out of 19 users found this review helpful</td>\n",
       "      <td>If you don't like the sound of a salty, vinega...</td>\n",
       "      <td>They taste like boogers If you don't like the ...</td>\n",
       "    </tr>\n",
       "  </tbody>\n",
       "</table>\n",
       "</div>"
      ],
      "text/plain": [
       "                            Titles Star_Ratings  \\\n",
       "0       This filter works PERFECT!     Positive   \n",
       "1  This stuff is great for muffins     Positive   \n",
       "2                  Curiously awful     Negative   \n",
       "3                          Rancid!     Negative   \n",
       "4          They taste like boogers     Negative   \n",
       "\n",
       "                                     Reviews Help  \\\n",
       "0  472 out of 477 users found this review helpful   \n",
       "1    17 out of 17 users found this review helpful   \n",
       "2     1 out of 14 users found this review helpful   \n",
       "3    23 out of 26 users found this review helpful   \n",
       "4     4 out of 19 users found this review helpful   \n",
       "\n",
       "                                             Reviews  \\\n",
       "0  Seriously, I love my Keurig. I love the conven...   \n",
       "1  There's a recipe on the back of the package fo...   \n",
       "2  Cola is by far my favorite drink. My wife and ...   \n",
       "3  I love chia, but I have gotten two different p...   \n",
       "4  If you don't like the sound of a salty, vinega...   \n",
       "\n",
       "                                      Titles_Reviews  \n",
       "0  This filter works PERFECT! Seriously, I love m...  \n",
       "1  This stuff is great for muffins There's a reci...  \n",
       "2  Curiously awful Cola is by far my favorite dri...  \n",
       "3  Rancid! I love chia, but I have gotten two dif...  \n",
       "4  They taste like boogers If you don't like the ...  "
      ]
     },
     "execution_count": 44,
     "metadata": {},
     "output_type": "execute_result"
    }
   ],
   "source": [
    "# Categorizing the Star_Ratings Columns\n",
    "data.Star_Ratings=np.where(data.Star_Ratings<=3,'Negative','Positive')\n",
    "data.head(5)"
   ]
  },
  {
   "cell_type": "code",
   "execution_count": 45,
   "id": "faa0f62b",
   "metadata": {},
   "outputs": [
    {
     "data": {
      "text/html": [
       "<div>\n",
       "<style scoped>\n",
       "    .dataframe tbody tr th:only-of-type {\n",
       "        vertical-align: middle;\n",
       "    }\n",
       "\n",
       "    .dataframe tbody tr th {\n",
       "        vertical-align: top;\n",
       "    }\n",
       "\n",
       "    .dataframe thead th {\n",
       "        text-align: right;\n",
       "    }\n",
       "</style>\n",
       "<table border=\"1\" class=\"dataframe\">\n",
       "  <thead>\n",
       "    <tr style=\"text-align: right;\">\n",
       "      <th></th>\n",
       "      <th>Titles</th>\n",
       "      <th>Star_Ratings</th>\n",
       "      <th>Reviews Help</th>\n",
       "      <th>Reviews</th>\n",
       "      <th>Titles_Reviews</th>\n",
       "    </tr>\n",
       "  </thead>\n",
       "  <tbody>\n",
       "    <tr>\n",
       "      <th>0</th>\n",
       "      <td>This filter works PERFECT!</td>\n",
       "      <td>Positive</td>\n",
       "      <td>472 out of 477 users found this review helpful</td>\n",
       "      <td>Seriously, I love my Keurig. I love the conven...</td>\n",
       "      <td>This filter works PERFECT! Seriously, I love m...</td>\n",
       "    </tr>\n",
       "    <tr>\n",
       "      <th>1</th>\n",
       "      <td>This stuff is great for muffins</td>\n",
       "      <td>Positive</td>\n",
       "      <td>17 out of 17 users found this review helpful</td>\n",
       "      <td>There's a recipe on the back of the package fo...</td>\n",
       "      <td>This stuff is great for muffins There's a reci...</td>\n",
       "    </tr>\n",
       "    <tr>\n",
       "      <th>2</th>\n",
       "      <td>Curiously awful</td>\n",
       "      <td>Negative</td>\n",
       "      <td>1 out of 14 users found this review helpful</td>\n",
       "      <td>Cola is by far my favorite drink. My wife and ...</td>\n",
       "      <td>Curiously awful Cola is by far my favorite dri...</td>\n",
       "    </tr>\n",
       "    <tr>\n",
       "      <th>3</th>\n",
       "      <td>Rancid!</td>\n",
       "      <td>Negative</td>\n",
       "      <td>23 out of 26 users found this review helpful</td>\n",
       "      <td>I love chia, but I have gotten two different p...</td>\n",
       "      <td>Rancid! I love chia, but I have gotten two dif...</td>\n",
       "    </tr>\n",
       "    <tr>\n",
       "      <th>4</th>\n",
       "      <td>They taste like boogers</td>\n",
       "      <td>Negative</td>\n",
       "      <td>4 out of 19 users found this review helpful</td>\n",
       "      <td>If you don't like the sound of a salty, vinega...</td>\n",
       "      <td>They taste like boogers If you don't like the ...</td>\n",
       "    </tr>\n",
       "  </tbody>\n",
       "</table>\n",
       "</div>"
      ],
      "text/plain": [
       "                            Titles Star_Ratings  \\\n",
       "0       This filter works PERFECT!     Positive   \n",
       "1  This stuff is great for muffins     Positive   \n",
       "2                  Curiously awful     Negative   \n",
       "3                          Rancid!     Negative   \n",
       "4          They taste like boogers     Negative   \n",
       "\n",
       "                                     Reviews Help  \\\n",
       "0  472 out of 477 users found this review helpful   \n",
       "1    17 out of 17 users found this review helpful   \n",
       "2     1 out of 14 users found this review helpful   \n",
       "3    23 out of 26 users found this review helpful   \n",
       "4     4 out of 19 users found this review helpful   \n",
       "\n",
       "                                             Reviews  \\\n",
       "0  Seriously, I love my Keurig. I love the conven...   \n",
       "1  There's a recipe on the back of the package fo...   \n",
       "2  Cola is by far my favorite drink. My wife and ...   \n",
       "3  I love chia, but I have gotten two different p...   \n",
       "4  If you don't like the sound of a salty, vinega...   \n",
       "\n",
       "                                      Titles_Reviews  \n",
       "0  This filter works PERFECT! Seriously, I love m...  \n",
       "1  This stuff is great for muffins There's a reci...  \n",
       "2  Curiously awful Cola is by far my favorite dri...  \n",
       "3  Rancid! I love chia, but I have gotten two dif...  \n",
       "4  They taste like boogers If you don't like the ...  "
      ]
     },
     "execution_count": 45,
     "metadata": {},
     "output_type": "execute_result"
    }
   ],
   "source": [
    "data.head(5)"
   ]
  },
  {
   "cell_type": "code",
   "execution_count": 46,
   "id": "d4025297",
   "metadata": {},
   "outputs": [
    {
     "data": {
      "text/plain": [
       "<AxesSubplot:title={'center':'Plot of Star Ratings Category'}, xlabel='Star_Ratings', ylabel='Percent'>"
      ]
     },
     "execution_count": 46,
     "metadata": {},
     "output_type": "execute_result"
    },
    {
     "data": {
      "image/png": "[encoded data removed]",
      "text/plain": [
       "<Figure size 360x360 with 1 Axes>"
      ]
     },
     "metadata": {},
     "output_type": "display_data"
    }
   ],
   "source": [
    "# A plot of positive and Negative stars ratings\n",
    "plt.figure(figsize=(5,5))\n",
    "plt.title('Plot of Star Ratings Category',size=10)\n",
    "sns.histplot(data.Star_Ratings,color='g',stat='percent')\n"
   ]
  },
  {
   "cell_type": "markdown",
   "id": "c6fd2ce7",
   "metadata": {},
   "source": [
    "The Stars Rating have been categorized as either positive or Negative as sen in the cell Above."
   ]
  },
  {
   "cell_type": "markdown",
   "id": "affbb016",
   "metadata": {},
   "source": [
    "For the purposes of model building we need to convert the stars ratings categories into digits/Numbers. will we assign the Class Negative as 0 nd the positive Class as 1."
   ]
  },
  {
   "cell_type": "code",
   "execution_count": 47,
   "id": "dd118818",
   "metadata": {},
   "outputs": [
    {
     "data": {
      "text/plain": [
       "{'Negative': 0, 'Positive': 1}"
      ]
     },
     "execution_count": 47,
     "metadata": {},
     "output_type": "execute_result"
    }
   ],
   "source": [
    "target_dict={'Negative':0,'Positive':1} # Target Dictionary\n",
    "target_dict"
   ]
  },
  {
   "cell_type": "code",
   "execution_count": 48,
   "id": "9f83df49",
   "metadata": {},
   "outputs": [
    {
     "data": {
      "text/html": [
       "<div>\n",
       "<style scoped>\n",
       "    .dataframe tbody tr th:only-of-type {\n",
       "        vertical-align: middle;\n",
       "    }\n",
       "\n",
       "    .dataframe tbody tr th {\n",
       "        vertical-align: top;\n",
       "    }\n",
       "\n",
       "    .dataframe thead th {\n",
       "        text-align: right;\n",
       "    }\n",
       "</style>\n",
       "<table border=\"1\" class=\"dataframe\">\n",
       "  <thead>\n",
       "    <tr style=\"text-align: right;\">\n",
       "      <th></th>\n",
       "      <th>Titles</th>\n",
       "      <th>Star_Ratings</th>\n",
       "      <th>Reviews Help</th>\n",
       "      <th>Reviews</th>\n",
       "      <th>Titles_Reviews</th>\n",
       "    </tr>\n",
       "  </thead>\n",
       "  <tbody>\n",
       "    <tr>\n",
       "      <th>0</th>\n",
       "      <td>This filter works PERFECT!</td>\n",
       "      <td>1</td>\n",
       "      <td>472 out of 477 users found this review helpful</td>\n",
       "      <td>Seriously, I love my Keurig. I love the conven...</td>\n",
       "      <td>This filter works PERFECT! Seriously, I love m...</td>\n",
       "    </tr>\n",
       "    <tr>\n",
       "      <th>1</th>\n",
       "      <td>This stuff is great for muffins</td>\n",
       "      <td>1</td>\n",
       "      <td>17 out of 17 users found this review helpful</td>\n",
       "      <td>There's a recipe on the back of the package fo...</td>\n",
       "      <td>This stuff is great for muffins There's a reci...</td>\n",
       "    </tr>\n",
       "    <tr>\n",
       "      <th>2</th>\n",
       "      <td>Curiously awful</td>\n",
       "      <td>0</td>\n",
       "      <td>1 out of 14 users found this review helpful</td>\n",
       "      <td>Cola is by far my favorite drink. My wife and ...</td>\n",
       "      <td>Curiously awful Cola is by far my favorite dri...</td>\n",
       "    </tr>\n",
       "    <tr>\n",
       "      <th>3</th>\n",
       "      <td>Rancid!</td>\n",
       "      <td>0</td>\n",
       "      <td>23 out of 26 users found this review helpful</td>\n",
       "      <td>I love chia, but I have gotten two different p...</td>\n",
       "      <td>Rancid! I love chia, but I have gotten two dif...</td>\n",
       "    </tr>\n",
       "    <tr>\n",
       "      <th>4</th>\n",
       "      <td>They taste like boogers</td>\n",
       "      <td>0</td>\n",
       "      <td>4 out of 19 users found this review helpful</td>\n",
       "      <td>If you don't like the sound of a salty, vinega...</td>\n",
       "      <td>They taste like boogers If you don't like the ...</td>\n",
       "    </tr>\n",
       "  </tbody>\n",
       "</table>\n",
       "</div>"
      ],
      "text/plain": [
       "                            Titles  Star_Ratings  \\\n",
       "0       This filter works PERFECT!             1   \n",
       "1  This stuff is great for muffins             1   \n",
       "2                  Curiously awful             0   \n",
       "3                          Rancid!             0   \n",
       "4          They taste like boogers             0   \n",
       "\n",
       "                                     Reviews Help  \\\n",
       "0  472 out of 477 users found this review helpful   \n",
       "1    17 out of 17 users found this review helpful   \n",
       "2     1 out of 14 users found this review helpful   \n",
       "3    23 out of 26 users found this review helpful   \n",
       "4     4 out of 19 users found this review helpful   \n",
       "\n",
       "                                             Reviews  \\\n",
       "0  Seriously, I love my Keurig. I love the conven...   \n",
       "1  There's a recipe on the back of the package fo...   \n",
       "2  Cola is by far my favorite drink. My wife and ...   \n",
       "3  I love chia, but I have gotten two different p...   \n",
       "4  If you don't like the sound of a salty, vinega...   \n",
       "\n",
       "                                      Titles_Reviews  \n",
       "0  This filter works PERFECT! Seriously, I love m...  \n",
       "1  This stuff is great for muffins There's a reci...  \n",
       "2  Curiously awful Cola is by far my favorite dri...  \n",
       "3  Rancid! I love chia, but I have gotten two dif...  \n",
       "4  They taste like boogers If you don't like the ...  "
      ]
     },
     "execution_count": 48,
     "metadata": {},
     "output_type": "execute_result"
    }
   ],
   "source": [
    "data.Star_Ratings=data.Star_Ratings.map(target_dict)\n",
    "data.head(5)"
   ]
  },
  {
   "cell_type": "code",
   "execution_count": 49,
   "id": "2cdbc320",
   "metadata": {},
   "outputs": [
    {
     "data": {
      "text/plain": [
       "array([1, 1, 0, 0, 0], dtype=int64)"
      ]
     },
     "execution_count": 49,
     "metadata": {},
     "output_type": "execute_result"
    }
   ],
   "source": [
    "# Selecting Target Variable\n",
    "y_target=data.Star_Ratings.values\n",
    "y_target[:5]"
   ]
  },
  {
   "cell_type": "markdown",
   "id": "2131a5d1",
   "metadata": {},
   "source": [
    "### Data Modelling and Machine Learning\n"
   ]
  },
  {
   "cell_type": "markdown",
   "id": "a41f4956",
   "metadata": {},
   "source": [
    "We will split our dataset into train and test. The test data will comprise 20% of the total entry while train will be 80%. The test data is ot part of the training Set,it will be used to finally evaluate the Performance of the model."
   ]
  },
  {
   "cell_type": "code",
   "execution_count": 50,
   "id": "5b6e9632",
   "metadata": {},
   "outputs": [
    {
     "data": {
      "text/plain": [
       "((5661, 1000), (1416, 1000))"
      ]
     },
     "execution_count": 50,
     "metadata": {},
     "output_type": "execute_result"
    }
   ],
   "source": [
    "X_train,X_test,y_train,y_test=train_test_split(data_mat,y_target,test_size=0.20,random_state=42)\n",
    "X_train.shape,X_test.shape"
   ]
  },
  {
   "cell_type": "markdown",
   "id": "d0ceaf72",
   "metadata": {},
   "source": [
    "We will define a Fuction that will enable to evaluate our models and display results. we will evaluate our model(s) using the Following metrics:\n",
    "1. ``Accuracy Score:`` This is the percentage of the the number of predictions that is predicted Correctly.\n",
    "2. ``Classification Report:`` this report conveys the following information,\n",
    "i. Precision Score\n",
    "ii. Recall score\n",
    "iii. F1 score\n",
    "3. ``Confusion Matrix:`` This is matrix that shows the Number of True postives TP,True Negatives TN,False Positive FP and False Negatives FN. it displays them as a matrix."
   ]
  },
  {
   "cell_type": "markdown",
   "id": "d4c09803",
   "metadata": {},
   "source": [
    "1. The ``Precision`` is the ratio ``tp / (tp + fp)`` where ``tp`` is the number of true positives and ``fp`` the number of false positives. The precision is intuitively the ability of the classifier not to label as positive a sample that is negative.\n",
    "2. The ``Recall``is the ratio ``tp / (tp + fn)`` where ``tp`` is the number of true positives and ``fn`` the number of false negatives. The recall is intuitively the ability of the classifier to find all the positi"
   ]
  },
  {
   "cell_type": "code",
   "execution_count": 51,
   "id": "5e4329df",
   "metadata": {},
   "outputs": [],
   "source": [
    "# Function to perform Evaluation and display results\n",
    "def Evaluation_Report(model,func_data,y_true=y_train,probability=True):\n",
    "    model.fit(func_data,y_true)\n",
    "    y_pred=model.predict(func_data)\n",
    "    cv_pred=cross_val_predict(model,func_data,y_true,cv=3)\n",
    "    print('Accuracy Score: {}'.format(round(accuracy_score(y_true,y_pred),2)))\n",
    "    print('\\nCross Validation Accuracy Score: {}'.format(round(accuracy_score(y_true,cv_pred),2)))\n",
    "    print('\\n',classification_report(y_true,cv_pred))\n",
    "    plt.figure(figsize=(10,10))\n",
    "    plt.title('Confusion Matrix',size=15)\n",
    "    sns.heatmap(confusion_matrix(y_true,cv_pred),annot=True)\n",
    "    plt.show()\n",
    "    plt.close()\n",
    "    if probability:\n",
    "        cv_pred_proba=cross_val_predict(model,func_data,y_true,cv=3,method='predict_proba')[:,1]\n",
    "        precision,recall,threshold=precision_recall_curve(y_true,cv_pred_proba)\n",
    "        plt.figure(figsize=(10,10))\n",
    "        plt.title('Precision Recall Curve',size=15)\n",
    "        plt.xlabel('Thresholds',size=15)\n",
    "        plt.plot(threshold,precision[:-1],'r--',lw=2,label='Precision Score')\n",
    "        plt.plot(threshold,recall[:-1],'g--',lw=2,label='Recall Score')\n",
    "        plt.legend(loc='center right')\n",
    "    return cv_pred"
   ]
  },
  {
   "cell_type": "markdown",
   "id": "398d4c40",
   "metadata": {},
   "source": [
    "``OVERFITTING:`` This is when the model learns the training data perfectly (it memorises the Train Data) and therefore fails to perform well on unseen test data. It is a common problem encountered in using machine learning models. There are methods which we will employ to fight overfitting, they are:\n",
    "1. ``Cross Validation :`` The Training set is divided into K-Folds (where K is a real Natural integer). The model is trained on Every fold except one and evaluated on the remaining one fold, this is done iteratively over the whole number of folds specified,then the average of these predictions are taken. This gives a real measure of the performance of the models as it evaluates on unseen data. For this task K will be equal to 3.\n",
    "2. ``Model Tuning:`` This is finding the best hyperparameters for a model. The hyperparameters are parameters that are not specific to the task at hand but rather a function of the model being used. We will tune these models by regularizing them to fight overfitting if it exists and get optimal results."
   ]
  },
  {
   "cell_type": "markdown",
   "id": "b434b830",
   "metadata": {},
   "source": [
    "The  Machine Learning Algorithms that will be used are \n",
    "1. Logistic Regression\n",
    "2. Gradient Boosting"
   ]
  },
  {
   "cell_type": "markdown",
   "id": "33e98df8",
   "metadata": {},
   "source": [
    "### Logistic Regression"
   ]
  },
  {
   "cell_type": "code",
   "execution_count": 52,
   "id": "f2d3aed9",
   "metadata": {},
   "outputs": [
    {
     "data": {
      "text/plain": [
       "LogisticRegression(max_iter=1000, random_state=42)"
      ]
     },
     "execution_count": 52,
     "metadata": {},
     "output_type": "execute_result"
    }
   ],
   "source": [
    "# Logistic Regression without Model Tuning\n",
    "log_clf=LogisticRegression(random_state=42,max_iter=1000) # Logistic Regression with max iterartion increased to 1000\n",
    "log_clf"
   ]
  },
  {
   "cell_type": "code",
   "execution_count": 53,
   "id": "99c3668f",
   "metadata": {},
   "outputs": [
    {
     "name": "stdout",
     "output_type": "stream",
     "text": [
      "Accuracy Score: 0.84\n",
      "\n",
      "Cross Validation Accuracy Score: 0.78\n",
      "\n",
      "               precision    recall  f1-score   support\n",
      "\n",
      "           0       0.79      0.68      0.73      2486\n",
      "           1       0.77      0.86      0.81      3175\n",
      "\n",
      "    accuracy                           0.78      5661\n",
      "   macro avg       0.78      0.77      0.77      5661\n",
      "weighted avg       0.78      0.78      0.78      5661\n",
      "\n"
     ]
    },
    {
     "data": {
      "image/png": "[encoded data removed]",
      "text/plain": [
       "<Figure size 720x720 with 2 Axes>"
      ]
     },
     "metadata": {},
     "output_type": "display_data"
    },
    {
     "data": {
      "text/plain": [
       "array([0, 0, 1, ..., 0, 1, 1], dtype=int64)"
      ]
     },
     "execution_count": 53,
     "metadata": {},
     "output_type": "execute_result"
    },
    {
     "data": {
      "image/png": "[encoded data removed]",
      "text/plain": [
       "<Figure size 720x720 with 1 Axes>"
      ]
     },
     "metadata": {},
     "output_type": "display_data"
    }
   ],
   "source": [
    "# Evaluating the Logistic Regression Model.\n",
    "Evaluation_Report(log_clf,X_train,y_train)"
   ]
  },
  {
   "cell_type": "markdown",
   "id": "8ad13f22",
   "metadata": {},
   "source": [
    "The Cell above gives the evaluation Reports and Displays Results for the Logistic Regression Classifier with default parameters."
   ]
  },
  {
   "cell_type": "markdown",
   "id": "457fd0dd",
   "metadata": {},
   "source": [
    "The Model achieves an Accuracy of 84% when evaluated on the train data on it and an Accuracy of 78 % when evaluated using cross validation. This difference may indicate that the model overfits the train data (84%),We will try to tune this model by regularizing it. "
   ]
  },
  {
   "cell_type": "markdown",
   "id": "7e2597ce",
   "metadata": {},
   "source": [
    "### Logistic Regression Model Tuning"
   ]
  },
  {
   "cell_type": "raw",
   "id": "0d99d6bf",
   "metadata": {},
   "source": [
    "There are various hyperparameters to be tuned For a Logistic Regression model ,but we will tune the parameter C.\n",
    "Definition of Parameter C:\n",
    "\n",
    "C : float, default=1.0\n",
    " |      Inverse of regularization strength; must be a positive float.\n",
    " |      Like in support vector machines, smaller values specify stronger\n",
    " |      regularization."
   ]
  },
  {
   "cell_type": "markdown",
   "id": "d0540109",
   "metadata": {},
   "source": [
    "We will use ``Grid search`` to try out various values of C and select the best performing of them based on cross validation. Grid SearchCV is contained in the sklearn's model_selection module."
   ]
  },
  {
   "cell_type": "code",
   "execution_count": 54,
   "id": "6bbe6888",
   "metadata": {},
   "outputs": [
    {
     "data": {
      "text/plain": [
       "GridSearchCV(cv=5, estimator=LogisticRegression(max_iter=1000, random_state=42),\n",
       "             param_grid={'C': [0.01, 0.1, 1, 10]})"
      ]
     },
     "execution_count": 54,
     "metadata": {},
     "output_type": "execute_result"
    }
   ],
   "source": [
    "## Implementing GridSearchCV\n",
    "params_dict={'C':[0.01,0.1,1,10]} # Values of C to be evaluated.\n",
    "grid=GridSearchCV(log_clf,param_grid=params_dict,cv=5) # Implements the Log Clf for diffrent values of C and evaluate using 3 Fold cross validation\n",
    "grid.fit(X_train,y_train)\n"
   ]
  },
  {
   "cell_type": "code",
   "execution_count": 55,
   "id": "82eabbef",
   "metadata": {},
   "outputs": [
    {
     "data": {
      "text/plain": [
       "({'C': 1}, 0.778486085597822)"
      ]
     },
     "execution_count": 55,
     "metadata": {},
     "output_type": "execute_result"
    }
   ],
   "source": [
    "# Shows the Best value of C found and the best score Obtained.\n",
    "grid.best_params_,grid.best_score_"
   ]
  },
  {
   "cell_type": "markdown",
   "id": "ec0ac386",
   "metadata": {},
   "source": [
    "The output sbove shows that the best value of C found coincide with the default value for C which is 1."
   ]
  },
  {
   "cell_type": "code",
   "execution_count": 56,
   "id": "11cea12f",
   "metadata": {
    "scrolled": true
   },
   "outputs": [
    {
     "data": {
      "text/html": [
       "<div>\n",
       "<style scoped>\n",
       "    .dataframe tbody tr th:only-of-type {\n",
       "        vertical-align: middle;\n",
       "    }\n",
       "\n",
       "    .dataframe tbody tr th {\n",
       "        vertical-align: top;\n",
       "    }\n",
       "\n",
       "    .dataframe thead th {\n",
       "        text-align: right;\n",
       "    }\n",
       "</style>\n",
       "<table border=\"1\" class=\"dataframe\">\n",
       "  <thead>\n",
       "    <tr style=\"text-align: right;\">\n",
       "      <th></th>\n",
       "      <th>mean_fit_time</th>\n",
       "      <th>std_fit_time</th>\n",
       "      <th>mean_score_time</th>\n",
       "      <th>std_score_time</th>\n",
       "      <th>param_C</th>\n",
       "      <th>params</th>\n",
       "      <th>split0_test_score</th>\n",
       "      <th>split1_test_score</th>\n",
       "      <th>split2_test_score</th>\n",
       "      <th>split3_test_score</th>\n",
       "      <th>split4_test_score</th>\n",
       "      <th>mean_test_score</th>\n",
       "      <th>std_test_score</th>\n",
       "      <th>rank_test_score</th>\n",
       "    </tr>\n",
       "  </thead>\n",
       "  <tbody>\n",
       "    <tr>\n",
       "      <th>0</th>\n",
       "      <td>0.137924</td>\n",
       "      <td>0.008855</td>\n",
       "      <td>0.005420</td>\n",
       "      <td>0.002868</td>\n",
       "      <td>0.01</td>\n",
       "      <td>{'C': 0.01}</td>\n",
       "      <td>0.560459</td>\n",
       "      <td>0.568021</td>\n",
       "      <td>0.562721</td>\n",
       "      <td>0.566254</td>\n",
       "      <td>0.566254</td>\n",
       "      <td>0.564742</td>\n",
       "      <td>0.002748</td>\n",
       "      <td>4</td>\n",
       "    </tr>\n",
       "    <tr>\n",
       "      <th>1</th>\n",
       "      <td>0.204378</td>\n",
       "      <td>0.007141</td>\n",
       "      <td>0.004362</td>\n",
       "      <td>0.004442</td>\n",
       "      <td>0.1</td>\n",
       "      <td>{'C': 0.1}</td>\n",
       "      <td>0.733451</td>\n",
       "      <td>0.750000</td>\n",
       "      <td>0.749117</td>\n",
       "      <td>0.749117</td>\n",
       "      <td>0.726148</td>\n",
       "      <td>0.741567</td>\n",
       "      <td>0.009886</td>\n",
       "      <td>3</td>\n",
       "    </tr>\n",
       "    <tr>\n",
       "      <th>2</th>\n",
       "      <td>0.342719</td>\n",
       "      <td>0.023398</td>\n",
       "      <td>0.006632</td>\n",
       "      <td>0.004832</td>\n",
       "      <td>1</td>\n",
       "      <td>{'C': 1}</td>\n",
       "      <td>0.768756</td>\n",
       "      <td>0.785336</td>\n",
       "      <td>0.780919</td>\n",
       "      <td>0.785336</td>\n",
       "      <td>0.772085</td>\n",
       "      <td>0.778486</td>\n",
       "      <td>0.006862</td>\n",
       "      <td>1</td>\n",
       "    </tr>\n",
       "    <tr>\n",
       "      <th>3</th>\n",
       "      <td>0.576586</td>\n",
       "      <td>0.044378</td>\n",
       "      <td>0.004704</td>\n",
       "      <td>0.002517</td>\n",
       "      <td>10</td>\n",
       "      <td>{'C': 10}</td>\n",
       "      <td>0.766990</td>\n",
       "      <td>0.772968</td>\n",
       "      <td>0.779152</td>\n",
       "      <td>0.749117</td>\n",
       "      <td>0.767668</td>\n",
       "      <td>0.767179</td>\n",
       "      <td>0.010034</td>\n",
       "      <td>2</td>\n",
       "    </tr>\n",
       "  </tbody>\n",
       "</table>\n",
       "</div>"
      ],
      "text/plain": [
       "   mean_fit_time  std_fit_time  mean_score_time  std_score_time param_C  \\\n",
       "0       0.137924      0.008855         0.005420        0.002868    0.01   \n",
       "1       0.204378      0.007141         0.004362        0.004442     0.1   \n",
       "2       0.342719      0.023398         0.006632        0.004832       1   \n",
       "3       0.576586      0.044378         0.004704        0.002517      10   \n",
       "\n",
       "        params  split0_test_score  split1_test_score  split2_test_score  \\\n",
       "0  {'C': 0.01}           0.560459           0.568021           0.562721   \n",
       "1   {'C': 0.1}           0.733451           0.750000           0.749117   \n",
       "2     {'C': 1}           0.768756           0.785336           0.780919   \n",
       "3    {'C': 10}           0.766990           0.772968           0.779152   \n",
       "\n",
       "   split3_test_score  split4_test_score  mean_test_score  std_test_score  \\\n",
       "0           0.566254           0.566254         0.564742        0.002748   \n",
       "1           0.749117           0.726148         0.741567        0.009886   \n",
       "2           0.785336           0.772085         0.778486        0.006862   \n",
       "3           0.749117           0.767668         0.767179        0.010034   \n",
       "\n",
       "   rank_test_score  \n",
       "0                4  \n",
       "1                3  \n",
       "2                1  \n",
       "3                2  "
      ]
     },
     "execution_count": 56,
     "metadata": {},
     "output_type": "execute_result"
    }
   ],
   "source": [
    "# Grid Search Cross Validation report DataFrame\n",
    "cv_results=pd.DataFrame(grid.cv_results_)\n",
    "cv_results"
   ]
  },
  {
   "cell_type": "code",
   "execution_count": 57,
   "id": "d982bc50",
   "metadata": {},
   "outputs": [
    {
     "data": {
      "text/plain": [
       "[<matplotlib.lines.Line2D at 0x234683b3670>]"
      ]
     },
     "execution_count": 57,
     "metadata": {},
     "output_type": "execute_result"
    },
    {
     "data": {
      "image/png": "[encoded data removed]",
      "text/plain": [
       "<Figure size 720x720 with 1 Axes>"
      ]
     },
     "metadata": {},
     "output_type": "display_data"
    }
   ],
   "source": [
    "## Ploting the CV results\n",
    "plt.figure(figsize=(10,10))\n",
    "plt.title('Logistic Regression Grid Search Result')\n",
    "plt.ylabel('Mean Test Scores',size=15);plt.xlabel('Values of C',size=15)\n",
    "plt.plot(cv_results.param_C,cv_results.mean_test_score,'r*--',lw=0.8)"
   ]
  },
  {
   "cell_type": "markdown",
   "id": "100e8d9e",
   "metadata": {},
   "source": [
    "The Tuning above achieved no new results and output same parameter of C as the default value. There fore the results should be same"
   ]
  },
  {
   "cell_type": "code",
   "execution_count": 58,
   "id": "53aec061",
   "metadata": {},
   "outputs": [
    {
     "name": "stdout",
     "output_type": "stream",
     "text": [
      "Accuracy Score: 0.84\n",
      "\n",
      "Cross Validation Accuracy Score: 0.78\n",
      "\n",
      "               precision    recall  f1-score   support\n",
      "\n",
      "           0       0.79      0.68      0.73      2486\n",
      "           1       0.77      0.86      0.81      3175\n",
      "\n",
      "    accuracy                           0.78      5661\n",
      "   macro avg       0.78      0.77      0.77      5661\n",
      "weighted avg       0.78      0.78      0.78      5661\n",
      "\n"
     ]
    },
    {
     "data": {
      "image/png": "[encoded data removed]",
      "text/plain": [
       "<Figure size 720x720 with 2 Axes>"
      ]
     },
     "metadata": {},
     "output_type": "display_data"
    },
    {
     "data": {
      "text/plain": [
       "array([0, 0, 1, ..., 0, 1, 1], dtype=int64)"
      ]
     },
     "execution_count": 58,
     "metadata": {},
     "output_type": "execute_result"
    },
    {
     "data": {
      "image/png": "[encoded data removed]",
      "text/plain": [
       "<Figure size 720x720 with 1 Axes>"
      ]
     },
     "metadata": {},
     "output_type": "display_data"
    }
   ],
   "source": [
    "Evaluation_Report(grid.best_estimator_,X_train,y_train)"
   ]
  },
  {
   "cell_type": "markdown",
   "id": "77a53bb7",
   "metadata": {},
   "source": [
    "#### Logistic Regression: Test Evaluation"
   ]
  },
  {
   "cell_type": "markdown",
   "id": "61e555af",
   "metadata": {},
   "source": [
    "We will evaluate the Logistic Regression Classifier on the Hold out test data. This data has not not been seen by the model. "
   ]
  },
  {
   "cell_type": "code",
   "execution_count": 59,
   "id": "d9a7020b",
   "metadata": {},
   "outputs": [
    {
     "name": "stdout",
     "output_type": "stream",
     "text": [
      "Logistic Classifier Test Accuracy Score: 0.76\n",
      "\n",
      "Logistic Classifier Test Precision Score: 0.76\n",
      "\n",
      "Logistic Classifier Test Recall Score: 0.86\n"
     ]
    }
   ],
   "source": [
    "log_pred=log_clf.predict(X_test)\n",
    "print('Logistic Classifier Test Accuracy Score: {}'.format(round(accuracy_score(y_test,log_pred),2)))\n",
    "print('\\nLogistic Classifier Test Precision Score: {}'.format(round(precision_score(y_test,log_pred),2)))\n",
    "print('\\nLogistic Classifier Test Recall Score: {}'.format(round(recall_score(y_test,log_pred),2)))"
   ]
  },
  {
   "cell_type": "markdown",
   "id": "f4b30088",
   "metadata": {},
   "source": [
    "### GradientBoosting Classifier"
   ]
  },
  {
   "cell_type": "code",
   "execution_count": 60,
   "id": "f164a17a",
   "metadata": {},
   "outputs": [
    {
     "data": {
      "text/plain": [
       "GradientBoostingClassifier(random_state=42)"
      ]
     },
     "execution_count": 60,
     "metadata": {},
     "output_type": "execute_result"
    }
   ],
   "source": [
    "# Gradient Boosting Classifier\n",
    "grad_clf=GradientBoostingClassifier(random_state=42)\n",
    "grad_clf.fit(X_train,y_train)"
   ]
  },
  {
   "cell_type": "code",
   "execution_count": 61,
   "id": "f6723306",
   "metadata": {
    "scrolled": true
   },
   "outputs": [
    {
     "name": "stdout",
     "output_type": "stream",
     "text": [
      "Accuracy Score: 0.81\n",
      "\n",
      "Cross Validation Accuracy Score: 0.74\n",
      "\n",
      "               precision    recall  f1-score   support\n",
      "\n",
      "           0       0.76      0.61      0.68      2486\n",
      "           1       0.73      0.85      0.79      3175\n",
      "\n",
      "    accuracy                           0.74      5661\n",
      "   macro avg       0.75      0.73      0.73      5661\n",
      "weighted avg       0.75      0.74      0.74      5661\n",
      "\n"
     ]
    },
    {
     "data": {
      "image/png": "[encoded data removed]",
      "text/plain": [
       "<Figure size 720x720 with 2 Axes>"
      ]
     },
     "metadata": {},
     "output_type": "display_data"
    },
    {
     "data": {
      "text/plain": [
       "array([0, 1, 0, ..., 0, 1, 1], dtype=int64)"
      ]
     },
     "execution_count": 61,
     "metadata": {},
     "output_type": "execute_result"
    },
    {
     "data": {
      "image/png": "[encoded data removed]",
      "text/plain": [
       "<Figure size 720x720 with 1 Axes>"
      ]
     },
     "metadata": {},
     "output_type": "display_data"
    }
   ],
   "source": [
    "Evaluation_Report(grad_clf,X_train,y_train)"
   ]
  },
  {
   "cell_type": "markdown",
   "id": "7877b628",
   "metadata": {},
   "source": [
    "Results for Default GradientBoostingClassifier is shown above. An accuracy score of 0.74 was achieved using cross validation"
   ]
  },
  {
   "cell_type": "markdown",
   "id": "6884daf7",
   "metadata": {},
   "source": [
    "### Gradient Boosting Tuning"
   ]
  },
  {
   "cell_type": "markdown",
   "id": "873d18fa",
   "metadata": {},
   "source": [
    "The Gradient Boosting Classifier will be tuned using Grid Search parameters to be tuned include the following:\n",
    "1. Min_Samples_Split\n",
    "2. Min_Samples_Leaf\n",
    "3. Max_Depth\n",
    "4. Max_Leaf_Nodes"
   ]
  },
  {
   "cell_type": "markdown",
   "id": "dad54fec",
   "metadata": {},
   "source": [
    "Tuning A ``GradientBoosting`` algorithm of large dimensions and feature space completely is computational costly for this reason, the test data will be used to used to tune the model because it has less data. The parameters gotten will be trained on the train data and finally evaluated using cross validation and Test Data. This is not bounded to give optimum results but it will give a near optimal one."
   ]
  },
  {
   "cell_type": "code",
   "execution_count": 62,
   "id": "3a9d1d59",
   "metadata": {},
   "outputs": [
    {
     "data": {
      "text/plain": [
       "GridSearchCV(cv=3, estimator=GradientBoostingClassifier(random_state=42),\n",
       "             param_grid={'max_depth': [5], 'max_leaf_nodes': [65, 75, 80],\n",
       "                         'min_samples_leaf': [5, 8],\n",
       "                         'min_samples_split': [2, 3, 4]})"
      ]
     },
     "execution_count": 62,
     "metadata": {},
     "output_type": "execute_result"
    }
   ],
   "source": [
    "params_grid={'min_samples_split':[2,3,4],'min_samples_leaf':[5,8],'max_leaf_nodes':[65,75,80],'max_depth':[5]} # Parameters to be ried \n",
    "grid=GridSearchCV(grad_clf,param_grid=params_grid,cv=3) # Implements the Grad Clf for diffrent values of the parameters and evaluate using 3 Fold cross validation.\n",
    "grid.fit(X_test,y_test) # Fits the Grid search on test data"
   ]
  },
  {
   "cell_type": "code",
   "execution_count": 63,
   "id": "8399d718",
   "metadata": {},
   "outputs": [
    {
     "data": {
      "text/plain": [
       "{'max_depth': 5,\n",
       " 'max_leaf_nodes': 65,\n",
       " 'min_samples_leaf': 8,\n",
       " 'min_samples_split': 2}"
      ]
     },
     "execution_count": 63,
     "metadata": {},
     "output_type": "execute_result"
    }
   ],
   "source": [
    "# Show the Best params\n",
    "grid.best_params_"
   ]
  },
  {
   "cell_type": "code",
   "execution_count": 64,
   "id": "c4362e90",
   "metadata": {},
   "outputs": [
    {
     "data": {
      "text/plain": [
       "0.7062146892655368"
      ]
     },
     "execution_count": 64,
     "metadata": {},
     "output_type": "execute_result"
    }
   ],
   "source": [
    "# Best Grid Score\n",
    "grid.best_score_"
   ]
  },
  {
   "cell_type": "code",
   "execution_count": 65,
   "id": "c9e8f0d2",
   "metadata": {},
   "outputs": [
    {
     "data": {
      "text/plain": [
       "GradientBoostingClassifier(max_depth=5, max_leaf_nodes=65, min_samples_leaf=8)"
      ]
     },
     "execution_count": 65,
     "metadata": {},
     "output_type": "execute_result"
    }
   ],
   "source": [
    "# Gradient Boosting Classifier\n",
    "grad_clf=GradientBoostingClassifier(**grid.best_params_) # Uses the best parasms from Grid Search\n",
    "grad_clf.fit(X_train,y_train) # Fits Tuned parameter Model on train data."
   ]
  },
  {
   "cell_type": "code",
   "execution_count": 66,
   "id": "ee98ec81",
   "metadata": {},
   "outputs": [
    {
     "name": "stdout",
     "output_type": "stream",
     "text": [
      "Accuracy Score: 0.86\n",
      "\n",
      "Cross Validation Accuracy Score: 0.75\n",
      "\n",
      "               precision    recall  f1-score   support\n",
      "\n",
      "           0       0.77      0.63      0.69      2486\n",
      "           1       0.75      0.85      0.79      3175\n",
      "\n",
      "    accuracy                           0.75      5661\n",
      "   macro avg       0.76      0.74      0.74      5661\n",
      "weighted avg       0.75      0.75      0.75      5661\n",
      "\n"
     ]
    },
    {
     "data": {
      "image/png": "[encoded data removed]",
      "text/plain": [
       "<Figure size 720x720 with 2 Axes>"
      ]
     },
     "metadata": {},
     "output_type": "display_data"
    },
    {
     "data": {
      "text/plain": [
       "array([0, 0, 0, ..., 0, 1, 1], dtype=int64)"
      ]
     },
     "execution_count": 66,
     "metadata": {},
     "output_type": "execute_result"
    },
    {
     "data": {
      "image/png": "[encoded data removed]",
      "text/plain": [
       "<Figure size 720x720 with 1 Axes>"
      ]
     },
     "metadata": {},
     "output_type": "display_data"
    }
   ],
   "source": [
    "Evaluation_Report(grad_clf,X_train,y_train)"
   ]
  },
  {
   "cell_type": "markdown",
   "id": "8e4e1075",
   "metadata": {},
   "source": [
    "### Gradient Boosting : Test Evaluation"
   ]
  },
  {
   "cell_type": "code",
   "execution_count": 67,
   "id": "379cb82d",
   "metadata": {},
   "outputs": [
    {
     "name": "stdout",
     "output_type": "stream",
     "text": [
      "Gradient Boosting Classifier Test Accuracy Score: 0.74\n",
      "\n",
      "Gradient Boosting Classifier Test Precision Score: 0.73\n",
      "\n",
      "Gradient Boosting Classifier Test Recall Score: 0.85\n"
     ]
    }
   ],
   "source": [
    "grad_pred=grad_clf.predict(X_test)\n",
    "print('Gradient Boosting Classifier Test Accuracy Score: {}'.format(round(accuracy_score(y_test,grad_pred),2)))\n",
    "print('\\nGradient Boosting Classifier Test Precision Score: {}'.format(round(precision_score(y_test,grad_pred),2)))\n",
    "print('\\nGradient Boosting Classifier Test Recall Score: {}'.format(round(recall_score(y_test,grad_pred),2)))"
   ]
  },
  {
   "cell_type": "markdown",
   "id": "a0386d69",
   "metadata": {},
   "source": [
    "#### Discussion of Result"
   ]
  },
  {
   "cell_type": "markdown",
   "id": "ee41010a",
   "metadata": {},
   "source": [
    "The Logistic Regression uses a Non-Linear Function to Transform a Output of Linear Regression to a Non-Linear One Bounded between 0,1 that can best be taken as probability. GradientBoosting is an ensemble method that combines the predictions of numerous individual decision trees."
   ]
  },
  {
   "cell_type": "markdown",
   "id": "69d52021",
   "metadata": {},
   "source": [
    "The Logistic Regression shows better results than GradientBossting . Our discussions will be based on the logistic Regression Model."
   ]
  },
  {
   "cell_type": "markdown",
   "id": "70d1d307",
   "metadata": {},
   "source": [
    "For this task,the Logistic Regression was first implemented using it default hyperparameters and the model gotten indicated a likely overfit of the Train data.We then tried to regularize it by trying different Values for the Hyperparameter C. In Logistic Regression The parameter C controls the level of Regularization applied to the model, it can be used in most instance to mitigate the problem of overfit and complexity."
   ]
  },
  {
   "cell_type": "markdown",
   "id": "f88f9f9a",
   "metadata": {},
   "source": [
    "At the end of Data Modelling using Logistic Regression the following ``Observations`` were made and ``results`` obtained:\n",
    "1. The Model Hyperparameter Tuning Failed to achieve any new result, rather it Gave the same default value for C (C=1). Therefore the result from the tuned parameter and Base model are the same. Logistic is less prone to overfitting.\n",
    "2. An Accuracy of 84% was gotten when the model was tested on the train data. This is not a true measure of the performance of the model.\n",
    "3. An Accuracy of 78% was achieved when evaluated using Cross Validation. This is rather a true representation of how the model may likely perform on unseen data.\n",
    "4. Other Metrics Used were tested using Cross Validation these Includes:\n",
    "5. Precision Score: 77% (0.77)\n",
    "6. Recall Score: 86% (0.86)\n",
    "7. F1 Score: 81% (0.81)"
   ]
  },
  {
   "cell_type": "markdown",
   "id": "d4f38cd4",
   "metadata": {},
   "source": [
    "1. An Accuracy score of 0.78 on cross validation implies that 78% of the data points were correctly classified.\n",
    "2. A Precision score of 0.77 on cross validation for the positive class implies that of all data points classified as Positive (Class 1) 77% was correctly predicted. A Precision of 0.79 on cross validation for the Negative class implies that of all data points classified as Negative (Class 0) 79% was correctly classified.\n",
    "3. A Recall score of 0.86 on cross validation for the positive class implies 86% of the total positive class (Class 1) in the train set were correctly classified.While A Recall score of 0.68 on cross validation for the negative class implies 68% of the total negative class (Class 0) in the train set were correctly classified."
   ]
  },
  {
   "cell_type": "markdown",
   "id": "13058828",
   "metadata": {},
   "source": [
    "A Models Performance ``Confusion Matrix`` shows the Number of Classifications Gotten correctly and wrongly.There are  3175 Positive Classes (1) and 2486 Negative classes(0), The Confusion Matrix shows that:\n",
    "1. Of the 3175 Positive Classes, 2700 were Predicted Correctly as Positives (True Positives,loc: Bottom Right Corner) while 460 were Wrongly Predicted (False Postives,loc: Bottom Left Corner).\n",
    "2. Of the 2486 Negative Classes, 1700 were predicted Correctly as Negatives (True Negatives, loc: Top Left Corner) While 800 were wrongly classified as Positives (False Negatives, loc: Top Right Corner).\n"
   ]
  },
  {
   "cell_type": "markdown",
   "id": "5968372f",
   "metadata": {},
   "source": [
    "The Precision Recall Curve shows the Values of the precision and Recall at Different Thresholds, While The Recall (Blue) Decreases Steadily From Threshold Zero, The Precision (Red) Increases steadily from Threshold Zero. They Intersect at 0.5 < Threshold < 0.6. at this point of intersection gives the F1_Score as 0.81. The Threshold used at default For decision making occurs at the F1 score this coincides with the point where the Precision and Recall score intersect."
   ]
  },
  {
   "cell_type": "markdown",
   "id": "ae9c0551",
   "metadata": {},
   "source": [
    "The Precision and Recall score can be varied by changing the threshold for Decision Making depending on the need, from the Precision-Recall plot if the threshold is set at 0.1 or below a Recall score of 1 will be obtained while the Precision will be approximately 0.58. If this threshold is then changed to 1 the Precision Score will be almost perfect i.e almost 1 while Recall score will be 0. This change of threshold depends on what is desired from the model. if we want a model to output the instance of a Positive Star Review with certainty (i.e a probability of almost 1) we will set the Threshold to between 0.98 and 1, any instance classified as positive(1) from this model will be taken with much confidence to be very accurate, the downside of settting the threshold to this value is that, instances of class 1 which are not very explicit,clear to the model and have a confidence value less than 0.98 will be classified as Negative(0). Setting the Threshold at between 0 and 0.1 will achieve a Recall score of >0.98 and a Precision score of approximately 0.58, This will ensure that >0.98 of the Positive instance will be correctly predicted but each of these prediction will have a confidence value of 0.58 that means each classification of Postitve Class have a 58% of being correct. "
   ]
  },
  {
   "cell_type": "markdown",
   "id": "f28dc48d",
   "metadata": {},
   "source": [
    "## REVIEW HELPFULNESS INFORMATION CLASSIFICATION"
   ]
  },
  {
   "cell_type": "markdown",
   "id": "0dba0e2d",
   "metadata": {},
   "source": [
    "### Target Variable Preprocessing"
   ]
  },
  {
   "cell_type": "markdown",
   "id": "8dfe295f",
   "metadata": {},
   "source": [
    "The Target Variable is the Review Help which is the Review helpfulness information. This model has no defined Threshold to distinguish Between helpful and unhelpful Reviews. We will first extract the Digits from the reviews help, then take the percentage of each Helpful review helpfulness as a fraction of the total Review Helpfulness to two decimal place. A threshold will then be set to distinguish between Helpful and Non Helpful Reviews."
   ]
  },
  {
   "cell_type": "code",
   "execution_count": 68,
   "id": "4bc91a04",
   "metadata": {},
   "outputs": [
    {
     "data": {
      "text/html": [
       "<div>\n",
       "<style scoped>\n",
       "    .dataframe tbody tr th:only-of-type {\n",
       "        vertical-align: middle;\n",
       "    }\n",
       "\n",
       "    .dataframe tbody tr th {\n",
       "        vertical-align: top;\n",
       "    }\n",
       "\n",
       "    .dataframe thead th {\n",
       "        text-align: right;\n",
       "    }\n",
       "</style>\n",
       "<table border=\"1\" class=\"dataframe\">\n",
       "  <thead>\n",
       "    <tr style=\"text-align: right;\">\n",
       "      <th></th>\n",
       "      <th>Titles</th>\n",
       "      <th>Star_Ratings</th>\n",
       "      <th>Reviews Help</th>\n",
       "      <th>Reviews</th>\n",
       "      <th>Titles_Reviews</th>\n",
       "    </tr>\n",
       "  </thead>\n",
       "  <tbody>\n",
       "    <tr>\n",
       "      <th>0</th>\n",
       "      <td>This filter works PERFECT!</td>\n",
       "      <td>1</td>\n",
       "      <td>472 out of 477 users found this review helpful</td>\n",
       "      <td>Seriously, I love my Keurig. I love the conven...</td>\n",
       "      <td>This filter works PERFECT! Seriously, I love m...</td>\n",
       "    </tr>\n",
       "    <tr>\n",
       "      <th>1</th>\n",
       "      <td>This stuff is great for muffins</td>\n",
       "      <td>1</td>\n",
       "      <td>17 out of 17 users found this review helpful</td>\n",
       "      <td>There's a recipe on the back of the package fo...</td>\n",
       "      <td>This stuff is great for muffins There's a reci...</td>\n",
       "    </tr>\n",
       "    <tr>\n",
       "      <th>2</th>\n",
       "      <td>Curiously awful</td>\n",
       "      <td>0</td>\n",
       "      <td>1 out of 14 users found this review helpful</td>\n",
       "      <td>Cola is by far my favorite drink. My wife and ...</td>\n",
       "      <td>Curiously awful Cola is by far my favorite dri...</td>\n",
       "    </tr>\n",
       "    <tr>\n",
       "      <th>3</th>\n",
       "      <td>Rancid!</td>\n",
       "      <td>0</td>\n",
       "      <td>23 out of 26 users found this review helpful</td>\n",
       "      <td>I love chia, but I have gotten two different p...</td>\n",
       "      <td>Rancid! I love chia, but I have gotten two dif...</td>\n",
       "    </tr>\n",
       "    <tr>\n",
       "      <th>4</th>\n",
       "      <td>They taste like boogers</td>\n",
       "      <td>0</td>\n",
       "      <td>4 out of 19 users found this review helpful</td>\n",
       "      <td>If you don't like the sound of a salty, vinega...</td>\n",
       "      <td>They taste like boogers If you don't like the ...</td>\n",
       "    </tr>\n",
       "  </tbody>\n",
       "</table>\n",
       "</div>"
      ],
      "text/plain": [
       "                            Titles  Star_Ratings  \\\n",
       "0       This filter works PERFECT!             1   \n",
       "1  This stuff is great for muffins             1   \n",
       "2                  Curiously awful             0   \n",
       "3                          Rancid!             0   \n",
       "4          They taste like boogers             0   \n",
       "\n",
       "                                     Reviews Help  \\\n",
       "0  472 out of 477 users found this review helpful   \n",
       "1    17 out of 17 users found this review helpful   \n",
       "2     1 out of 14 users found this review helpful   \n",
       "3    23 out of 26 users found this review helpful   \n",
       "4     4 out of 19 users found this review helpful   \n",
       "\n",
       "                                             Reviews  \\\n",
       "0  Seriously, I love my Keurig. I love the conven...   \n",
       "1  There's a recipe on the back of the package fo...   \n",
       "2  Cola is by far my favorite drink. My wife and ...   \n",
       "3  I love chia, but I have gotten two different p...   \n",
       "4  If you don't like the sound of a salty, vinega...   \n",
       "\n",
       "                                      Titles_Reviews  \n",
       "0  This filter works PERFECT! Seriously, I love m...  \n",
       "1  This stuff is great for muffins There's a reci...  \n",
       "2  Curiously awful Cola is by far my favorite dri...  \n",
       "3  Rancid! I love chia, but I have gotten two dif...  \n",
       "4  They taste like boogers If you don't like the ...  "
      ]
     },
     "execution_count": 68,
     "metadata": {},
     "output_type": "execute_result"
    }
   ],
   "source": [
    "data.head(5)"
   ]
  },
  {
   "cell_type": "code",
   "execution_count": 69,
   "id": "a0b3d6f7",
   "metadata": {},
   "outputs": [
    {
     "data": {
      "text/html": [
       "<div>\n",
       "<style scoped>\n",
       "    .dataframe tbody tr th:only-of-type {\n",
       "        vertical-align: middle;\n",
       "    }\n",
       "\n",
       "    .dataframe tbody tr th {\n",
       "        vertical-align: top;\n",
       "    }\n",
       "\n",
       "    .dataframe thead th {\n",
       "        text-align: right;\n",
       "    }\n",
       "</style>\n",
       "<table border=\"1\" class=\"dataframe\">\n",
       "  <thead>\n",
       "    <tr style=\"text-align: right;\">\n",
       "      <th></th>\n",
       "      <th>Titles</th>\n",
       "      <th>Star_Ratings</th>\n",
       "      <th>Reviews Help</th>\n",
       "      <th>Reviews</th>\n",
       "      <th>Titles_Reviews</th>\n",
       "    </tr>\n",
       "  </thead>\n",
       "  <tbody>\n",
       "    <tr>\n",
       "      <th>0</th>\n",
       "      <td>This filter works PERFECT!</td>\n",
       "      <td>1</td>\n",
       "      <td>[472, 477]</td>\n",
       "      <td>Seriously, I love my Keurig. I love the conven...</td>\n",
       "      <td>This filter works PERFECT! Seriously, I love m...</td>\n",
       "    </tr>\n",
       "    <tr>\n",
       "      <th>1</th>\n",
       "      <td>This stuff is great for muffins</td>\n",
       "      <td>1</td>\n",
       "      <td>[17, 17]</td>\n",
       "      <td>There's a recipe on the back of the package fo...</td>\n",
       "      <td>This stuff is great for muffins There's a reci...</td>\n",
       "    </tr>\n",
       "    <tr>\n",
       "      <th>2</th>\n",
       "      <td>Curiously awful</td>\n",
       "      <td>0</td>\n",
       "      <td>[1, 14]</td>\n",
       "      <td>Cola is by far my favorite drink. My wife and ...</td>\n",
       "      <td>Curiously awful Cola is by far my favorite dri...</td>\n",
       "    </tr>\n",
       "    <tr>\n",
       "      <th>3</th>\n",
       "      <td>Rancid!</td>\n",
       "      <td>0</td>\n",
       "      <td>[23, 26]</td>\n",
       "      <td>I love chia, but I have gotten two different p...</td>\n",
       "      <td>Rancid! I love chia, but I have gotten two dif...</td>\n",
       "    </tr>\n",
       "    <tr>\n",
       "      <th>4</th>\n",
       "      <td>They taste like boogers</td>\n",
       "      <td>0</td>\n",
       "      <td>[4, 19]</td>\n",
       "      <td>If you don't like the sound of a salty, vinega...</td>\n",
       "      <td>They taste like boogers If you don't like the ...</td>\n",
       "    </tr>\n",
       "  </tbody>\n",
       "</table>\n",
       "</div>"
      ],
      "text/plain": [
       "                            Titles  Star_Ratings Reviews Help  \\\n",
       "0       This filter works PERFECT!             1   [472, 477]   \n",
       "1  This stuff is great for muffins             1     [17, 17]   \n",
       "2                  Curiously awful             0      [1, 14]   \n",
       "3                          Rancid!             0     [23, 26]   \n",
       "4          They taste like boogers             0      [4, 19]   \n",
       "\n",
       "                                             Reviews  \\\n",
       "0  Seriously, I love my Keurig. I love the conven...   \n",
       "1  There's a recipe on the back of the package fo...   \n",
       "2  Cola is by far my favorite drink. My wife and ...   \n",
       "3  I love chia, but I have gotten two different p...   \n",
       "4  If you don't like the sound of a salty, vinega...   \n",
       "\n",
       "                                      Titles_Reviews  \n",
       "0  This filter works PERFECT! Seriously, I love m...  \n",
       "1  This stuff is great for muffins There's a reci...  \n",
       "2  Curiously awful Cola is by far my favorite dri...  \n",
       "3  Rancid! I love chia, but I have gotten two dif...  \n",
       "4  They taste like boogers If you don't like the ...  "
      ]
     },
     "execution_count": 69,
     "metadata": {},
     "output_type": "execute_result"
    }
   ],
   "source": [
    "# Extract only the Numbers/Digitsf rom the Review Help Coulmns\n",
    "data['Reviews Help']=[re.findall(r'\\d+',rating) for rating in data['Reviews Help']] # Extracts The Ratings and convert to integer\n",
    "data.head(5)"
   ]
  },
  {
   "cell_type": "markdown",
   "id": "f13e1ec7",
   "metadata": {},
   "source": [
    "The Reviews Help Column in the cell above contains lists of values. The First entry in each List gives the Number of persons who found the review information helpful. while the second entry gives the total number of persons who had an opinion either positive,negative or neutral about the Reviews."
   ]
  },
  {
   "cell_type": "markdown",
   "id": "4bc88c6d",
   "metadata": {},
   "source": [
    "We will take the fraction of the Number of the Persons who found the Review Information helpful of the total number of reviews helpfulness i.e the first_entry/second_entry in each list."
   ]
  },
  {
   "cell_type": "code",
   "execution_count": 70,
   "id": "67133827",
   "metadata": {},
   "outputs": [
    {
     "data": {
      "text/html": [
       "<div>\n",
       "<style scoped>\n",
       "    .dataframe tbody tr th:only-of-type {\n",
       "        vertical-align: middle;\n",
       "    }\n",
       "\n",
       "    .dataframe tbody tr th {\n",
       "        vertical-align: top;\n",
       "    }\n",
       "\n",
       "    .dataframe thead th {\n",
       "        text-align: right;\n",
       "    }\n",
       "</style>\n",
       "<table border=\"1\" class=\"dataframe\">\n",
       "  <thead>\n",
       "    <tr style=\"text-align: right;\">\n",
       "      <th></th>\n",
       "      <th>Titles</th>\n",
       "      <th>Star_Ratings</th>\n",
       "      <th>Reviews Help</th>\n",
       "      <th>Reviews</th>\n",
       "      <th>Titles_Reviews</th>\n",
       "    </tr>\n",
       "  </thead>\n",
       "  <tbody>\n",
       "    <tr>\n",
       "      <th>0</th>\n",
       "      <td>This filter works PERFECT!</td>\n",
       "      <td>1</td>\n",
       "      <td>0.99</td>\n",
       "      <td>Seriously, I love my Keurig. I love the conven...</td>\n",
       "      <td>This filter works PERFECT! Seriously, I love m...</td>\n",
       "    </tr>\n",
       "    <tr>\n",
       "      <th>1</th>\n",
       "      <td>This stuff is great for muffins</td>\n",
       "      <td>1</td>\n",
       "      <td>1.00</td>\n",
       "      <td>There's a recipe on the back of the package fo...</td>\n",
       "      <td>This stuff is great for muffins There's a reci...</td>\n",
       "    </tr>\n",
       "    <tr>\n",
       "      <th>2</th>\n",
       "      <td>Curiously awful</td>\n",
       "      <td>0</td>\n",
       "      <td>0.07</td>\n",
       "      <td>Cola is by far my favorite drink. My wife and ...</td>\n",
       "      <td>Curiously awful Cola is by far my favorite dri...</td>\n",
       "    </tr>\n",
       "    <tr>\n",
       "      <th>3</th>\n",
       "      <td>Rancid!</td>\n",
       "      <td>0</td>\n",
       "      <td>0.88</td>\n",
       "      <td>I love chia, but I have gotten two different p...</td>\n",
       "      <td>Rancid! I love chia, but I have gotten two dif...</td>\n",
       "    </tr>\n",
       "    <tr>\n",
       "      <th>4</th>\n",
       "      <td>They taste like boogers</td>\n",
       "      <td>0</td>\n",
       "      <td>0.21</td>\n",
       "      <td>If you don't like the sound of a salty, vinega...</td>\n",
       "      <td>They taste like boogers If you don't like the ...</td>\n",
       "    </tr>\n",
       "  </tbody>\n",
       "</table>\n",
       "</div>"
      ],
      "text/plain": [
       "                            Titles  Star_Ratings  Reviews Help  \\\n",
       "0       This filter works PERFECT!             1          0.99   \n",
       "1  This stuff is great for muffins             1          1.00   \n",
       "2                  Curiously awful             0          0.07   \n",
       "3                          Rancid!             0          0.88   \n",
       "4          They taste like boogers             0          0.21   \n",
       "\n",
       "                                             Reviews  \\\n",
       "0  Seriously, I love my Keurig. I love the conven...   \n",
       "1  There's a recipe on the back of the package fo...   \n",
       "2  Cola is by far my favorite drink. My wife and ...   \n",
       "3  I love chia, but I have gotten two different p...   \n",
       "4  If you don't like the sound of a salty, vinega...   \n",
       "\n",
       "                                      Titles_Reviews  \n",
       "0  This filter works PERFECT! Seriously, I love m...  \n",
       "1  This stuff is great for muffins There's a reci...  \n",
       "2  Curiously awful Cola is by far my favorite dri...  \n",
       "3  Rancid! I love chia, but I have gotten two dif...  \n",
       "4  They taste like boogers If you don't like the ...  "
      ]
     },
     "execution_count": 70,
     "metadata": {},
     "output_type": "execute_result"
    }
   ],
   "source": [
    "data['Reviews Help']=[round(int(Review[0])/int(Review[1]),2) for Review in data['Reviews Help']] # Divides the first_entry byt the second entry in the list rounded up to two decimal place.\n",
    "data.head(5)"
   ]
  },
  {
   "cell_type": "code",
   "execution_count": 71,
   "id": "1e132644",
   "metadata": {},
   "outputs": [
    {
     "data": {
      "image/png": "[encoded data removed]",
      "text/plain": [
       "<Figure size 720x720 with 1 Axes>"
      ]
     },
     "metadata": {},
     "output_type": "display_data"
    }
   ],
   "source": [
    "# Plot of Reviews Help\n",
    "plt.figure(figsize=(10,10))\n",
    "plt.title('Review Helpfulness Histogram and Distribution Plot',size=20)\n",
    "plt.xlabel('Review Helpfulness',size=15)\n",
    "sns.histplot(data['Reviews Help'],kde=True,color='y')\n",
    "plt.annotate(text='Distribution Estimation  Plot',xy=(0.88,500.0),xytext=(0.5,750.0),size=15,color='r',arrowprops={'arrowstyle':'->','linestyle':'--','color':'b'})\n",
    "plt.show()\n",
    "plt.close()"
   ]
  },
  {
   "cell_type": "markdown",
   "id": "694985f1",
   "metadata": {},
   "source": [
    "The plot above shows the Histogram of the Review Helpfulness information and the Kernel Density Estimation (KDE) plot. This shows that much of the Values abound in the region above 0.8. For the sake task we seek to set a threshold to differentiate between 'Helpful' and 'Unhelpful' Reviews."
   ]
  },
  {
   "cell_type": "markdown",
   "id": "c3454f90",
   "metadata": {},
   "source": [
    "We will set the thresholds at 0.50 (50%). This means that reviews that less than 50% of people do not finf helpful will be given a score of ``0`` while those with above 50% of positive Review Helpfulness information will be set to ``1`` indicating that the reviews is considered helpful "
   ]
  },
  {
   "cell_type": "code",
   "execution_count": 72,
   "id": "1c1444d9",
   "metadata": {},
   "outputs": [
    {
     "data": {
      "text/plain": [
       "<AxesSubplot:title={'center':'Review HelpFulness Class Plot'}, xlabel='Review HelpFulness', ylabel='Count'>"
      ]
     },
     "execution_count": 72,
     "metadata": {},
     "output_type": "execute_result"
    },
    {
     "data": {
      "image/png": "[encoded data removed]",
      "text/plain": [
       "<Figure size 720x720 with 1 Axes>"
      ]
     },
     "metadata": {},
     "output_type": "display_data"
    }
   ],
   "source": [
    "# Setting Threshold and Display Results\n",
    "y_target=np.where(data['Reviews Help']>=0.50,1,0) # Creates the Target Variable with Review Fraction<=0.5 as 0 and Reviews Fraction > 0.5 as 1 \n",
    "data['Reviews Help']=np.where(data['Reviews Help']>=0.50,'helpful','unhelpful')\n",
    "plt.figure(figsize=(10,10))\n",
    "plt.title('Review HelpFulness Class Plot',size=20)\n",
    "plt.xlabel('Review HelpFulness',size=20)\n",
    "sns.histplot(y_target)"
   ]
  },
  {
   "cell_type": "markdown",
   "id": "4be992e8",
   "metadata": {},
   "source": [
    "The Reviews helpfulness have been categorized as either Helpful or Unhelpful as seen in the cell Above."
   ]
  },
  {
   "cell_type": "markdown",
   "id": "bf493a05",
   "metadata": {},
   "source": [
    "The Plot above shows that the classes are highly inbalanced  that means there are almost 3 times or class 1 than class 0. This can pose a challenge for our model. "
   ]
  },
  {
   "cell_type": "code",
   "execution_count": 73,
   "id": "2d6c3b12",
   "metadata": {},
   "outputs": [
    {
     "data": {
      "text/html": [
       "<div>\n",
       "<style scoped>\n",
       "    .dataframe tbody tr th:only-of-type {\n",
       "        vertical-align: middle;\n",
       "    }\n",
       "\n",
       "    .dataframe tbody tr th {\n",
       "        vertical-align: top;\n",
       "    }\n",
       "\n",
       "    .dataframe thead th {\n",
       "        text-align: right;\n",
       "    }\n",
       "</style>\n",
       "<table border=\"1\" class=\"dataframe\">\n",
       "  <thead>\n",
       "    <tr style=\"text-align: right;\">\n",
       "      <th></th>\n",
       "      <th>Titles</th>\n",
       "      <th>Star_Ratings</th>\n",
       "      <th>Reviews Help</th>\n",
       "      <th>Reviews</th>\n",
       "      <th>Titles_Reviews</th>\n",
       "    </tr>\n",
       "  </thead>\n",
       "  <tbody>\n",
       "    <tr>\n",
       "      <th>0</th>\n",
       "      <td>This filter works PERFECT!</td>\n",
       "      <td>1</td>\n",
       "      <td>helpful</td>\n",
       "      <td>Seriously, I love my Keurig. I love the conven...</td>\n",
       "      <td>This filter works PERFECT! Seriously, I love m...</td>\n",
       "    </tr>\n",
       "    <tr>\n",
       "      <th>1</th>\n",
       "      <td>This stuff is great for muffins</td>\n",
       "      <td>1</td>\n",
       "      <td>helpful</td>\n",
       "      <td>There's a recipe on the back of the package fo...</td>\n",
       "      <td>This stuff is great for muffins There's a reci...</td>\n",
       "    </tr>\n",
       "    <tr>\n",
       "      <th>2</th>\n",
       "      <td>Curiously awful</td>\n",
       "      <td>0</td>\n",
       "      <td>unhelpful</td>\n",
       "      <td>Cola is by far my favorite drink. My wife and ...</td>\n",
       "      <td>Curiously awful Cola is by far my favorite dri...</td>\n",
       "    </tr>\n",
       "    <tr>\n",
       "      <th>3</th>\n",
       "      <td>Rancid!</td>\n",
       "      <td>0</td>\n",
       "      <td>helpful</td>\n",
       "      <td>I love chia, but I have gotten two different p...</td>\n",
       "      <td>Rancid! I love chia, but I have gotten two dif...</td>\n",
       "    </tr>\n",
       "    <tr>\n",
       "      <th>4</th>\n",
       "      <td>They taste like boogers</td>\n",
       "      <td>0</td>\n",
       "      <td>unhelpful</td>\n",
       "      <td>If you don't like the sound of a salty, vinega...</td>\n",
       "      <td>They taste like boogers If you don't like the ...</td>\n",
       "    </tr>\n",
       "  </tbody>\n",
       "</table>\n",
       "</div>"
      ],
      "text/plain": [
       "                            Titles  Star_Ratings Reviews Help  \\\n",
       "0       This filter works PERFECT!             1      helpful   \n",
       "1  This stuff is great for muffins             1      helpful   \n",
       "2                  Curiously awful             0    unhelpful   \n",
       "3                          Rancid!             0      helpful   \n",
       "4          They taste like boogers             0    unhelpful   \n",
       "\n",
       "                                             Reviews  \\\n",
       "0  Seriously, I love my Keurig. I love the conven...   \n",
       "1  There's a recipe on the back of the package fo...   \n",
       "2  Cola is by far my favorite drink. My wife and ...   \n",
       "3  I love chia, but I have gotten two different p...   \n",
       "4  If you don't like the sound of a salty, vinega...   \n",
       "\n",
       "                                      Titles_Reviews  \n",
       "0  This filter works PERFECT! Seriously, I love m...  \n",
       "1  This stuff is great for muffins There's a reci...  \n",
       "2  Curiously awful Cola is by far my favorite dri...  \n",
       "3  Rancid! I love chia, but I have gotten two dif...  \n",
       "4  They taste like boogers If you don't like the ...  "
      ]
     },
     "execution_count": 73,
     "metadata": {},
     "output_type": "execute_result"
    }
   ],
   "source": [
    "data.head(5)"
   ]
  },
  {
   "cell_type": "code",
   "execution_count": 74,
   "id": "ebe3fb15",
   "metadata": {},
   "outputs": [
    {
     "data": {
      "text/plain": [
       "array([1, 1, 0, 1, 0])"
      ]
     },
     "execution_count": 74,
     "metadata": {},
     "output_type": "execute_result"
    }
   ],
   "source": [
    "# Show Target Variable\n",
    "y_target[:5]"
   ]
  },
  {
   "cell_type": "markdown",
   "id": "053640e2",
   "metadata": {},
   "source": [
    "### Data Modelling and Machine Learning\n"
   ]
  },
  {
   "cell_type": "markdown",
   "id": "32d405ef",
   "metadata": {},
   "source": [
    "We will split our dataset into train and test. The test data will comprise 20% of the total entry while train will be 80%. The test data is ot part of the training Set,it will be used to finally evaluate the Performance of the model."
   ]
  },
  {
   "cell_type": "code",
   "execution_count": 75,
   "id": "d91c210d",
   "metadata": {},
   "outputs": [
    {
     "data": {
      "text/plain": [
       "((5661, 1000), (1416, 1000))"
      ]
     },
     "execution_count": 75,
     "metadata": {},
     "output_type": "execute_result"
    }
   ],
   "source": [
    "X_train,X_test,y_train,y_test=train_test_split(data_mat,y_target,test_size=0.20,random_state=42)\n",
    "X_train.shape,X_test.shape"
   ]
  },
  {
   "cell_type": "markdown",
   "id": "6bd5e83f",
   "metadata": {},
   "source": [
    "### Logistic Regression"
   ]
  },
  {
   "cell_type": "code",
   "execution_count": 76,
   "id": "0762d294",
   "metadata": {},
   "outputs": [
    {
     "data": {
      "text/plain": [
       "LogisticRegression(max_iter=1000, random_state=42)"
      ]
     },
     "execution_count": 76,
     "metadata": {},
     "output_type": "execute_result"
    }
   ],
   "source": [
    "# Logistic Regression without Model Tuning and Class weights\n",
    "log_clf=LogisticRegression(random_state=42,max_iter=1000) # Logistic Regression with max iterartion increased to 1000\n",
    "log_clf"
   ]
  },
  {
   "cell_type": "code",
   "execution_count": 77,
   "id": "f6391888",
   "metadata": {},
   "outputs": [
    {
     "name": "stdout",
     "output_type": "stream",
     "text": [
      "Accuracy Score: 0.84\n",
      "\n",
      "Cross Validation Accuracy Score: 0.83\n",
      "\n",
      "               precision    recall  f1-score   support\n",
      "\n",
      "           0       0.70      0.04      0.08       987\n",
      "           1       0.83      1.00      0.91      4674\n",
      "\n",
      "    accuracy                           0.83      5661\n",
      "   macro avg       0.77      0.52      0.49      5661\n",
      "weighted avg       0.81      0.83      0.76      5661\n",
      "\n"
     ]
    },
    {
     "data": {
      "image/png": "[encoded data removed]",
      "text/plain": [
       "<Figure size 720x720 with 2 Axes>"
      ]
     },
     "metadata": {},
     "output_type": "display_data"
    },
    {
     "data": {
      "text/plain": [
       "array([1, 1, 1, ..., 1, 1, 1])"
      ]
     },
     "execution_count": 77,
     "metadata": {},
     "output_type": "execute_result"
    },
    {
     "data": {
      "image/png": "[encoded data removed]",
      "text/plain": [
       "<Figure size 720x720 with 1 Axes>"
      ]
     },
     "metadata": {},
     "output_type": "display_data"
    }
   ],
   "source": [
    "# Evaluating the Logistic Regression Model.\n",
    "Evaluation_Report(log_clf,X_train,y_train)"
   ]
  },
  {
   "cell_type": "markdown",
   "id": "ab41ea21",
   "metadata": {},
   "source": [
    "The Cell above gives the Evaluation Report and Displays Results for the Logistic Regression Classifier."
   ]
  },
  {
   "cell_type": "markdown",
   "id": "cb56bf1d",
   "metadata": {},
   "source": [
    "The results of the Logistic regression shown above looks promising and high but a closer look shows that the ``Recall`` for Class 1 which is the majority class is 0.99(perfect) while the ``Recall`` for class 0 is 0.06(poor) This indicates that almost all instances of class 1(Helpful Reviews) were rightly classified(99%) as 1, while almost all the instances of class 0(Unhelpful Reviews) were wrongly classified together as class 1. This occurs because there are much more samples of class 1 than class 0 therefore since the model encounters instances of class 1 more often it will then likely classify every instance it may meet as class 1.This phenomenom if not handled will be extended to unseen test data. "
   ]
  },
  {
   "cell_type": "markdown",
   "id": "cc5fb2c3",
   "metadata": {},
   "source": [
    "The Confusion Matrix shows that only 62 of the 1000+ instances of class 0(Unhelpful reviews) were rightly classified  as Unhelpful while the rest were Wrongly classified as Helpful. On the other hand 4600+ of Helpful Reviews were correctly classified as Helpful while 29 only were classified wrongly.This means the model perfroms very well on he Helpful Class and poorly on the Unhelpful Class.\n"
   ]
  },
  {
   "cell_type": "markdown",
   "id": "212e5ab5",
   "metadata": {},
   "source": [
    "This model will mostly classify unseen data as Helpful because of this imbalance."
   ]
  },
  {
   "cell_type": "markdown",
   "id": "6b5fa4b6",
   "metadata": {},
   "source": [
    "Imbalance dataset problem in Machine Learning can be handled in a number of ways namely:\n",
    "1. Getting more Data \n",
    "2. Generating Synthetic Data e.g using KNN\n",
    "3. Using Class weight\n",
    "\n",
    "We will employ the last option to solve this problem of Imbalance for this task. Class weights implies assigning weights to each class of the model, this gives the model a clue on the class to pay closer attention to. we will assign a higher weight to the minority class(0) and lesser weight to the majority class. This makes the model to pay closer attention to instances of the minority class."
   ]
  },
  {
   "cell_type": "code",
   "execution_count": 78,
   "id": "022198e9",
   "metadata": {},
   "outputs": [
    {
     "data": {
      "text/plain": [
       "LogisticRegression(class_weight={0: 4, 1: 1}, max_iter=1000, random_state=42)"
      ]
     },
     "execution_count": 78,
     "metadata": {},
     "output_type": "execute_result"
    }
   ],
   "source": [
    "# Logistic Regression with class weights\n",
    "log_clf=LogisticRegression(random_state=42,max_iter=1000,class_weight={0:4,1:1}) # Logistic Regression with max iterartion increased to 1000\n",
    "log_clf"
   ]
  },
  {
   "cell_type": "markdown",
   "id": "057841a0",
   "metadata": {},
   "source": [
    "The Class weight parameter is part of the Logistic Regression Algorithm in sklearn. We pass this parameter to the classifier with class 0(Unhelpful Reviews) having a class weights of 4 while class 1(Helpful Reviews) have a class weight of 1."
   ]
  },
  {
   "cell_type": "code",
   "execution_count": 79,
   "id": "2e68736c",
   "metadata": {},
   "outputs": [
    {
     "name": "stdout",
     "output_type": "stream",
     "text": [
      "Accuracy Score: 0.82\n",
      "\n",
      "Cross Validation Accuracy Score: 0.75\n",
      "\n",
      "               precision    recall  f1-score   support\n",
      "\n",
      "           0       0.34      0.50      0.41       987\n",
      "           1       0.88      0.80      0.84      4674\n",
      "\n",
      "    accuracy                           0.75      5661\n",
      "   macro avg       0.61      0.65      0.62      5661\n",
      "weighted avg       0.79      0.75      0.76      5661\n",
      "\n"
     ]
    },
    {
     "data": {
      "image/png": "[encoded data removed]",
      "text/plain": [
       "<Figure size 720x720 with 2 Axes>"
      ]
     },
     "metadata": {},
     "output_type": "display_data"
    },
    {
     "data": {
      "text/plain": [
       "array([1, 0, 1, ..., 1, 1, 1])"
      ]
     },
     "execution_count": 79,
     "metadata": {},
     "output_type": "execute_result"
    },
    {
     "data": {
      "image/png": "[encoded data removed]",
      "text/plain": [
       "<Figure size 720x720 with 1 Axes>"
      ]
     },
     "metadata": {},
     "output_type": "display_data"
    }
   ],
   "source": [
    "# Evaluating the Logistic Regression Model.\n",
    "Evaluation_Report(log_clf,X_train,y_train)"
   ]
  },
  {
   "cell_type": "markdown",
   "id": "0c7de01b",
   "metadata": {},
   "source": [
    "The Results above shows improved result for class 0 (unhelpful Reviews), its Recall has improved to 0.5 and precision to 0.34. The Confusion Matrix also shows improved performance of the model on class 0. 490 was able to  be correctly  classified against the 49 earlier with the equal class weights. while the model performance on class 1 decreased \n",
    "\n",
    "These scores can be adjusted based on need and objectives. for this task we will be satisfied with these weights and its results."
   ]
  },
  {
   "cell_type": "markdown",
   "id": "c14a18e6",
   "metadata": {},
   "source": [
    "#### Logistic Regression: Test Evaluation"
   ]
  },
  {
   "cell_type": "markdown",
   "id": "fff2cbff",
   "metadata": {},
   "source": [
    "We will evaluate the Logistic Regression Classifier on the Hold out test data. This data has not not been seen by the model. "
   ]
  },
  {
   "cell_type": "code",
   "execution_count": 80,
   "id": "701aa0b9",
   "metadata": {},
   "outputs": [
    {
     "name": "stdout",
     "output_type": "stream",
     "text": [
      "Logistic Classifier Test Accuracy Score: 0.74\n",
      "\n",
      "Logistic Classifier Test Precision Score: 0.88\n",
      "\n",
      "Logistic Classifier Test Recall Score: 0.79\n"
     ]
    }
   ],
   "source": [
    "log_pred=log_clf.predict(X_test)\n",
    "print('Logistic Classifier Test Accuracy Score: {}'.format(round(accuracy_score(y_test,log_pred),2)))\n",
    "print('\\nLogistic Classifier Test Precision Score: {}'.format(round(precision_score(y_test,log_pred),2)))\n",
    "print('\\nLogistic Classifier Test Recall Score: {}'.format(round(recall_score(y_test,log_pred),2)))"
   ]
  },
  {
   "cell_type": "markdown",
   "id": "82cf8a9d",
   "metadata": {},
   "source": [
    "### GradientBoosting Classifier"
   ]
  },
  {
   "cell_type": "code",
   "execution_count": 81,
   "id": "22a70429",
   "metadata": {},
   "outputs": [
    {
     "data": {
      "text/plain": [
       "GradientBoostingClassifier(random_state=42)"
      ]
     },
     "execution_count": 81,
     "metadata": {},
     "output_type": "execute_result"
    }
   ],
   "source": [
    "# Gradient Boosting Classifier\n",
    "grad_clf=GradientBoostingClassifier(random_state=42)\n",
    "grad_clf.fit(X_train,y_train)"
   ]
  },
  {
   "cell_type": "code",
   "execution_count": 82,
   "id": "c6e7c405",
   "metadata": {},
   "outputs": [
    {
     "name": "stdout",
     "output_type": "stream",
     "text": [
      "Accuracy Score: 0.84\n",
      "\n",
      "Cross Validation Accuracy Score: 0.83\n",
      "\n",
      "               precision    recall  f1-score   support\n",
      "\n",
      "           0       0.52      0.05      0.09       987\n",
      "           1       0.83      0.99      0.90      4674\n",
      "\n",
      "    accuracy                           0.83      5661\n",
      "   macro avg       0.68      0.52      0.50      5661\n",
      "weighted avg       0.78      0.83      0.76      5661\n",
      "\n"
     ]
    },
    {
     "data": {
      "image/png": "[encoded data removed]",
      "text/plain": [
       "<Figure size 720x720 with 2 Axes>"
      ]
     },
     "metadata": {},
     "output_type": "display_data"
    },
    {
     "data": {
      "text/plain": [
       "array([1, 1, 1, ..., 1, 1, 1])"
      ]
     },
     "execution_count": 82,
     "metadata": {},
     "output_type": "execute_result"
    },
    {
     "data": {
      "image/png": "[encoded data removed]",
      "text/plain": [
       "<Figure size 720x720 with 1 Axes>"
      ]
     },
     "metadata": {},
     "output_type": "display_data"
    }
   ],
   "source": [
    "Evaluation_Report(grad_clf,X_train,y_train)"
   ]
  },
  {
   "cell_type": "markdown",
   "id": "ece1d5f9",
   "metadata": {},
   "source": [
    "The  Default GradientBoostingClassifier has same problem of class imbalance as the Logistic Regression as shown in the result. The GBC does not support Class weights therefore we will employ a different approach to solve the problem of imbalance."
   ]
  },
  {
   "cell_type": "markdown",
   "id": "2bbeee9c",
   "metadata": {},
   "source": [
    "### Gradient Boosting Tuning"
   ]
  },
  {
   "cell_type": "markdown",
   "id": "d3d8d078",
   "metadata": {},
   "source": [
    "Tuning the model will most likely search for the best parameters that will yield better performance on the model. This may mean improve performance on the majority class and non-performance on the minority class, for this reason we will define a ``Scorer`` that will used in the grid search, this scorer tries to get the parameters that maximizes the performance of the model on the minority class."
   ]
  },
  {
   "cell_type": "code",
   "execution_count": 91,
   "id": "022231fe",
   "metadata": {},
   "outputs": [
    {
     "data": {
      "text/plain": [
       "make_scorer(f1_score, average=binary, pos_label=0)"
      ]
     },
     "execution_count": 91,
     "metadata": {},
     "output_type": "execute_result"
    }
   ],
   "source": [
    "# Defining Scorer to calculate f1_score of the minority class\n",
    "f1_min_scorer=make_scorer(f1_score,average='binary',pos_label=0) # Make Scorer is an Sklearn Function used to make custome scorers\n",
    "f1_min_scorer"
   ]
  },
  {
   "cell_type": "code",
   "execution_count": 92,
   "id": "4013fc9b",
   "metadata": {},
   "outputs": [
    {
     "data": {
      "text/plain": [
       "GridSearchCV(cv=3, estimator=GradientBoostingClassifier(random_state=42),\n",
       "             param_grid={'max_depth': [5, 10], 'max_leaf_nodes': [50, 75],\n",
       "                         'min_samples_leaf': [5, 8, 10],\n",
       "                         'min_samples_split': [2, 5]},\n",
       "             scoring=make_scorer(f1_score, average=binary, pos_label=0))"
      ]
     },
     "execution_count": 92,
     "metadata": {},
     "output_type": "execute_result"
    }
   ],
   "source": [
    "params_grid={'min_samples_split':[2,5],'min_samples_leaf':[5,8,10],'max_leaf_nodes':[50,75],'max_depth':[5,10]} # Parameters to be tried \n",
    "grid=GridSearchCV(grad_clf,param_grid=params_grid,cv=3,scoring=f1_min_scorer) # Implements the Grad Clf for diffrent values of the parameters and evaluate using 3 Fold cross validation.\n",
    "grid.fit(X_test,y_test) # Fits the Grid search on test data"
   ]
  },
  {
   "cell_type": "code",
   "execution_count": 93,
   "id": "92036096",
   "metadata": {},
   "outputs": [
    {
     "data": {
      "text/plain": [
       "({'max_depth': 10,\n",
       "  'max_leaf_nodes': 50,\n",
       "  'min_samples_leaf': 8,\n",
       "  'min_samples_split': 2},\n",
       " 0.19326656101036907)"
      ]
     },
     "execution_count": 93,
     "metadata": {},
     "output_type": "execute_result"
    }
   ],
   "source": [
    "# Show the Best params\n",
    "grid.best_params_,grid.best_score_"
   ]
  },
  {
   "cell_type": "code",
   "execution_count": 94,
   "id": "89cf7422",
   "metadata": {},
   "outputs": [
    {
     "data": {
      "text/plain": [
       "GradientBoostingClassifier(max_depth=10, max_leaf_nodes=50, min_samples_leaf=8)"
      ]
     },
     "execution_count": 94,
     "metadata": {},
     "output_type": "execute_result"
    }
   ],
   "source": [
    "# Gradient Boosting Classifier\n",
    "grad_clf=GradientBoostingClassifier(**grid.best_params_) # Uses the best params from Grid Search\n",
    "grad_clf.fit(X_train,y_train) # Fits Tuned parameter Model on train data."
   ]
  },
  {
   "cell_type": "code",
   "execution_count": 95,
   "id": "4c27d536",
   "metadata": {},
   "outputs": [
    {
     "name": "stdout",
     "output_type": "stream",
     "text": [
      "Accuracy Score: 0.89\n",
      "\n",
      "Cross Validation Accuracy Score: 0.83\n",
      "\n",
      "               precision    recall  f1-score   support\n",
      "\n",
      "           0       0.51      0.13      0.21       987\n",
      "           1       0.84      0.97      0.90      4674\n",
      "\n",
      "    accuracy                           0.83      5661\n",
      "   macro avg       0.68      0.55      0.56      5661\n",
      "weighted avg       0.78      0.83      0.78      5661\n",
      "\n"
     ]
    },
    {
     "data": {
      "image/png": "[encoded data removed]",
      "text/plain": [
       "<Figure size 720x720 with 2 Axes>"
      ]
     },
     "metadata": {},
     "output_type": "display_data"
    },
    {
     "data": {
      "text/plain": [
       "array([1, 0, 1, ..., 1, 1, 1])"
      ]
     },
     "execution_count": 95,
     "metadata": {},
     "output_type": "execute_result"
    },
    {
     "data": {
      "image/png": "[encoded data removed]",
      "text/plain": [
       "<Figure size 720x720 with 1 Axes>"
      ]
     },
     "metadata": {},
     "output_type": "display_data"
    }
   ],
   "source": [
    "Evaluation_Report(grad_clf,X_train,y_train)"
   ]
  },
  {
   "cell_type": "markdown",
   "id": "d7359d53",
   "metadata": {},
   "source": [
    "### Gradient Boosting : Test Evaluation"
   ]
  },
  {
   "cell_type": "code",
   "execution_count": 96,
   "id": "eb61cdab",
   "metadata": {},
   "outputs": [
    {
     "name": "stdout",
     "output_type": "stream",
     "text": [
      "Logistic Classifier Test Accuracy Score: 0.81\n"
     ]
    }
   ],
   "source": [
    "grad_pred=grad_clf.predict(X_test)\n",
    "print('Logistic Classifier Test Accuracy Score: {}'.format(round(accuracy_score(y_test,grad_pred),2)))"
   ]
  },
  {
   "cell_type": "markdown",
   "id": "45176c6c",
   "metadata": {},
   "source": [
    "#### Discussion of Result"
   ]
  },
  {
   "cell_type": "markdown",
   "id": "deb3b35b",
   "metadata": {},
   "source": [
    "For this task,the Logistic Regression was first implemented using the default hyperparameters and the model gotten indicated an overfit of the Majority Class (Helpful Reviews) of the Train data.We then Applied class weights by assigning a weight of 4 to the minority class 0 (Unhelpful Reviews) and a class weight of 1 to the majority class 1 (Helpful Reviews) to attempt to solve this problem of imbalance. "
   ]
  },
  {
   "cell_type": "markdown",
   "id": "82f6954f",
   "metadata": {},
   "source": [
    "The GradientBoosting algorithm had bias towards the majority class ( Helpful Reviews) This caused it to overfit and memorise this class. For the GradientBoosting Algorithm this problem of class imbalance was handled by Tuning the Algorithm to optimise the f1 score for the minority class (Unhelpful reviews) this was done by defining a custom scorer, The Tuned model performed better on the minority class. "
   ]
  },
  {
   "cell_type": "markdown",
   "id": "9942236f",
   "metadata": {},
   "source": [
    "The Logistic Regression Algorithm produced better results on both classes for this task. For this reason the results will be outlined below."
   ]
  },
  {
   "cell_type": "markdown",
   "id": "e694db79",
   "metadata": {},
   "source": [
    "At the end of Data Modelling using Logistic Regression the following ``Observations`` were made and ``results`` obtained:\n",
    "\n",
    "1. An Overall Accuracy of 0.82 was gotten when the model was tested on the train data. This is not a true measure of the performance of the model.\n",
    "3. An overall Accuracy of 0.75 was achieved when evaluated using Cross Validation. This is rather a true representation of how the model may likely perform on unseen data.\n",
    "4. Other Metrics Used were tested using Cross Validation these Includes:\n",
    "5. Precision Score\n",
    "    1. Majority Class(Class 1): 88% (0.77)\n",
    "    2. Minority Class (Class 0) : 34% (0.34)\n",
    "6. Recall Score \n",
    "    1. Majority Class (Class 1): 86% (0.86)\n",
    "    2. Minority Class (Class 0) : 50% (0.50)\n",
    "7. F1 Score\n",
    "    1. Majority Class (Class 1): 84% (0.84)\n",
    "    2. Minority Class (Class 0): 41% (0.84)"
   ]
  },
  {
   "cell_type": "markdown",
   "id": "97180b64",
   "metadata": {},
   "source": [
    "A Models Performance ``Confusion Matrix`` shows the Number of Classifications Gotten correctly and wrongly.There are  5823 Helpful Reviews Classes (1) and 1254 Unhelpful Reviews classes(0), The Confusion Matrix shows that:\n",
    "1. Of the 5823 Helpful Classes, 4500 were Predicted Correctly as Positives (True Positives,loc: Bottom Right Corner) while 130 were Wrongly Predicted (False Postives,loc: Bottom Left Corner).\n",
    "2. Of the 1254 Negative Classes, 130 were predicted Correctly as Unhelpful Reviews (True Negatives, loc: Top Left Corner) While 860 were wrongly classified as Helpful Reviews (False Negatives, loc: Top Right Corner).\n"
   ]
  },
  {
   "cell_type": "markdown",
   "id": "e6ee9a34",
   "metadata": {},
   "source": [
    "The Model Results still shows a bias towards the Helpful Review Class (Class 1) which is the majority class with less severity compared with the earlier models with default parameters. The Performance on the minority class (Unhelpful Review) can be improved by adjusting certain parameters such as increasing its class weights for the Logistic Regression but his will come at the detriment of its performance on the majority class. For the gradient Boosting Classifier This can be improved by epanding the grid search space for hyperparameter tuning to find the best hyperparameters that yields the best F1_score for the minority class. Adjusting the model depends on its need and expectation, if exact prediction of the minority class is desired then the earlier recommendations will be implemented ."
   ]
  },
  {
   "cell_type": "markdown",
   "id": "0ea76ab4",
   "metadata": {},
   "source": [
    "#### Comparison of Review Sentiment and Review Helpfulness Classification "
   ]
  },
  {
   "cell_type": "markdown",
   "id": "ff8bfb97",
   "metadata": {},
   "source": [
    "To make a logical comparison between the two different classification implemented, the threshold for the Review Helpfulness classification was set to 0.5, Review Helpfulness below 0.5 were set to unhelpful while those above 0.5 was set to helpful. This was done to correspond to the threshold for the review sentiment which specifies that any stars ratings below from 1-2 (Inclusive) were negative while those between 3-4 (Inclusive) were positive."
   ]
  },
  {
   "cell_type": "markdown",
   "id": "d44e1ab9",
   "metadata": {},
   "source": [
    "1. Review Helpfulness had class imbalance with a ratio ``0.79:0.21`` with the helpful class having the majority. Review Sentiment classifiction based on star-ratings had closely equal ``class ratio``. This signifies that Some reviews that had lower star-ratings were still considered helpful thereby having a higher Review Helpfulness Number."
   ]
  },
  {
   "cell_type": "raw",
   "id": "af669f0a",
   "metadata": {},
   "source": [
    "Review Sentiments Classification Results:\n",
    "    1. Minority Class 0 (Negative Reviews) f1_score : 0.73\n",
    "    2. Majority Class 1 (Positive Reviews) f1_score : 0.81\n",
    "Review Helpfulness Classification Results:\n",
    "    1. Minority Class 0 ( Unhelpful Reviews) f1_score : 0.41\n",
    "    2. Majority Class 1 (helpful Reviews) f1_score : 0.84"
   ]
  },
  {
   "cell_type": "markdown",
   "id": "12b6f677",
   "metadata": {},
   "source": [
    "The Results for the two classifiers shown above shows that although Review Helpfulness Classification has higher f1_score overall for class 1 it performs relatively poorer on class 0 which is its minority class unlike the Review sentiment classification that performs well on both of its classes. This is because the Review Helpfulness classification is bias towards the Majority class bacause of class imbalance. It becomes clearer if the precision scores are compared "
   ]
  },
  {
   "cell_type": "raw",
   "id": "56e82b51",
   "metadata": {},
   "source": [
    "Review Sentiments Classification Results:\n",
    "    1. Minority Class 0 (Negative Reviews) precision_score : 0.79\n",
    "    2. Majority Class 1 (Positive Reviews) precision_score : 0.77\n",
    "Review Helpfulness Classification Results:\n",
    "    1. Minority Class 0 ( Unhelpful Reviews) precision_score : 0.34\n",
    "    2. Majority Class 1 (helpful Reviews) precision_score : 0.77"
   ]
  },
  {
   "cell_type": "markdown",
   "id": "526a2ddf",
   "metadata": {},
   "source": [
    "The Precision Results shown above shows that Review Sentiment Classifiction serves a reliable way to achieve good results on both classes without the problem of bias. Therefore we can suggest that Review Sentiments provides a Reliable way of classifying the reviews when compared with the Review Helpfulness information."
   ]
  },
  {
   "cell_type": "markdown",
   "id": "2a03ada1",
   "metadata": {},
   "source": [
    "#### Notes\n",
    "\n",
    "1. Only the top 1000 words from the text was selected to be used to be used for model building this was done to (i) Reduce the complexity of the model. (ii) To reduce the feature space and make the model trainable, most machine learning models begin to fail when the feature space becomes too large (iii) To prevent overfitting of the model, using much models have the advantage of exposing the model to more information but also have the disadvantage of exposing the model to words that are more specific to a particuar data points, this can cause the model to memorise these features and fail to perform well when exposed to unseen data.\n",
    "2. Tf-idf( Term Frequency-Inverse Document Frequency) was used for data vectorization."
   ]
  }
 ],
 "metadata": {
  "kernelspec": {
   "display_name": "Python 3 (ipykernel)",
   "language": "python",
   "name": "python3"
  },
  "language_info": {
   "codemirror_mode": {
    "name": "ipython",
    "version": 3
   },
   "file_extension": ".py",
   "mimetype": "text/x-python",
   "name": "python",
   "nbconvert_exporter": "python",
   "pygments_lexer": "ipython3",
   "version": "3.9.7"
  }
 },
 "nbformat": 4,
 "nbformat_minor": 5
}
