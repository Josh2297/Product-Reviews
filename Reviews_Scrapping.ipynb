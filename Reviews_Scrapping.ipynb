{
 "cells": [
  {
   "cell_type": "markdown",
   "id": "0e16f660",
   "metadata": {},
   "source": [
    "# Title : Product Reviews Data Collection\n"
   ]
  },
  {
   "cell_type": "markdown",
   "id": "11099fd7",
   "metadata": {},
   "source": [
    "### Comp Number : 21202384"
   ]
  },
  {
   "cell_type": "markdown",
   "id": "3430eff2",
   "metadata": {},
   "source": [
    "### URL : 'http://mlg.ucd.ie/modules/python/assign2/21202384/'"
   ]
  },
  {
   "cell_type": "code",
   "execution_count": 1,
   "id": "e48fe7a9",
   "metadata": {},
   "outputs": [],
   "source": [
    "# Import needed libraries\n",
    "import requests\n",
    "from bs4 import BeautifulSoup\n",
    "import re # Regular Expression Library\n",
    "import os\n",
    "import json"
   ]
  },
  {
   "cell_type": "markdown",
   "id": "f4524fbe",
   "metadata": {},
   "source": [
    "Beautiful Soup is a Python Library that makes web scrapping easier, it can easily identify tags and interfaces very well with HTML language.\n",
    "Requests Library is used to query the site to return the raw HTML content of the page. Re is the Regular expression Library used to string manipulation"
   ]
  },
  {
   "cell_type": "markdown",
   "id": "92a2bc94",
   "metadata": {},
   "source": [
    "We aim to get product reviews and other infomation from The URL above. The Main page gives a list of the Product reviews classified by months with Links to access them. we first scrap this main page to get the HTML links for all the Months to be collected and store these links in a python List."
   ]
  },
  {
   "cell_type": "code",
   "execution_count": 2,
   "id": "3ca2bbe7",
   "metadata": {},
   "outputs": [
    {
     "data": {
      "text/plain": [
       "200"
      ]
     },
     "execution_count": 2,
     "metadata": {},
     "output_type": "execute_result"
    }
   ],
   "source": [
    "url_to_site='http://mlg.ucd.ie/modules/python/assign2/21202384/'\n",
    "main_page=requests.get(url_to_site) # Querys the url passed to it and return the Raw HTML content if request is successful\n",
    "main_page.status_code"
   ]
  },
  {
   "cell_type": "markdown",
   "id": "5342c794",
   "metadata": {},
   "source": [
    "Status Code 200 indicates a succesful request"
   ]
  },
  {
   "cell_type": "code",
   "execution_count": 3,
   "id": "b2ca796f",
   "metadata": {},
   "outputs": [
    {
     "data": {
      "text/plain": [
       "'<!DOCTYPE html>\\n<html lang=\"en\">\\n<head>\\n    <meta name=\"robots\" content=\"noindex\">  \\n    <meta name=\"description\" content=\"Content on this site is posted for teaching purposes only. Original data is from theguardian.com\">\\n    <meta charset=\"utf-8\">\\n    <meta http-equiv=\"X-UA-Compatible\" content=\"IE=edge\">\\n    <meta name=\"viewport\" content=\"width=device-width, initial-scale=1\">\\n    <title>Product Reviews Archive Home</title>\\n    <link rel=\"shortcut icon\" href=\"../images/favicon.ico\">\\n    <!-- Bootstrap core CSS -->\\n    <link href=\"../assets/css/bootstrap.css\" rel=\"stylesheet\">\\n    <!-- Custom styles for this template -->\\n    <link href=\"../assets/css/style.css\" rel=\"stylesheet\">\\n    <link href=\"../assets/css/font-awesome.min.css\" rel=\"stylesheet\">\\n    <script src=\"../assets/js/modernizr.js\"></script>\\n</head>\\n<body>\\n    <div class=\"container mtb\">\\n        <div class=\"jumbotron\">\\n            <h1><a href=\\'index.html\\'>Product Reviews Archive</a></h1>\\n            <p>Archive of user reviews from 2016 &mdash; 2021, organised by month</p>\\n        </div>\\n\\n        <div class=\"row\">\\n            <div id=\"content\" class=\"col-md-10\">\\n                <div id=\"all\">\\n\\n   \\n    \\n\\n<div class=\"list-title\">Year: 2016 (1,528 reviews)</div>\\n\\t\\t\\t<div class=\"list-group\">\\n\\t\\t\\t<a href=\\'reviews-2016-jan-01.html\\' class=\\'list-group-item list-group-item-action\\'>&nbsp;January 2016&nbsp;&nbsp;[153]</a>\\n\\t\\t\\t<a href=\\'reviews-2016-feb-01.html\\' class=\\'list-group-item list-group-item-action\\'>&nbsp;February 2016&nbsp;&nbsp;[121]</a>\\n\\t\\t\\t<a href=\\'reviews-2016-mar-01.html\\' class=\\'list-group-item list-group-item-action\\'>&nbsp;March 2016&nbsp;&nbsp;[137]</a>\\n\\t\\t\\t<a href=\\'reviews-2016-apr-01.html\\' class=\\'list-group-item list-group-item-action\\'>&nbsp;April 2016&nbsp;&nbsp;[126]</a>\\n\\t\\t\\t<a href=\\'reviews-2016-may-01.html\\' class=\\'list-group-item list-group-item-action\\'>&nbsp;May 2016&nbsp;&nbsp;[146]</a>\\n\\t\\t\\t<a href=\\'reviews-2016-jun-01.html\\' class=\\'list-group-item list-group-item-action\\'>&nbsp;June 2016&nbsp;&nbsp;[130]</a>\\n\\t\\t\\t<a href=\\'reviews-2016-jul-01.html\\' class=\\'list-group-item list-group-item-action\\'>&nbsp;July 2016&nbsp;&nbsp;[118]</a>\\n\\t\\t\\t<a href=\\'reviews-2016-aug-01.html\\' class=\\'list-group-item list-group-item-action\\'>&nbsp;August 2016&nbsp;&nbsp;[113]</a>\\n\\t\\t\\t<a href=\\'reviews-2016-sep-01.html\\' class=\\'list-group-item list-group-item-action\\'>&nbsp;September 2016&nbsp;&nbsp;[103]</a>\\n\\t\\t\\t<a href=\\'reviews-2016-oct-01.html\\' class=\\'list-group-item list-group-item-action\\'>&nbsp;October 2016&nbsp;&nbsp;[130]</a>\\n\\t\\t\\t<a href=\\'reviews-2016-nov-01.html\\' class=\\'list-group-item list-group-item-action\\'>&nbsp;November 2016&nbsp;&nbsp;[111]</a>\\n\\t\\t\\t<a href=\\'reviews-2016-dec-01.html\\' class=\\'list-group-item list-group-item-action\\'>&nbsp;December 2016&nbsp;&nbsp;[140]</a>\\n\\t\\t\\t</div>\\n\\t\\t\\t<div class=\"list-title\">Year: 2017 (1,560 reviews)</div>\\n\\t\\t\\t<div class=\"list-group\">\\n\\t\\t\\t<a href=\\'reviews-2017-jan-01.html\\' class=\\'list-group-item list-group-item-action\\'>&nbsp;January 2017&nbsp;&nbsp;[140]</a>\\n\\t\\t\\t<a href=\\'reviews-2017-feb-01.html\\' class=\\'list-group-item list-group-item-action\\'>&nbsp;February 2017&nbsp;&nbsp;[121]</a>\\n\\t\\t\\t<a href=\\'reviews-2017-mar-01.html\\' class=\\'list-group-item list-group-item-action\\'>&nbsp;March 2017&nbsp;&nbsp;[143]</a>\\n\\t\\t\\t<a href=\\'reviews-2017-apr-01.html\\' class=\\'list-group-item list-group-item-action\\'>&nbsp;April 2017&nbsp;&nbsp;[115]</a>\\n\\t\\t\\t<a href=\\'reviews-2017-may-01.html\\' class=\\'list-group-item list-group-item-action\\'>&nbsp;May 2017&nbsp;&nbsp;[134]</a>\\n\\t\\t\\t<a href=\\'reviews-2017-jun-01.html\\' class=\\'list-group-item list-group-item-action\\'>&nbsp;June 2017&nbsp;&nbsp;[113]</a>\\n\\t\\t\\t<a href=\\'reviews-2017-jul-01.html\\' class=\\'list-group-item list-group-item-action\\'>&nbsp;July 2017&nbsp;&nbsp;[110]</a>\\n\\t\\t\\t<a href=\\'reviews-2017-aug-01.html\\' class=\\'list-group-item list-group-item-action\\'>&nbsp;August 2017&nbsp;&nbsp;[153]</a>\\n\\t\\t\\t<a href=\\'reviews-2017-sep-01.html\\' class=\\'list-group-item list-group-item-action\\'>&nbsp;September 2017&nbsp;&nbsp;[140]</a>\\n\\t\\t\\t<a href=\\'reviews-2017-oct-01.html\\' class=\\'list-group-item list-group-item-action\\'>&nbsp;October 2017&nbsp;&nbsp;[124]</a>\\n\\t\\t\\t<a href=\\'reviews-2017-nov-01.html\\' class=\\'list-group-item list-group-item-action\\'>&nbsp;November 2017&nbsp;&nbsp;[121]</a>\\n\\t\\t\\t<a href=\\'reviews-2017-dec-01.html\\' class=\\'list-group-item list-group-item-action\\'>&nbsp;December 2017&nbsp;&nbsp;[146]</a>\\n\\t\\t\\t</div>\\n\\t\\t\\t<div class=\"list-title\">Year: 2018 (1,528 reviews)</div>\\n\\t\\t\\t<div class=\"list-group\">\\n\\t\\t\\t<a href=\\'reviews-2018-jan-01.html\\' class=\\'list-group-item list-group-item-action\\'>&nbsp;January 2018&nbsp;&nbsp;[107]</a>\\n\\t\\t\\t<a href=\\'reviews-2018-feb-01.html\\' class=\\'list-group-item list-group-item-action\\'>&nbsp;February 2018&nbsp;&nbsp;[122]</a>\\n\\t\\t\\t<a href=\\'reviews-2018-mar-01.html\\' class=\\'list-group-item list-group-item-action\\'>&nbsp;March 2018&nbsp;&nbsp;[137]</a>\\n\\t\\t\\t<a href=\\'reviews-2018-apr-01.html\\' class=\\'list-group-item list-group-item-action\\'>&nbsp;April 2018&nbsp;&nbsp;[118]</a>\\n\\t\\t\\t<a href=\\'reviews-2018-may-01.html\\' class=\\'list-group-item list-group-item-action\\'>&nbsp;May 2018&nbsp;&nbsp;[139]</a>\\n\\t\\t\\t<a href=\\'reviews-2018-jun-01.html\\' class=\\'list-group-item list-group-item-action\\'>&nbsp;June 2018&nbsp;&nbsp;[129]</a>\\n\\t\\t\\t<a href=\\'reviews-2018-jul-01.html\\' class=\\'list-group-item list-group-item-action\\'>&nbsp;July 2018&nbsp;&nbsp;[141]</a>\\n\\t\\t\\t<a href=\\'reviews-2018-aug-01.html\\' class=\\'list-group-item list-group-item-action\\'>&nbsp;August 2018&nbsp;&nbsp;[123]</a>\\n\\t\\t\\t<a href=\\'reviews-2018-sep-01.html\\' class=\\'list-group-item list-group-item-action\\'>&nbsp;September 2018&nbsp;&nbsp;[126]</a>\\n\\t\\t\\t<a href=\\'reviews-2018-oct-01.html\\' class=\\'list-group-item list-group-item-action\\'>&nbsp;October 2018&nbsp;&nbsp;[141]</a>\\n\\t\\t\\t<a href=\\'reviews-2018-nov-01.html\\' class=\\'list-group-item list-group-item-action\\'>&nbsp;November 2018&nbsp;&nbsp;[116]</a>\\n\\t\\t\\t<a href=\\'reviews-2018-dec-01.html\\' class=\\'list-group-item list-group-item-action\\'>&nbsp;December 2018&nbsp;&nbsp;[129]</a>\\n\\t\\t\\t</div>\\n\\t\\t\\t<div class=\"list-title\">Year: 2019 (1,578 reviews)</div>\\n\\t\\t\\t<div class=\"list-group\">\\n\\t\\t\\t<a href=\\'reviews-2019-jan-01.html\\' class=\\'list-group-item list-group-item-action\\'>&nbsp;January 2019&nbsp;&nbsp;[122]</a>\\n\\t\\t\\t<a href=\\'reviews-2019-feb-01.html\\' class=\\'list-group-item list-group-item-action\\'>&nbsp;February 2019&nbsp;&nbsp;[105]</a>\\n\\t\\t\\t<a href=\\'reviews-2019-mar-01.html\\' class=\\'list-group-item list-group-item-action\\'>&nbsp;March 2019&nbsp;&nbsp;[128]</a>\\n\\t\\t\\t<a href=\\'reviews-2019-apr-01.html\\' class=\\'list-group-item list-group-item-action\\'>&nbsp;April 2019&nbsp;&nbsp;[126]</a>\\n\\t\\t\\t<a href=\\'reviews-2019-may-01.html\\' class=\\'list-group-item list-group-item-action\\'>&nbsp;May 2019&nbsp;&nbsp;[165]</a>\\n\\t\\t\\t<a href=\\'reviews-2019-jun-01.html\\' class=\\'list-group-item list-group-item-action\\'>&nbsp;June 2019&nbsp;&nbsp;[122]</a>\\n\\t\\t\\t<a href=\\'reviews-2019-jul-01.html\\' class=\\'list-group-item list-group-item-action\\'>&nbsp;July 2019&nbsp;&nbsp;[128]</a>\\n\\t\\t\\t<a href=\\'reviews-2019-aug-01.html\\' class=\\'list-group-item list-group-item-action\\'>&nbsp;August 2019&nbsp;&nbsp;[123]</a>\\n\\t\\t\\t<a href=\\'reviews-2019-sep-01.html\\' class=\\'list-group-item list-group-item-action\\'>&nbsp;September 2019&nbsp;&nbsp;[130]</a>\\n\\t\\t\\t<a href=\\'reviews-2019-oct-01.html\\' class=\\'list-group-item list-group-item-action\\'>&nbsp;October 2019&nbsp;&nbsp;[144]</a>\\n\\t\\t\\t<a href=\\'reviews-2019-nov-01.html\\' class=\\'list-group-item list-group-item-action\\'>&nbsp;November 2019&nbsp;&nbsp;[143]</a>\\n\\t\\t\\t<a href=\\'reviews-2019-dec-01.html\\' class=\\'list-group-item list-group-item-action\\'>&nbsp;December 2019&nbsp;&nbsp;[142]</a>\\n\\t\\t\\t</div>\\n\\t\\t\\t<div class=\"list-title\">Year: 2020 (1,524 reviews)</div>\\n\\t\\t\\t<div class=\"list-group\">\\n\\t\\t\\t<a href=\\'reviews-2020-jan-01.html\\' class=\\'list-group-item list-group-item-action\\'>&nbsp;January 2020&nbsp;&nbsp;[155]</a>\\n\\t\\t\\t<a href=\\'reviews-2020-feb-01.html\\' class=\\'list-group-item list-group-item-action\\'>&nbsp;February 2020&nbsp;&nbsp;[131]</a>\\n\\t\\t\\t<a href=\\'reviews-2020-mar-01.html\\' class=\\'list-group-item list-group-item-action\\'>&nbsp;March 2020&nbsp;&nbsp;[116]</a>\\n\\t\\t\\t<a href=\\'reviews-2020-apr-01.html\\' class=\\'list-group-item list-group-item-action\\'>&nbsp;April 2020&nbsp;&nbsp;[117]</a>\\n\\t\\t\\t<a href=\\'reviews-2020-may-01.html\\' class=\\'list-group-item list-group-item-action\\'>&nbsp;May 2020&nbsp;&nbsp;[131]</a>\\n\\t\\t\\t<a href=\\'reviews-2020-jun-01.html\\' class=\\'list-group-item list-group-item-action\\'>&nbsp;June 2020&nbsp;&nbsp;[113]</a>\\n\\t\\t\\t<a href=\\'reviews-2020-jul-01.html\\' class=\\'list-group-item list-group-item-action\\'>&nbsp;July 2020&nbsp;&nbsp;[120]</a>\\n\\t\\t\\t<a href=\\'reviews-2020-aug-01.html\\' class=\\'list-group-item list-group-item-action\\'>&nbsp;August 2020&nbsp;&nbsp;[139]</a>\\n\\t\\t\\t<a href=\\'reviews-2020-sep-01.html\\' class=\\'list-group-item list-group-item-action\\'>&nbsp;September 2020&nbsp;&nbsp;[123]</a>\\n\\t\\t\\t<a href=\\'reviews-2020-oct-01.html\\' class=\\'list-group-item list-group-item-action\\'>&nbsp;October 2020&nbsp;&nbsp;[123]</a>\\n\\t\\t\\t<a href=\\'reviews-2020-nov-01.html\\' class=\\'list-group-item list-group-item-action\\'>&nbsp;November 2020&nbsp;&nbsp;[129]</a>\\n\\t\\t\\t<a href=\\'reviews-2020-dec-01.html\\' class=\\'list-group-item list-group-item-action\\'>&nbsp;December 2020&nbsp;&nbsp;[127]</a>\\n\\t\\t\\t</div>\\n\\t\\t\\t<div class=\"list-title\">Year: 2021 (1,526 reviews)</div>\\n\\t\\t\\t<div class=\"list-group\">\\n\\t\\t\\t<a href=\\'reviews-2021-jan-01.html\\' class=\\'list-group-item list-group-item-action\\'>&nbsp;January 2021&nbsp;&nbsp;[94]</a>\\n\\t\\t\\t<a href=\\'reviews-2021-feb-01.html\\' class=\\'list-group-item list-group-item-action\\'>&nbsp;February 2021&nbsp;&nbsp;[117]</a>\\n\\t\\t\\t<a href=\\'reviews-2021-mar-01.html\\' class=\\'list-group-item list-group-item-action\\'>&nbsp;March 2021&nbsp;&nbsp;[113]</a>\\n\\t\\t\\t<a href=\\'reviews-2021-apr-01.html\\' class=\\'list-group-item list-group-item-action\\'>&nbsp;April 2021&nbsp;&nbsp;[112]</a>\\n\\t\\t\\t<a href=\\'reviews-2021-may-01.html\\' class=\\'list-group-item list-group-item-action\\'>&nbsp;May 2021&nbsp;&nbsp;[157]</a>\\n\\t\\t\\t<a href=\\'reviews-2021-jun-01.html\\' class=\\'list-group-item list-group-item-action\\'>&nbsp;June 2021&nbsp;&nbsp;[133]</a>\\n\\t\\t\\t<a href=\\'reviews-2021-jul-01.html\\' class=\\'list-group-item list-group-item-action\\'>&nbsp;July 2021&nbsp;&nbsp;[129]</a>\\n\\t\\t\\t<a href=\\'reviews-2021-aug-01.html\\' class=\\'list-group-item list-group-item-action\\'>&nbsp;August 2021&nbsp;&nbsp;[145]</a>\\n\\t\\t\\t<a href=\\'reviews-2021-sep-01.html\\' class=\\'list-group-item list-group-item-action\\'>&nbsp;September 2021&nbsp;&nbsp;[127]</a>\\n\\t\\t\\t<a href=\\'reviews-2021-oct-01.html\\' class=\\'list-group-item list-group-item-action\\'>&nbsp;October 2021&nbsp;&nbsp;[145]</a>\\n\\t\\t\\t<a href=\\'reviews-2021-nov-01.html\\' class=\\'list-group-item list-group-item-action\\'>&nbsp;November 2021&nbsp;&nbsp;[131]</a>\\n\\t\\t\\t<a href=\\'reviews-2021-dec-01.html\\' class=\\'list-group-item list-group-item-action\\'>&nbsp;December 2021&nbsp;&nbsp;[123]</a>\\n\\t\\t\\t</div>\\n             </div>\\n            </div>\\n        </div>\\n    \\n        <div class=\"footer\">\\n        Content on this site is posted for teaching purposes only. \\n        </div>\\n    </div>\\n\\n    <!-- Bootstrap core JavaScript\\n    ================================================== -->\\n    <!-- Placed at the end of the document so the pages load faster -->\\n    <script src=\"https://ajax.googleapis.com/ajax/libs/jquery/1.11.0/jquery.min.js\"></script>\\n    <script src=\"assets/js/bootstrap.min.js\"></script>\\n    <script src=\"assets/js/retina-1.1.0.js\"></script>\\n    <script src=\"assets/js/jquery.hoverdir.js\"></script>\\n    <script src=\"assets/js/jquery.hoverex.min.js\"></script>\\n    <script src=\"assets/js/jquery.isotope.min.js\"></script>\\n    <script src=\"assets/js/custom.js\"></script>\\n  </body>\\n</html>\\n'"
      ]
     },
     "execution_count": 3,
     "metadata": {},
     "output_type": "execute_result"
    }
   ],
   "source": [
    "# A View of The Page \n",
    "main_page.text"
   ]
  },
  {
   "cell_type": "markdown",
   "id": "6de7e87a",
   "metadata": {},
   "source": [
    "The Cell above shows the raw HTML content of the main page. There are numerous HTML tags in the page.The HTML tag 'a' has a class 'href' which holds the links to the reviews. We first convert the raw text of this page into a Beautiful soup object, then from this object extract these information from the tag 'a' and class 'href'."
   ]
  },
  {
   "cell_type": "code",
   "execution_count": 4,
   "id": "304535e4",
   "metadata": {},
   "outputs": [
    {
     "data": {
      "text/plain": [
       "<title>Product Reviews Archive Home</title>"
      ]
     },
     "execution_count": 4,
     "metadata": {},
     "output_type": "execute_result"
    }
   ],
   "source": [
    "# Turning Request result into a beautiful Object using HTML parser\n",
    "soup=BeautifulSoup(main_page.text,'html.parser')\n",
    "soup.title"
   ]
  },
  {
   "cell_type": "markdown",
   "id": "508e1d30",
   "metadata": {},
   "source": [
    "The Code below extracts the HTML links from the page."
   ]
  },
  {
   "cell_type": "code",
   "execution_count": 5,
   "id": "2afc6085",
   "metadata": {},
   "outputs": [
    {
     "data": {
      "text/plain": [
       "['index.html',\n",
       " 'reviews-2016-jan-01.html',\n",
       " 'reviews-2016-feb-01.html',\n",
       " 'reviews-2016-mar-01.html',\n",
       " 'reviews-2016-apr-01.html']"
      ]
     },
     "execution_count": 5,
     "metadata": {},
     "output_type": "execute_result"
    }
   ],
   "source": [
    "links=[] # Empty list to be populated with the links\n",
    "for link in soup.find_all('a'):\n",
    "    links.append(link.get('href')) # Populates the list with the links\n",
    "links[:5]"
   ]
  },
  {
   "cell_type": "markdown",
   "id": "7ac63a28",
   "metadata": {},
   "source": [
    "A List of links in the main page is shown above. The first entry is not considered a useful link and will therefore be dropped"
   ]
  },
  {
   "cell_type": "code",
   "execution_count": 6,
   "id": "52fce835",
   "metadata": {},
   "outputs": [
    {
     "data": {
      "text/plain": [
       "['reviews-2016-jan-01.html',\n",
       " 'reviews-2016-feb-01.html',\n",
       " 'reviews-2016-mar-01.html',\n",
       " 'reviews-2016-apr-01.html',\n",
       " 'reviews-2016-may-01.html']"
      ]
     },
     "execution_count": 6,
     "metadata": {},
     "output_type": "execute_result"
    }
   ],
   "source": [
    "del links[0]\n",
    "links[:5]"
   ]
  },
  {
   "cell_type": "markdown",
   "id": "a8df6c67",
   "metadata": {},
   "source": [
    "A List of Available links from the main page has been extracted, these pages contains the products review to be extracted. The list of links will be iterated over and each of the html link will be used to 'construct' a useful web page link pointing to the product review for that month and year. i.e the links will be appended to the main page url link. Example of a useful link constructed from the htmls extracted is 'http://mlg.ucd.ie/modules/python/assign2/21202384/reviews-2016-jan-01.html'"
   ]
  },
  {
   "cell_type": "markdown",
   "id": "75279322",
   "metadata": {},
   "source": [
    "To Break the codes into bits for ease of explanation and presentation we will use Python Functions and Classes where applicable."
   ]
  },
  {
   "cell_type": "markdown",
   "id": "05f7e000",
   "metadata": {},
   "source": [
    "The Reviews of each month span multiple pages. The First Link has reviews that span 6 pages and reviews data needs to be extracted from the multiple pages of each link. The Cell Below contains the function 'Num of Pages', it recieves as input a product review link, searches for the information about the number of pages in the link and return the total number of pages in that link."
   ]
  },
  {
   "cell_type": "code",
   "execution_count": 7,
   "id": "446fc7ac",
   "metadata": {},
   "outputs": [
    {
     "data": {
      "text/plain": [
       "6"
      ]
     },
     "execution_count": 7,
     "metadata": {},
     "output_type": "execute_result"
    }
   ],
   "source": [
    "def Num_of_Pages(html_link):\n",
    "    url=url_to_site+html_link \n",
    "    page=requests.get(url) # Request for site\n",
    "    soup1=BeautifulSoup(page.text,'html.parser')\n",
    "    h4=soup1.find_all('h4') # This finds the total number of pages in a single html link\n",
    "    return int(h4[0].contents[0][-1])\n",
    "num_of_pages=Num_of_Pages(links[0])\n",
    "num_of_pages"
   ]
  },
  {
   "cell_type": "markdown",
   "id": "3771511f",
   "metadata": {},
   "source": [
    "The product reviews span over multiple pages in a single HTML link, the code above scraps the first page, find the tag containing the information about the number of pages(this is contained in tag 'h4') then extracts the total number of page as an integer."
   ]
  },
  {
   "cell_type": "markdown",
   "id": "20eb413f",
   "metadata": {},
   "source": [
    "The Function Below iterates from 1 to the total number of Pages for the link passed to it, and yield these pages. Yielding these pages means rather than returning the objects itself, it returns a generator that can be used to generate the objects."
   ]
  },
  {
   "cell_type": "code",
   "execution_count": 8,
   "id": "5350582a",
   "metadata": {},
   "outputs": [],
   "source": [
    "# The Function below iterates over the Number of Pages and Yields the pages \n",
    "def Link_Pages(html_link):\n",
    "    url=url_to_site+html_link\n",
    "    num_of_pages=Num_of_Pages(html_link)\n",
    "    for page in range(1,num_of_pages+1):\n",
    "        url=url[:-6]+str(page)+url[-5:]\n",
    "        request_page=requests.get(url) # Request for site\n",
    "        yield BeautifulSoup(request_page.text,'html.parser')"
   ]
  },
  {
   "cell_type": "markdown",
   "id": "490587e4",
   "metadata": {},
   "source": [
    "The Function below extracts the titles from the links and their pages. These Titles are contained in the 'h5' tag as text"
   ]
  },
  {
   "cell_type": "code",
   "execution_count": 10,
   "id": "e4b925be",
   "metadata": {},
   "outputs": [],
   "source": [
    "# Function to extract title\n",
    "def Title_Extraction(pages):\n",
    "    pages=pages.body # Gets the boby of the page\n",
    "    titles_list=pages.find_all(\"h5\") # Find the h5 tag\n",
    "    for i,title in enumerate(titles_list):\n",
    "        titles_list[i]=BeautifulSoup(title.contents[-1]).get_text(strip=True) # Gets the last content of the h5 tag\n",
    "    return titles_list"
   ]
  },
  {
   "cell_type": "markdown",
   "id": "a69c6f75",
   "metadata": {},
   "source": [
    "The h5 tag contains two piece of information. The Source of the Review and the Title. We extract just the title with the code above."
   ]
  },
  {
   "cell_type": "markdown",
   "id": "ff2cf0b5",
   "metadata": {},
   "source": [
    "The star ratings is contained in the img Tag.it is an image in pure HTML format. The function below using regular expression to extract the Star rating information from th 'img' tag"
   ]
  },
  {
   "cell_type": "code",
   "execution_count": 11,
   "id": "9744a247",
   "metadata": {},
   "outputs": [],
   "source": [
    "# Function to extract Star Ratings\n",
    "def Star_Ratings_Extract(pages):\n",
    "    pages=pages.body;rating_list=[]\n",
    "    for rating in pages.find_all('img'):\n",
    "        rating_list.append(re.findall(r'\\d+-star',str(rating))[0])\n",
    "    return rating_list"
   ]
  },
  {
   "cell_type": "markdown",
   "id": "3880d620",
   "metadata": {},
   "source": [
    "the regular expression '\\d+-star' implies tha every entry with a digit followed by '-star' should be extracted. that means an entry such as '5-star' will be extracted."
   ]
  },
  {
   "cell_type": "markdown",
   "id": "b0bd5a9a",
   "metadata": {},
   "source": [
    "The Review Helpfulness information is contained in html tag 'p' and class 'metadata'. there are other information under this tag and class name but the reviews helpfulness information starts with a digit. this will be used to distinguis from other infi in the class tag and tag."
   ]
  },
  {
   "cell_type": "code",
   "execution_count": 12,
   "id": "82641621",
   "metadata": {},
   "outputs": [],
   "source": [
    "# Review HelpFulness Extraction Function\n",
    "def Review_HelpFulness_Extraction(pages):\n",
    "    pages=pages.body;review_help_list=[]\n",
    "    reviews_help=pages.find_all(\"p\", class_=\"metadata\")\n",
    "    for i,review_help in enumerate(reviews_help):\n",
    "        reviews_help[i]=review_help.contents[0]\n",
    "        if reviews_help[i][0].isdigit(): # Selects all data that starts with a didit\n",
    "            review_help_list.append(reviews_help[i])\n",
    "    return review_help_list"
   ]
  },
  {
   "cell_type": "markdown",
   "id": "00517d9f",
   "metadata": {},
   "source": [
    "The Review Text information is contained in html tag 'p' and class 'review-body'."
   ]
  },
  {
   "cell_type": "code",
   "execution_count": 13,
   "id": "5f3ccf5e",
   "metadata": {},
   "outputs": [],
   "source": [
    "# Function to extract Review Text\n",
    "def Reviews_Extraction(pages):\n",
    "    pages=pages.body;reviews_list=[]\n",
    "    reviews=pages.find_all(\"p\", class_=\"review-body\")\n",
    "    for i,review in enumerate(reviews):\n",
    "        reviews_list.append(review.contents[0])\n",
    "    return reviews_list"
   ]
  },
  {
   "cell_type": "markdown",
   "id": "5f77efd7",
   "metadata": {},
   "source": [
    "### Extracting Data"
   ]
  },
  {
   "cell_type": "code",
   "execution_count": 16,
   "id": "ad4750e3",
   "metadata": {},
   "outputs": [
    {
     "name": "stdout",
     "output_type": "stream",
     "text": [
      "Number of Titles in List : 9244\n"
     ]
    },
    {
     "data": {
      "text/plain": [
       "['Perhaps too compostable?',\n",
       " 'This gum is really great!',\n",
       " 'You may need to do a little math to ensure the Superstore quantity is a good deal',\n",
       " 'Who can resist?',\n",
       " 'Best Coca Tea']"
      ]
     },
     "execution_count": 16,
     "metadata": {},
     "output_type": "execute_result"
    }
   ],
   "source": [
    "# Extracting titles\n",
    "titles_list=[]\n",
    "for link in links:\n",
    "    link_page=Link_Pages(link)\n",
    "    for page in link_page:\n",
    "        titles_list.extend(Title_Extraction(page))\n",
    "print('Number of Titles in List : {}'.format(len(titles_list)))\n",
    "titles_list[-5:]"
   ]
  },
  {
   "cell_type": "code",
   "execution_count": 18,
   "id": "a5b5704d",
   "metadata": {},
   "outputs": [
    {
     "name": "stdout",
     "output_type": "stream",
     "text": [
      "Number of Stars Ratings in List : 9244\n"
     ]
    },
    {
     "data": {
      "text/plain": [
       "['3-star', '5-star', '5-star', '4-star', '5-star']"
      ]
     },
     "execution_count": 18,
     "metadata": {},
     "output_type": "execute_result"
    }
   ],
   "source": [
    "# Extracting Star Ratings\n",
    "star_rating_list=[]\n",
    "for link in links:\n",
    "    link_page=Link_Pages(link)\n",
    "    for page in link_page:\n",
    "        star_rating_list.extend(Star_Ratings_Extract(page))\n",
    "print('Number of Stars Ratings in List : {}'.format(len(star_rating_list)))\n",
    "star_rating_list[-5:]"
   ]
  },
  {
   "cell_type": "code",
   "execution_count": 19,
   "id": "9a50db93",
   "metadata": {},
   "outputs": [
    {
     "name": "stdout",
     "output_type": "stream",
     "text": [
      "Number of Review HelpFulness Information in List : 9244\n"
     ]
    },
    {
     "data": {
      "text/plain": [
       "['20 out of 21 users found this review helpful',\n",
       " '17 out of 17 users found this review helpful',\n",
       " '23 out of 25 users found this review helpful',\n",
       " '38 out of 40 users found this review helpful',\n",
       " '6 out of 17 users found this review helpful']"
      ]
     },
     "execution_count": 19,
     "metadata": {},
     "output_type": "execute_result"
    }
   ],
   "source": [
    "# Extracting Review Helpfulness Info\n",
    "review_help_list=[]\n",
    "for link in links:\n",
    "    link_page=Link_Pages(link)\n",
    "    for page in link_page:\n",
    "        review_help_list.extend(Review_HelpFulness_Extraction(page))\n",
    "print('Number of Review HelpFulness Information in List : {}'.format(len(review_help_list)))\n",
    "review_help_list[-5:]"
   ]
  },
  {
   "cell_type": "code",
   "execution_count": 20,
   "id": "6b3ed20d",
   "metadata": {},
   "outputs": [
    {
     "name": "stdout",
     "output_type": "stream",
     "text": [
      "Number of Reviews in List : 9244\n"
     ]
    },
    {
     "data": {
      "text/plain": [
       "[\"I bought these bags to go with Trading ECO-2000 2.4 Gallon Kitchen Compost Waste Collector that I purchased on Superstore. The bags fit perfectly, but they seem to start degrading within a few days. If I took out compost every day, it would be fine, but I empty my compost bucket about twice a week. When I lift a bag to take it outside, it is dripping, so I have to take the whole bucket out and scrub it thoroughly afterwards to get rid of the odor. Previously, when I used a regular plastic shopping bag, leakage was almost never a problem, but it is a regular occurance with these liners. I like that the bags are biodegradable, but rather than purchasing these again, I'll probably go back to re-using plastic bags when my supply runs out--unless I find a sturdier brand. Any suggestions? …\",\n",
       " \"If you have problems with Aspartame (which is in every gum out there...not just sugarfree gums) and you love to chew gum then SteviaDent is really the only option unless you want to eat TicTacs. It is really good although quite expensive, but completely worth it to me so as not to compromise my health. I chewed every gum out there and lots of it, but had recently started to notice a painful lump on the roof of my mouth. My immediate reaction was...of course cancer, but I had 2 dentists and an oral surgeon check it out and all confirmed it was not. Not only that, Aspartame upset my stomach to the point that I had an extreme amount of bloating and gas every day. I didn't initially attribute either of these things to Aspartame, but when I started to notice the lump was bigger and more painful upon chewing my old gum, I started doing my research and Aspartame turned out to be the culprit. I ended up ordering a case of the SteviaDent and pitched everything I owned that contained Asapartame. The lump on the roof of my mouth disappeared within 2 days of not ingesting aspartame and my stomach bloating and gas completely went away. Worth spending the extra $ until more gums start making their product with Stevia instead of Aspartame. …\",\n",
       " 'The product gets 5 stars. This review is more of an FYI. The product amount is not the same as what is typically found in grocery stores (see uploaded image). In the grocery store, you can usually find the 1.8 Oz can that contains 6 packets that makes 12 quarts. That is not what you are getting here. You are getting four 1.2 Oz cans that each contain 8 packets that make 8 quarts. The packets of the store-bought can make 2 quarts each. The Superstore-bought can packets make only 1 quart each. It may take a little math to ensure you are getting a decent value. At the store, it is about 25 cents per quart based on a 3 dollar sale price. …',\n",
       " 'These are a real flashback! And they taste just like you remember. Downright addictive - and everyone will want to mooch some from you - so get plenty. My only complaint is that these are not particularly sturdy toothpicks. They are all about the flavor. …',\n",
       " 'No need of tea bags, just pure whole - leaf coca Strong flavor, dark brew, fresh aroma …']"
      ]
     },
     "execution_count": 20,
     "metadata": {},
     "output_type": "execute_result"
    }
   ],
   "source": [
    "# Extracting Review Helpfulness Info\n",
    "reviews_list=[]\n",
    "for link in links:\n",
    "    link_page=Link_Pages(link)\n",
    "    for page in link_page:\n",
    "        reviews_list.extend(Reviews_Extraction(page))\n",
    "print('Number of Reviews in List : {}'.format(len(reviews_list)))\n",
    "reviews_list[-5:]"
   ]
  },
  {
   "cell_type": "markdown",
   "id": "d9e769d6",
   "metadata": {},
   "source": [
    "The Needed Information and data has been extracted as lists. We put these lists into a dictionary using their names as keys and save these dictionary to disk."
   ]
  },
  {
   "cell_type": "code",
   "execution_count": 21,
   "id": "8e3ad749",
   "metadata": {},
   "outputs": [
    {
     "data": {
      "text/plain": [
       "dict_keys(['Titles', 'Star_Ratings', 'Reviews Help', 'Reviews'])"
      ]
     },
     "execution_count": 21,
     "metadata": {},
     "output_type": "execute_result"
    }
   ],
   "source": [
    "# Saving List as Dictionary\n",
    "data_dict=dict()\n",
    "data_dict['Titles']=titles_list\n",
    "data_dict['Star_Ratings']=star_rating_list\n",
    "data_dict['Reviews Help']=review_help_list\n",
    "data_dict['Reviews']=reviews_list\n",
    "data_dict.keys()"
   ]
  },
  {
   "cell_type": "markdown",
   "id": "27f36ce4",
   "metadata": {},
   "source": [
    "#### Data Save"
   ]
  },
  {
   "cell_type": "code",
   "execution_count": 29,
   "id": "57a69547",
   "metadata": {},
   "outputs": [],
   "source": [
    "# Saving file path and creating file directory\n",
    "path_to_save=r'C:\\Users\\DELL\\Documents\\\\'\n",
    "try:\n",
    "    os.mkdir(path_to_save+'Product_Reviews')\n",
    "except:\n",
    "    pass\n",
    "# Convert to json and save\n",
    "json.dump(data_dict,fp=open(path_to_save+'Product_Reviews\\Reviews_Data.json','w'))\n"
   ]
  },
  {
   "cell_type": "markdown",
   "id": "5700d323",
   "metadata": {},
   "source": [
    "The extracted data has been transformed into a dictionary and saved to disk."
   ]
  }
 ],
 "metadata": {
  "kernelspec": {
   "display_name": "Python 3 (ipykernel)",
   "language": "python",
   "name": "python3"
  },
  "language_info": {
   "codemirror_mode": {
    "name": "ipython",
    "version": 3
   },
   "file_extension": ".py",
   "mimetype": "text/x-python",
   "name": "python",
   "nbconvert_exporter": "python",
   "pygments_lexer": "ipython3",
   "version": "3.9.7"
  }
 },
 "nbformat": 4,
 "nbformat_minor": 5
}
